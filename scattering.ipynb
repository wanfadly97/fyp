{
  "nbformat": 4,
  "nbformat_minor": 0,
  "metadata": {
    "kernelspec": {
      "display_name": "Python 3",
      "language": "python",
      "name": "python3"
    },
    "language_info": {
      "codemirror_mode": {
        "name": "ipython",
        "version": 3
      },
      "file_extension": ".py",
      "mimetype": "text/x-python",
      "name": "python",
      "nbconvert_exporter": "python",
      "pygments_lexer": "ipython3",
      "version": "3.8.5"
    },
    "colab": {
      "name": "scattering.ipynb",
      "provenance": [],
      "include_colab_link": true
    }
  },
  "cells": [
    {
      "cell_type": "markdown",
      "metadata": {
        "id": "view-in-github",
        "colab_type": "text"
      },
      "source": [
        "<a href=\"https://colab.research.google.com/github/wanfadly97/fyp/blob/main/scattering.ipynb\" target=\"_parent\"><img src=\"https://colab.research.google.com/assets/colab-badge.svg\" alt=\"Open In Colab\"/></a>"
      ]
    },
    {
      "cell_type": "code",
      "metadata": {
        "id": "dteMDQD-KOCM"
      },
      "source": [
        "pwd"
      ],
      "execution_count": null,
      "outputs": []
    },
    {
      "cell_type": "code",
      "metadata": {
        "id": "2gMQ1OH8KOCR",
        "outputId": "86e07497-9338-4e00-a1fe-f774254e813c"
      },
      "source": [
        "# Import libraries\n",
        "import pandas as pd\n",
        "import numpy as np\n",
        "from sklearn.manifold import TSNE\n",
        "import re\n",
        "import string\n",
        "import nltk\n",
        "#Import Bokeh\n",
        "from bokeh.io import show, output_notebook, push_notebook\n",
        "from bokeh.plotting import figure\n",
        "from bokeh.models import ColumnDataSource, HoverTool\n",
        "\n",
        "\n",
        "# Load the data\n",
        "df = pd.read_csv('C:\\\\Users\\\\user\\\\Desktop\\\\KEJA PALI\\\\fyp\\\\FoodData.csv')\n",
        "\n",
        "# Display a sample of five rows\n",
        "display(df.sample(5))\n",
        "\n",
        "# Counts of product types\n",
        "df.Group.value_counts()"
      ],
      "execution_count": null,
      "outputs": [
        {
          "output_type": "display_data",
          "data": {
            "text/html": [
              "<div>\n",
              "<style scoped>\n",
              "    .dataframe tbody tr th:only-of-type {\n",
              "        vertical-align: middle;\n",
              "    }\n",
              "\n",
              "    .dataframe tbody tr th {\n",
              "        vertical-align: top;\n",
              "    }\n",
              "\n",
              "    .dataframe thead th {\n",
              "        text-align: right;\n",
              "    }\n",
              "</style>\n",
              "<table border=\"1\" class=\"dataframe\">\n",
              "  <thead>\n",
              "    <tr style=\"text-align: right;\">\n",
              "      <th></th>\n",
              "      <th>Class</th>\n",
              "      <th>Type</th>\n",
              "      <th>Group</th>\n",
              "      <th>Food</th>\n",
              "      <th>Allergy</th>\n",
              "    </tr>\n",
              "  </thead>\n",
              "  <tbody>\n",
              "    <tr>\n",
              "      <th>18</th>\n",
              "      <td>Plant origin</td>\n",
              "      <td>Vegetable</td>\n",
              "      <td>Composite vegetable</td>\n",
              "      <td>Burdock</td>\n",
              "      <td>Ragweed Allergy</td>\n",
              "    </tr>\n",
              "    <tr>\n",
              "      <th>113</th>\n",
              "      <td>Plant origin</td>\n",
              "      <td>Cereal grain and pulse</td>\n",
              "      <td>Pulse</td>\n",
              "      <td>Peanut</td>\n",
              "      <td>Peanut Allergy</td>\n",
              "    </tr>\n",
              "    <tr>\n",
              "      <th>9</th>\n",
              "      <td>Plant origin</td>\n",
              "      <td>Cereal grain and pulse</td>\n",
              "      <td>Pulse</td>\n",
              "      <td>Bean</td>\n",
              "      <td>Legume Allergy</td>\n",
              "    </tr>\n",
              "    <tr>\n",
              "      <th>99</th>\n",
              "      <td>Plant origin</td>\n",
              "      <td>Oil</td>\n",
              "      <td>Oil</td>\n",
              "      <td>Mustard oil</td>\n",
              "      <td>NaN</td>\n",
              "    </tr>\n",
              "    <tr>\n",
              "      <th>160</th>\n",
              "      <td>Plant origin</td>\n",
              "      <td>Oil</td>\n",
              "      <td>Oil</td>\n",
              "      <td>Sunflower oil</td>\n",
              "      <td>NaN</td>\n",
              "    </tr>\n",
              "  </tbody>\n",
              "</table>\n",
              "</div>"
            ],
            "text/plain": [
              "            Class                    Type                Group           Food  \\\n",
              "18   Plant origin               Vegetable  Composite vegetable        Burdock   \n",
              "113  Plant origin  Cereal grain and pulse                Pulse         Peanut   \n",
              "9    Plant origin  Cereal grain and pulse                Pulse           Bean   \n",
              "99   Plant origin                     Oil                  Oil    Mustard oil   \n",
              "160  Plant origin                     Oil                  Oil  Sunflower oil   \n",
              "\n",
              "             Allergy  \n",
              "18   Ragweed Allergy  \n",
              "113   Peanut Allergy  \n",
              "9     Legume Allergy  \n",
              "99               NaN  \n",
              "160              NaN  "
            ]
          },
          "metadata": {
            "tags": []
          }
        },
        {
          "output_type": "execute_result",
          "data": {
            "text/plain": [
              "Cruciferous vegetable         15\n",
              "Pulse                         13\n",
              "Fish                          12\n",
              "Dairy                         11\n",
              "Oil seed                      10\n",
              "Tropical fruit                10\n",
              "Oil                           10\n",
              "Offal                          9\n",
              "Cereal grain                   8\n",
              "Cucurbitaceous vegetable       7\n",
              "Composite vegetable            7\n",
              "Liliaceous vegetable           7\n",
              "Stone fruit                    7\n",
              "Sugar source                   6\n",
              "Berry                          6\n",
              "Pome fruit                     5\n",
              "Potato                         5\n",
              "Umbelliferous vegetable        5\n",
              "Citrus fruit / citric acid     5\n",
              "Miscellaneous vegetable        4\n",
              "Legumes vegetable              3\n",
              "Solanceous vegetable           3\n",
              "Beverage seed                  2\n",
              "Shellfish                      2\n",
              "Herb                           2\n",
              "Mushroom                       2\n",
              "Bee product                    2\n",
              "Mineral water                  1\n",
              "Hop                            1\n",
              "Egg                            1\n",
              "Spice                          1\n",
              "Grape                          1\n",
              "Tea                            1\n",
              "Name: Group, dtype: int64"
            ]
          },
          "metadata": {
            "tags": []
          },
          "execution_count": 2
        }
      ]
    },
    {
      "cell_type": "code",
      "metadata": {
        "id": "0RCeRlnOKOCU"
      },
      "source": [
        "# embedding each ingredients\n",
        "ingredient_idx = {}\n",
        "corpus = []\n",
        "idx = 0\n",
        "ingredients = df['Group'].astype(str)\n",
        "for i in range(len(df)):\n",
        "        ingreds = ingredients[i]\n",
        "        #convert ingredient column into lowercase\n",
        "        ingreds = ingreds.lower()\n",
        "        #split sentences by symbols\n",
        "        tokens=re.split(' | |; |, |\\*|\\n| ,',ingreds)\n",
        "        table = str.maketrans('', '', string.punctuation)\n",
        "        tokens = [w.translate(table) for w in tokens]\n",
        "\n",
        "         #filter out numbers in words\n",
        "        tokens = [word for word in tokens if word.isalpha()]\n",
        "        # filter out stop words\n",
        "        from nltk.corpus import stopwords\n",
        "        stop_words = set(stopwords.words('english'))\n",
        "        tokens = [w for w in tokens if not w in stop_words]\n",
        "\n",
        "        # filter out common words\n",
        "        common_words = {\"enriched\", \"following\", \"ingredients\", \"meal\", \"natural\",\"wax\",\"lake\", \"concentrated\" }\n",
        "        tokens = [w for w in tokens if not w in common_words]\n",
        "        corpus.append(tokens)\n",
        "        for ingredient in tokens:\n",
        "            if ingredient not in ingredient_idx:\n",
        "                ingredient_idx[ingredient] = idx\n",
        "                idx += 1"
      ],
      "execution_count": null,
      "outputs": []
    },
    {
      "cell_type": "code",
      "metadata": {
        "id": "sx8mgaRdKOCX",
        "outputId": "a059c57d-3c07-4386-f998-9e62f1fe15f0"
      },
      "source": [
        "# Get the number of items and tokens\n",
        "M = len(df)                 # The number of the items\n",
        "N = len(ingredient_idx)     # The number of the ingredients\n",
        "print(corpus)\n",
        "# Initialize a matrix of zeros\n",
        "A = np.zeros(shape = (M, N))"
      ],
      "execution_count": null,
      "outputs": [
        {
          "output_type": "stream",
          "text": [
            "[['oil', 'seed'], ['pome', 'fruit'], ['stone', 'fruit'], ['composite', 'vegetable'], ['liliaceous', 'vegetable'], ['tropical', 'fruit'], ['miscellaneous', 'vegetable'], ['tropical', 'fruit'], ['cereal', 'grain'], ['pulse'], ['berry'], ['pulse'], ['berry'], ['fish'], ['pulse'], ['cruciferous', 'vegetable'], ['cruciferous', 'vegetable'], ['cereal', 'grain'], ['composite', 'vegetable'], ['dairy'], ['pulse'], ['dairy'], ['mushroom'], ['cruciferous', 'vegetable'], ['beverage', 'seed'], ['oil'], ['umbelliferous', 'vegetable'], ['dairy'], ['offal'], ['cruciferous', 'vegetable'], ['umbelliferous', 'vegetable'], ['dairy'], ['stone', 'fruit'], ['oil', 'seed'], ['offal'], ['composite', 'vegetable'], ['cruciferous', 'vegetable'], ['oil'], ['beverage', 'seed'], ['cereal', 'grain'], ['oil'], ['oil', 'seed'], ['berry'], ['dairy'], ['shellfish'], ['cucurbitaceous', 'vegetable'], ['dairy'], ['tropical', 'fruit'], ['offal'], ['offal'], ['fish'], ['solanceous', 'vegetable'], ['egg'], ['composite', 'vegetable'], ['sugar', 'source'], ['liliaceous', 'vegetable'], ['cucurbitaceous', 'vegetable'], ['miscellaneous', 'vegetable'], ['oil', 'seed'], ['fish'], ['sugar', 'source'], ['offal'], ['grape'], ['citrus', 'fruit', 'citric', 'acid'], ['oil'], ['legumes', 'vegetable'], ['oil'], ['tropical', 'fruit'], ['bee', 'product'], ['hop'], ['offal'], ['fish'], ['cruciferous', 'vegetable'], ['berry'], ['dairy'], ['pome', 'fruit'], ['tropical', 'fruit'], ['stone', 'fruit'], ['cruciferous', 'vegetable'], ['legumes', 'vegetable'], ['tropical', 'fruit'], ['potato'], ['cruciferous', 'vegetable'], ['sugar', 'source'], ['liliaceous', 'vegetable'], ['citrus', 'fruit', 'citric', 'acid'], ['pulse'], ['composite', 'vegetable'], ['pulse'], ['citrus', 'fruit', 'citric', 'acid'], ['pome', 'fruit'], ['fish'], ['cucurbitaceous', 'vegetable'], ['tropical', 'fruit'], ['cucurbitaceous', 'vegetable'], ['dairy'], ['mineral', 'water'], ['umbelliferous', 'vegetable'], ['stone', 'fruit'], ['oil'], ['cruciferous', 'vegetable'], ['stone', 'fruit'], ['liliaceous', 'vegetable'], ['miscellaneous', 'vegetable'], ['oil'], ['liliaceous', 'vegetable'], ['citrus', 'fruit', 'citric', 'acid'], ['citrus', 'fruit', 'citric', 'acid'], ['tropical', 'fruit'], ['umbelliferous', 'vegetable'], ['umbelliferous', 'vegetable'], ['tropical', 'fruit'], ['stone', 'fruit'], ['pulse'], ['pome', 'fruit'], ['legumes', 'vegetable'], ['pulse'], ['oil', 'seed'], ['pulse'], ['herb'], ['fish'], ['offal'], ['tropical', 'fruit'], ['cereal', 'grain'], ['potato'], ['stone', 'fruit'], ['cucurbitaceous', 'vegetable'], ['cruciferous', 'vegetable'], ['pome', 'fruit'], ['cruciferous', 'vegetable'], ['cruciferous', 'vegetable'], ['oil', 'seed'], ['berry'], ['cereal', 'grain'], ['oil'], ['bee', 'product'], ['cereal', 'grain'], ['oil', 'seed'], ['fish'], ['composite', 'vegetable'], ['spice'], ['fish'], ['fish'], ['oil', 'seed'], ['liliaceous', 'vegetable'], ['offal'], ['shellfish'], ['mushroom'], ['composite', 'vegetable'], ['dairy'], ['pulse'], ['herb'], ['miscellaneous', 'vegetable'], ['cucurbitaceous', 'vegetable'], ['berry'], ['sugar', 'source'], ['sugar', 'source'], ['sugar', 'source'], ['pulse'], ['pulse'], ['oil'], ['oil', 'seed'], ['cereal', 'grain'], ['solanceous', 'vegetable'], ['potato'], ['potato'], ['tea'], ['fish'], ['solanceous', 'vegetable'], ['fish'], ['fish'], ['offal'], ['cruciferous', 'vegetable'], ['cruciferous', 'vegetable'], ['oil'], ['oil', 'seed'], ['cucurbitaceous', 'vegetable'], ['cruciferous', 'vegetable'], ['liliaceous', 'vegetable'], ['cereal', 'grain'], ['dairy'], ['pulse'], ['potato'], ['dairy']]\n"
          ],
          "name": "stdout"
        }
      ]
    },
    {
      "cell_type": "code",
      "metadata": {
        "id": "cocgp0GJKOCY",
        "outputId": "5587cf9d-4ef0-49c2-ea5f-0f72733b0578"
      },
      "source": [
        "corpus"
      ],
      "execution_count": null,
      "outputs": [
        {
          "output_type": "execute_result",
          "data": {
            "text/plain": [
              "[['oil', 'seed'],\n",
              " ['pome', 'fruit'],\n",
              " ['stone', 'fruit'],\n",
              " ['composite', 'vegetable'],\n",
              " ['liliaceous', 'vegetable'],\n",
              " ['tropical', 'fruit'],\n",
              " ['miscellaneous', 'vegetable'],\n",
              " ['tropical', 'fruit'],\n",
              " ['cereal', 'grain'],\n",
              " ['pulse'],\n",
              " ['berry'],\n",
              " ['pulse'],\n",
              " ['berry'],\n",
              " ['fish'],\n",
              " ['pulse'],\n",
              " ['cruciferous', 'vegetable'],\n",
              " ['cruciferous', 'vegetable'],\n",
              " ['cereal', 'grain'],\n",
              " ['composite', 'vegetable'],\n",
              " ['dairy'],\n",
              " ['pulse'],\n",
              " ['dairy'],\n",
              " ['mushroom'],\n",
              " ['cruciferous', 'vegetable'],\n",
              " ['beverage', 'seed'],\n",
              " ['oil'],\n",
              " ['umbelliferous', 'vegetable'],\n",
              " ['dairy'],\n",
              " ['offal'],\n",
              " ['cruciferous', 'vegetable'],\n",
              " ['umbelliferous', 'vegetable'],\n",
              " ['dairy'],\n",
              " ['stone', 'fruit'],\n",
              " ['oil', 'seed'],\n",
              " ['offal'],\n",
              " ['composite', 'vegetable'],\n",
              " ['cruciferous', 'vegetable'],\n",
              " ['oil'],\n",
              " ['beverage', 'seed'],\n",
              " ['cereal', 'grain'],\n",
              " ['oil'],\n",
              " ['oil', 'seed'],\n",
              " ['berry'],\n",
              " ['dairy'],\n",
              " ['shellfish'],\n",
              " ['cucurbitaceous', 'vegetable'],\n",
              " ['dairy'],\n",
              " ['tropical', 'fruit'],\n",
              " ['offal'],\n",
              " ['offal'],\n",
              " ['fish'],\n",
              " ['solanceous', 'vegetable'],\n",
              " ['egg'],\n",
              " ['composite', 'vegetable'],\n",
              " ['sugar', 'source'],\n",
              " ['liliaceous', 'vegetable'],\n",
              " ['cucurbitaceous', 'vegetable'],\n",
              " ['miscellaneous', 'vegetable'],\n",
              " ['oil', 'seed'],\n",
              " ['fish'],\n",
              " ['sugar', 'source'],\n",
              " ['offal'],\n",
              " ['grape'],\n",
              " ['citrus', 'fruit', 'citric', 'acid'],\n",
              " ['oil'],\n",
              " ['legumes', 'vegetable'],\n",
              " ['oil'],\n",
              " ['tropical', 'fruit'],\n",
              " ['bee', 'product'],\n",
              " ['hop'],\n",
              " ['offal'],\n",
              " ['fish'],\n",
              " ['cruciferous', 'vegetable'],\n",
              " ['berry'],\n",
              " ['dairy'],\n",
              " ['pome', 'fruit'],\n",
              " ['tropical', 'fruit'],\n",
              " ['stone', 'fruit'],\n",
              " ['cruciferous', 'vegetable'],\n",
              " ['legumes', 'vegetable'],\n",
              " ['tropical', 'fruit'],\n",
              " ['potato'],\n",
              " ['cruciferous', 'vegetable'],\n",
              " ['sugar', 'source'],\n",
              " ['liliaceous', 'vegetable'],\n",
              " ['citrus', 'fruit', 'citric', 'acid'],\n",
              " ['pulse'],\n",
              " ['composite', 'vegetable'],\n",
              " ['pulse'],\n",
              " ['citrus', 'fruit', 'citric', 'acid'],\n",
              " ['pome', 'fruit'],\n",
              " ['fish'],\n",
              " ['cucurbitaceous', 'vegetable'],\n",
              " ['tropical', 'fruit'],\n",
              " ['cucurbitaceous', 'vegetable'],\n",
              " ['dairy'],\n",
              " ['mineral', 'water'],\n",
              " ['umbelliferous', 'vegetable'],\n",
              " ['stone', 'fruit'],\n",
              " ['oil'],\n",
              " ['cruciferous', 'vegetable'],\n",
              " ['stone', 'fruit'],\n",
              " ['liliaceous', 'vegetable'],\n",
              " ['miscellaneous', 'vegetable'],\n",
              " ['oil'],\n",
              " ['liliaceous', 'vegetable'],\n",
              " ['citrus', 'fruit', 'citric', 'acid'],\n",
              " ['citrus', 'fruit', 'citric', 'acid'],\n",
              " ['tropical', 'fruit'],\n",
              " ['umbelliferous', 'vegetable'],\n",
              " ['umbelliferous', 'vegetable'],\n",
              " ['tropical', 'fruit'],\n",
              " ['stone', 'fruit'],\n",
              " ['pulse'],\n",
              " ['pome', 'fruit'],\n",
              " ['legumes', 'vegetable'],\n",
              " ['pulse'],\n",
              " ['oil', 'seed'],\n",
              " ['pulse'],\n",
              " ['herb'],\n",
              " ['fish'],\n",
              " ['offal'],\n",
              " ['tropical', 'fruit'],\n",
              " ['cereal', 'grain'],\n",
              " ['potato'],\n",
              " ['stone', 'fruit'],\n",
              " ['cucurbitaceous', 'vegetable'],\n",
              " ['cruciferous', 'vegetable'],\n",
              " ['pome', 'fruit'],\n",
              " ['cruciferous', 'vegetable'],\n",
              " ['cruciferous', 'vegetable'],\n",
              " ['oil', 'seed'],\n",
              " ['berry'],\n",
              " ['cereal', 'grain'],\n",
              " ['oil'],\n",
              " ['bee', 'product'],\n",
              " ['cereal', 'grain'],\n",
              " ['oil', 'seed'],\n",
              " ['fish'],\n",
              " ['composite', 'vegetable'],\n",
              " ['spice'],\n",
              " ['fish'],\n",
              " ['fish'],\n",
              " ['oil', 'seed'],\n",
              " ['liliaceous', 'vegetable'],\n",
              " ['offal'],\n",
              " ['shellfish'],\n",
              " ['mushroom'],\n",
              " ['composite', 'vegetable'],\n",
              " ['dairy'],\n",
              " ['pulse'],\n",
              " ['herb'],\n",
              " ['miscellaneous', 'vegetable'],\n",
              " ['cucurbitaceous', 'vegetable'],\n",
              " ['berry'],\n",
              " ['sugar', 'source'],\n",
              " ['sugar', 'source'],\n",
              " ['sugar', 'source'],\n",
              " ['pulse'],\n",
              " ['pulse'],\n",
              " ['oil'],\n",
              " ['oil', 'seed'],\n",
              " ['cereal', 'grain'],\n",
              " ['solanceous', 'vegetable'],\n",
              " ['potato'],\n",
              " ['potato'],\n",
              " ['tea'],\n",
              " ['fish'],\n",
              " ['solanceous', 'vegetable'],\n",
              " ['fish'],\n",
              " ['fish'],\n",
              " ['offal'],\n",
              " ['cruciferous', 'vegetable'],\n",
              " ['cruciferous', 'vegetable'],\n",
              " ['oil'],\n",
              " ['oil', 'seed'],\n",
              " ['cucurbitaceous', 'vegetable'],\n",
              " ['cruciferous', 'vegetable'],\n",
              " ['liliaceous', 'vegetable'],\n",
              " ['cereal', 'grain'],\n",
              " ['dairy'],\n",
              " ['pulse'],\n",
              " ['potato'],\n",
              " ['dairy']]"
            ]
          },
          "metadata": {
            "tags": []
          },
          "execution_count": 5
        }
      ]
    },
    {
      "cell_type": "code",
      "metadata": {
        "id": "Kewcnk9fKOCZ"
      },
      "source": [
        "# Define the oh_encoder function\n",
        "def oh_encoder(tokens):\n",
        "    x = np.zeros(N)\n",
        "    for t in tokens:\n",
        "            # Get the index for each ingredient\n",
        "            idx = ingredient_idx[t]\n",
        "            # Put 1 at the corresponding indices\n",
        "            x[idx] = 1\n",
        "    return x"
      ],
      "execution_count": null,
      "outputs": []
    },
    {
      "cell_type": "code",
      "metadata": {
        "id": "6yCkcVP5KOCa"
      },
      "source": [
        "# Make a document-term matrix\n",
        "i = 0\n",
        "for tokens in corpus:\n",
        "    A[i, :] = oh_encoder(tokens)\n",
        "    i += 1\n",
        "# Dimension reduction with t-SNE\n",
        "model = TSNE(n_components = 2, learning_rate = 20)\n",
        "tsne_features = model.fit_transform(A)\n",
        "\n",
        "# Make X, Y columns\n",
        "df['X'] = tsne_features[:, 0]\n",
        "df['Y'] = tsne_features[:, 1]"
      ],
      "execution_count": null,
      "outputs": []
    },
    {
      "cell_type": "code",
      "metadata": {
        "id": "qbHrufPEKOCb",
        "outputId": "a5dddafd-fdf3-46d7-a7ca-e2deef3b05f3"
      },
      "source": [
        "# Import TSNE\n",
        "from sklearn.manifold import TSNE\n",
        "#Import Matplotlib\n",
        "import matplotlib.pyplot as plt\n",
        "#Import Bokeh\n",
        "from bokeh.io import show, output_notebook, push_notebook\n",
        "from bokeh.plotting import figure\n",
        "from bokeh.models import ColumnDataSource, HoverTool\n",
        "# Import KMeans\n",
        "from sklearn.cluster import KMeans\n",
        "output_notebook()"
      ],
      "execution_count": null,
      "outputs": [
        {
          "output_type": "display_data",
          "data": {
            "text/html": [
              "\n",
              "    <div class=\"bk-root\">\n",
              "        <a href=\"https://bokeh.org\" target=\"_blank\" class=\"bk-logo bk-logo-small bk-logo-notebook\"></a>\n",
              "        <span id=\"1001\">Loading BokehJS ...</span>\n",
              "    </div>"
            ]
          },
          "metadata": {
            "tags": []
          }
        },
        {
          "output_type": "display_data",
          "data": {
            "application/javascript": [
              "\n",
              "(function(root) {\n",
              "  function now() {\n",
              "    return new Date();\n",
              "  }\n",
              "\n",
              "  var force = true;\n",
              "\n",
              "  if (typeof root._bokeh_onload_callbacks === \"undefined\" || force === true) {\n",
              "    root._bokeh_onload_callbacks = [];\n",
              "    root._bokeh_is_loading = undefined;\n",
              "  }\n",
              "\n",
              "  var JS_MIME_TYPE = 'application/javascript';\n",
              "  var HTML_MIME_TYPE = 'text/html';\n",
              "  var EXEC_MIME_TYPE = 'application/vnd.bokehjs_exec.v0+json';\n",
              "  var CLASS_NAME = 'output_bokeh rendered_html';\n",
              "\n",
              "  /**\n",
              "   * Render data to the DOM node\n",
              "   */\n",
              "  function render(props, node) {\n",
              "    var script = document.createElement(\"script\");\n",
              "    node.appendChild(script);\n",
              "  }\n",
              "\n",
              "  /**\n",
              "   * Handle when an output is cleared or removed\n",
              "   */\n",
              "  function handleClearOutput(event, handle) {\n",
              "    var cell = handle.cell;\n",
              "\n",
              "    var id = cell.output_area._bokeh_element_id;\n",
              "    var server_id = cell.output_area._bokeh_server_id;\n",
              "    // Clean up Bokeh references\n",
              "    if (id != null && id in Bokeh.index) {\n",
              "      Bokeh.index[id].model.document.clear();\n",
              "      delete Bokeh.index[id];\n",
              "    }\n",
              "\n",
              "    if (server_id !== undefined) {\n",
              "      // Clean up Bokeh references\n",
              "      var cmd = \"from bokeh.io.state import curstate; print(curstate().uuid_to_server['\" + server_id + \"'].get_sessions()[0].document.roots[0]._id)\";\n",
              "      cell.notebook.kernel.execute(cmd, {\n",
              "        iopub: {\n",
              "          output: function(msg) {\n",
              "            var id = msg.content.text.trim();\n",
              "            if (id in Bokeh.index) {\n",
              "              Bokeh.index[id].model.document.clear();\n",
              "              delete Bokeh.index[id];\n",
              "            }\n",
              "          }\n",
              "        }\n",
              "      });\n",
              "      // Destroy server and session\n",
              "      var cmd = \"import bokeh.io.notebook as ion; ion.destroy_server('\" + server_id + \"')\";\n",
              "      cell.notebook.kernel.execute(cmd);\n",
              "    }\n",
              "  }\n",
              "\n",
              "  /**\n",
              "   * Handle when a new output is added\n",
              "   */\n",
              "  function handleAddOutput(event, handle) {\n",
              "    var output_area = handle.output_area;\n",
              "    var output = handle.output;\n",
              "\n",
              "    // limit handleAddOutput to display_data with EXEC_MIME_TYPE content only\n",
              "    if ((output.output_type != \"display_data\") || (!output.data.hasOwnProperty(EXEC_MIME_TYPE))) {\n",
              "      return\n",
              "    }\n",
              "\n",
              "    var toinsert = output_area.element.find(\".\" + CLASS_NAME.split(' ')[0]);\n",
              "\n",
              "    if (output.metadata[EXEC_MIME_TYPE][\"id\"] !== undefined) {\n",
              "      toinsert[toinsert.length - 1].firstChild.textContent = output.data[JS_MIME_TYPE];\n",
              "      // store reference to embed id on output_area\n",
              "      output_area._bokeh_element_id = output.metadata[EXEC_MIME_TYPE][\"id\"];\n",
              "    }\n",
              "    if (output.metadata[EXEC_MIME_TYPE][\"server_id\"] !== undefined) {\n",
              "      var bk_div = document.createElement(\"div\");\n",
              "      bk_div.innerHTML = output.data[HTML_MIME_TYPE];\n",
              "      var script_attrs = bk_div.children[0].attributes;\n",
              "      for (var i = 0; i < script_attrs.length; i++) {\n",
              "        toinsert[toinsert.length - 1].firstChild.setAttribute(script_attrs[i].name, script_attrs[i].value);\n",
              "        toinsert[toinsert.length - 1].firstChild.textContent = bk_div.children[0].textContent\n",
              "      }\n",
              "      // store reference to server id on output_area\n",
              "      output_area._bokeh_server_id = output.metadata[EXEC_MIME_TYPE][\"server_id\"];\n",
              "    }\n",
              "  }\n",
              "\n",
              "  function register_renderer(events, OutputArea) {\n",
              "\n",
              "    function append_mime(data, metadata, element) {\n",
              "      // create a DOM node to render to\n",
              "      var toinsert = this.create_output_subarea(\n",
              "        metadata,\n",
              "        CLASS_NAME,\n",
              "        EXEC_MIME_TYPE\n",
              "      );\n",
              "      this.keyboard_manager.register_events(toinsert);\n",
              "      // Render to node\n",
              "      var props = {data: data, metadata: metadata[EXEC_MIME_TYPE]};\n",
              "      render(props, toinsert[toinsert.length - 1]);\n",
              "      element.append(toinsert);\n",
              "      return toinsert\n",
              "    }\n",
              "\n",
              "    /* Handle when an output is cleared or removed */\n",
              "    events.on('clear_output.CodeCell', handleClearOutput);\n",
              "    events.on('delete.Cell', handleClearOutput);\n",
              "\n",
              "    /* Handle when a new output is added */\n",
              "    events.on('output_added.OutputArea', handleAddOutput);\n",
              "\n",
              "    /**\n",
              "     * Register the mime type and append_mime function with output_area\n",
              "     */\n",
              "    OutputArea.prototype.register_mime_type(EXEC_MIME_TYPE, append_mime, {\n",
              "      /* Is output safe? */\n",
              "      safe: true,\n",
              "      /* Index of renderer in `output_area.display_order` */\n",
              "      index: 0\n",
              "    });\n",
              "  }\n",
              "\n",
              "  // register the mime type if in Jupyter Notebook environment and previously unregistered\n",
              "  if (root.Jupyter !== undefined) {\n",
              "    var events = require('base/js/events');\n",
              "    var OutputArea = require('notebook/js/outputarea').OutputArea;\n",
              "\n",
              "    if (OutputArea.prototype.mime_types().indexOf(EXEC_MIME_TYPE) == -1) {\n",
              "      register_renderer(events, OutputArea);\n",
              "    }\n",
              "  }\n",
              "\n",
              "  \n",
              "  if (typeof (root._bokeh_timeout) === \"undefined\" || force === true) {\n",
              "    root._bokeh_timeout = Date.now() + 5000;\n",
              "    root._bokeh_failed_load = false;\n",
              "  }\n",
              "\n",
              "  var NB_LOAD_WARNING = {'data': {'text/html':\n",
              "     \"<div style='background-color: #fdd'>\\n\"+\n",
              "     \"<p>\\n\"+\n",
              "     \"BokehJS does not appear to have successfully loaded. If loading BokehJS from CDN, this \\n\"+\n",
              "     \"may be due to a slow or bad network connection. Possible fixes:\\n\"+\n",
              "     \"</p>\\n\"+\n",
              "     \"<ul>\\n\"+\n",
              "     \"<li>re-rerun `output_notebook()` to attempt to load from CDN again, or</li>\\n\"+\n",
              "     \"<li>use INLINE resources instead, as so:</li>\\n\"+\n",
              "     \"</ul>\\n\"+\n",
              "     \"<code>\\n\"+\n",
              "     \"from bokeh.resources import INLINE\\n\"+\n",
              "     \"output_notebook(resources=INLINE)\\n\"+\n",
              "     \"</code>\\n\"+\n",
              "     \"</div>\"}};\n",
              "\n",
              "  function display_loaded() {\n",
              "    var el = document.getElementById(\"1001\");\n",
              "    if (el != null) {\n",
              "      el.textContent = \"BokehJS is loading...\";\n",
              "    }\n",
              "    if (root.Bokeh !== undefined) {\n",
              "      if (el != null) {\n",
              "        el.textContent = \"BokehJS \" + root.Bokeh.version + \" successfully loaded.\";\n",
              "      }\n",
              "    } else if (Date.now() < root._bokeh_timeout) {\n",
              "      setTimeout(display_loaded, 100)\n",
              "    }\n",
              "  }\n",
              "\n",
              "\n",
              "  function run_callbacks() {\n",
              "    try {\n",
              "      root._bokeh_onload_callbacks.forEach(function(callback) {\n",
              "        if (callback != null)\n",
              "          callback();\n",
              "      });\n",
              "    } finally {\n",
              "      delete root._bokeh_onload_callbacks\n",
              "    }\n",
              "    console.debug(\"Bokeh: all callbacks have finished\");\n",
              "  }\n",
              "\n",
              "  function load_libs(css_urls, js_urls, callback) {\n",
              "    if (css_urls == null) css_urls = [];\n",
              "    if (js_urls == null) js_urls = [];\n",
              "\n",
              "    root._bokeh_onload_callbacks.push(callback);\n",
              "    if (root._bokeh_is_loading > 0) {\n",
              "      console.debug(\"Bokeh: BokehJS is being loaded, scheduling callback at\", now());\n",
              "      return null;\n",
              "    }\n",
              "    if (js_urls == null || js_urls.length === 0) {\n",
              "      run_callbacks();\n",
              "      return null;\n",
              "    }\n",
              "    console.debug(\"Bokeh: BokehJS not loaded, scheduling load and callback at\", now());\n",
              "    root._bokeh_is_loading = css_urls.length + js_urls.length;\n",
              "\n",
              "    function on_load() {\n",
              "      root._bokeh_is_loading--;\n",
              "      if (root._bokeh_is_loading === 0) {\n",
              "        console.debug(\"Bokeh: all BokehJS libraries/stylesheets loaded\");\n",
              "        run_callbacks()\n",
              "      }\n",
              "    }\n",
              "\n",
              "    function on_error() {\n",
              "      console.error(\"failed to load \" + url);\n",
              "    }\n",
              "\n",
              "    for (var i = 0; i < css_urls.length; i++) {\n",
              "      var url = css_urls[i];\n",
              "      const element = document.createElement(\"link\");\n",
              "      element.onload = on_load;\n",
              "      element.onerror = on_error;\n",
              "      element.rel = \"stylesheet\";\n",
              "      element.type = \"text/css\";\n",
              "      element.href = url;\n",
              "      console.debug(\"Bokeh: injecting link tag for BokehJS stylesheet: \", url);\n",
              "      document.body.appendChild(element);\n",
              "    }\n",
              "\n",
              "    const hashes = {\"https://cdn.bokeh.org/bokeh/release/bokeh-2.2.3.min.js\": \"T2yuo9Oe71Cz/I4X9Ac5+gpEa5a8PpJCDlqKYO0CfAuEszu1JrXLl8YugMqYe3sM\", \"https://cdn.bokeh.org/bokeh/release/bokeh-widgets-2.2.3.min.js\": \"98GDGJ0kOMCUMUePhksaQ/GYgB3+NH9h996V88sh3aOiUNX3N+fLXAtry6xctSZ6\", \"https://cdn.bokeh.org/bokeh/release/bokeh-tables-2.2.3.min.js\": \"89bArO+nlbP3sgakeHjCo1JYxYR5wufVgA3IbUvDY+K7w4zyxJqssu7wVnfeKCq8\"};\n",
              "\n",
              "    for (var i = 0; i < js_urls.length; i++) {\n",
              "      var url = js_urls[i];\n",
              "      var element = document.createElement('script');\n",
              "      element.onload = on_load;\n",
              "      element.onerror = on_error;\n",
              "      element.async = false;\n",
              "      element.src = url;\n",
              "      if (url in hashes) {\n",
              "        element.crossOrigin = \"anonymous\";\n",
              "        element.integrity = \"sha384-\" + hashes[url];\n",
              "      }\n",
              "      console.debug(\"Bokeh: injecting script tag for BokehJS library: \", url);\n",
              "      document.head.appendChild(element);\n",
              "    }\n",
              "  };\n",
              "\n",
              "  function inject_raw_css(css) {\n",
              "    const element = document.createElement(\"style\");\n",
              "    element.appendChild(document.createTextNode(css));\n",
              "    document.body.appendChild(element);\n",
              "  }\n",
              "\n",
              "  \n",
              "  var js_urls = [\"https://cdn.bokeh.org/bokeh/release/bokeh-2.2.3.min.js\", \"https://cdn.bokeh.org/bokeh/release/bokeh-widgets-2.2.3.min.js\", \"https://cdn.bokeh.org/bokeh/release/bokeh-tables-2.2.3.min.js\"];\n",
              "  var css_urls = [];\n",
              "  \n",
              "\n",
              "  var inline_js = [\n",
              "    function(Bokeh) {\n",
              "      Bokeh.set_log_level(\"info\");\n",
              "    },\n",
              "    function(Bokeh) {\n",
              "    \n",
              "    \n",
              "    }\n",
              "  ];\n",
              "\n",
              "  function run_inline_js() {\n",
              "    \n",
              "    if (root.Bokeh !== undefined || force === true) {\n",
              "      \n",
              "    for (var i = 0; i < inline_js.length; i++) {\n",
              "      inline_js[i].call(root, root.Bokeh);\n",
              "    }\n",
              "    if (force === true) {\n",
              "        display_loaded();\n",
              "      }} else if (Date.now() < root._bokeh_timeout) {\n",
              "      setTimeout(run_inline_js, 100);\n",
              "    } else if (!root._bokeh_failed_load) {\n",
              "      console.log(\"Bokeh: BokehJS failed to load within specified timeout.\");\n",
              "      root._bokeh_failed_load = true;\n",
              "    } else if (force !== true) {\n",
              "      var cell = $(document.getElementById(\"1001\")).parents('.cell').data().cell;\n",
              "      cell.output_area.append_execute_result(NB_LOAD_WARNING)\n",
              "    }\n",
              "\n",
              "  }\n",
              "\n",
              "  if (root._bokeh_is_loading === 0) {\n",
              "    console.debug(\"Bokeh: BokehJS loaded, going straight to plotting\");\n",
              "    run_inline_js();\n",
              "  } else {\n",
              "    load_libs(css_urls, js_urls, function() {\n",
              "      console.debug(\"Bokeh: BokehJS plotting callback run at\", now());\n",
              "      run_inline_js();\n",
              "    });\n",
              "  }\n",
              "}(window));"
            ],
            "application/vnd.bokehjs_load.v0+json": "\n(function(root) {\n  function now() {\n    return new Date();\n  }\n\n  var force = true;\n\n  if (typeof root._bokeh_onload_callbacks === \"undefined\" || force === true) {\n    root._bokeh_onload_callbacks = [];\n    root._bokeh_is_loading = undefined;\n  }\n\n  \n\n  \n  if (typeof (root._bokeh_timeout) === \"undefined\" || force === true) {\n    root._bokeh_timeout = Date.now() + 5000;\n    root._bokeh_failed_load = false;\n  }\n\n  var NB_LOAD_WARNING = {'data': {'text/html':\n     \"<div style='background-color: #fdd'>\\n\"+\n     \"<p>\\n\"+\n     \"BokehJS does not appear to have successfully loaded. If loading BokehJS from CDN, this \\n\"+\n     \"may be due to a slow or bad network connection. Possible fixes:\\n\"+\n     \"</p>\\n\"+\n     \"<ul>\\n\"+\n     \"<li>re-rerun `output_notebook()` to attempt to load from CDN again, or</li>\\n\"+\n     \"<li>use INLINE resources instead, as so:</li>\\n\"+\n     \"</ul>\\n\"+\n     \"<code>\\n\"+\n     \"from bokeh.resources import INLINE\\n\"+\n     \"output_notebook(resources=INLINE)\\n\"+\n     \"</code>\\n\"+\n     \"</div>\"}};\n\n  function display_loaded() {\n    var el = document.getElementById(\"1001\");\n    if (el != null) {\n      el.textContent = \"BokehJS is loading...\";\n    }\n    if (root.Bokeh !== undefined) {\n      if (el != null) {\n        el.textContent = \"BokehJS \" + root.Bokeh.version + \" successfully loaded.\";\n      }\n    } else if (Date.now() < root._bokeh_timeout) {\n      setTimeout(display_loaded, 100)\n    }\n  }\n\n\n  function run_callbacks() {\n    try {\n      root._bokeh_onload_callbacks.forEach(function(callback) {\n        if (callback != null)\n          callback();\n      });\n    } finally {\n      delete root._bokeh_onload_callbacks\n    }\n    console.debug(\"Bokeh: all callbacks have finished\");\n  }\n\n  function load_libs(css_urls, js_urls, callback) {\n    if (css_urls == null) css_urls = [];\n    if (js_urls == null) js_urls = [];\n\n    root._bokeh_onload_callbacks.push(callback);\n    if (root._bokeh_is_loading > 0) {\n      console.debug(\"Bokeh: BokehJS is being loaded, scheduling callback at\", now());\n      return null;\n    }\n    if (js_urls == null || js_urls.length === 0) {\n      run_callbacks();\n      return null;\n    }\n    console.debug(\"Bokeh: BokehJS not loaded, scheduling load and callback at\", now());\n    root._bokeh_is_loading = css_urls.length + js_urls.length;\n\n    function on_load() {\n      root._bokeh_is_loading--;\n      if (root._bokeh_is_loading === 0) {\n        console.debug(\"Bokeh: all BokehJS libraries/stylesheets loaded\");\n        run_callbacks()\n      }\n    }\n\n    function on_error() {\n      console.error(\"failed to load \" + url);\n    }\n\n    for (var i = 0; i < css_urls.length; i++) {\n      var url = css_urls[i];\n      const element = document.createElement(\"link\");\n      element.onload = on_load;\n      element.onerror = on_error;\n      element.rel = \"stylesheet\";\n      element.type = \"text/css\";\n      element.href = url;\n      console.debug(\"Bokeh: injecting link tag for BokehJS stylesheet: \", url);\n      document.body.appendChild(element);\n    }\n\n    const hashes = {\"https://cdn.bokeh.org/bokeh/release/bokeh-2.2.3.min.js\": \"T2yuo9Oe71Cz/I4X9Ac5+gpEa5a8PpJCDlqKYO0CfAuEszu1JrXLl8YugMqYe3sM\", \"https://cdn.bokeh.org/bokeh/release/bokeh-widgets-2.2.3.min.js\": \"98GDGJ0kOMCUMUePhksaQ/GYgB3+NH9h996V88sh3aOiUNX3N+fLXAtry6xctSZ6\", \"https://cdn.bokeh.org/bokeh/release/bokeh-tables-2.2.3.min.js\": \"89bArO+nlbP3sgakeHjCo1JYxYR5wufVgA3IbUvDY+K7w4zyxJqssu7wVnfeKCq8\"};\n\n    for (var i = 0; i < js_urls.length; i++) {\n      var url = js_urls[i];\n      var element = document.createElement('script');\n      element.onload = on_load;\n      element.onerror = on_error;\n      element.async = false;\n      element.src = url;\n      if (url in hashes) {\n        element.crossOrigin = \"anonymous\";\n        element.integrity = \"sha384-\" + hashes[url];\n      }\n      console.debug(\"Bokeh: injecting script tag for BokehJS library: \", url);\n      document.head.appendChild(element);\n    }\n  };\n\n  function inject_raw_css(css) {\n    const element = document.createElement(\"style\");\n    element.appendChild(document.createTextNode(css));\n    document.body.appendChild(element);\n  }\n\n  \n  var js_urls = [\"https://cdn.bokeh.org/bokeh/release/bokeh-2.2.3.min.js\", \"https://cdn.bokeh.org/bokeh/release/bokeh-widgets-2.2.3.min.js\", \"https://cdn.bokeh.org/bokeh/release/bokeh-tables-2.2.3.min.js\"];\n  var css_urls = [];\n  \n\n  var inline_js = [\n    function(Bokeh) {\n      Bokeh.set_log_level(\"info\");\n    },\n    function(Bokeh) {\n    \n    \n    }\n  ];\n\n  function run_inline_js() {\n    \n    if (root.Bokeh !== undefined || force === true) {\n      \n    for (var i = 0; i < inline_js.length; i++) {\n      inline_js[i].call(root, root.Bokeh);\n    }\n    if (force === true) {\n        display_loaded();\n      }} else if (Date.now() < root._bokeh_timeout) {\n      setTimeout(run_inline_js, 100);\n    } else if (!root._bokeh_failed_load) {\n      console.log(\"Bokeh: BokehJS failed to load within specified timeout.\");\n      root._bokeh_failed_load = true;\n    } else if (force !== true) {\n      var cell = $(document.getElementById(\"1001\")).parents('.cell').data().cell;\n      cell.output_area.append_execute_result(NB_LOAD_WARNING)\n    }\n\n  }\n\n  if (root._bokeh_is_loading === 0) {\n    console.debug(\"Bokeh: BokehJS loaded, going straight to plotting\");\n    run_inline_js();\n  } else {\n    load_libs(css_urls, js_urls, function() {\n      console.debug(\"Bokeh: BokehJS plotting callback run at\", now());\n      run_inline_js();\n    });\n  }\n}(window));"
          },
          "metadata": {
            "tags": []
          }
        }
      ]
    },
    {
      "cell_type": "code",
      "metadata": {
        "id": "YbQgd2h_KOCd"
      },
      "source": [
        "from sklearn.pipeline import make_pipeline\n",
        "from sklearn.preprocessing import StandardScaler\n",
        "from sklearn.cluster import KMeans \n",
        "\n",
        "# Create scaler: scaler\n",
        "scaler = StandardScaler()\n",
        "\n",
        "# Create KMeans instance: kmeans\n",
        "kmeans = KMeans(n_clusters=33)\n",
        "\n",
        "# Create pipeline: pipeline\n",
        "pipeline = make_pipeline(scaler,kmeans)"
      ],
      "execution_count": null,
      "outputs": []
    },
    {
      "cell_type": "code",
      "metadata": {
        "id": "CemOsGNAKOCe",
        "outputId": "624ac7cf-e562-41b0-bdef-414f0f0b8324"
      },
      "source": [
        "# Create a KMeans instance with 3 clusters: model\n",
        "model = KMeans(n_clusters=33)\n",
        "\n",
        "# Fit model to points\n",
        "model.fit(A)\n",
        "\n",
        "# Determine the cluster labels of new_points: labels\n",
        "labels = model.predict(A)\n",
        "\n",
        "# Print cluster labels of new_points\n",
        "print(labels)"
      ],
      "execution_count": null,
      "outputs": [
        {
          "output_type": "stream",
          "text": [
            "[ 3 16 11 15 12  2 18  2  8  4 13  4 13  6  4  7  7  8 15  9  4  9 24  7\n",
            " 26 22 14  9  0  7 14  9 11  3  0 15  7 22 26  8 22  3 13  9 23  1  9  2\n",
            "  0  0  6 17 32 15 10 12  1 18  3  6 10  0 30  5 22 21 22  2 20 28  0  6\n",
            "  7 13  9 16  2 11  7 21  2 19  7 10 12  5  4 15  4  5 16  6  1  2  1  9\n",
            " 27 14 11 22  7 11 12 18 22 12  5  5  2 14 14  2 11  4 16 21  4  3  4 25\n",
            "  6  0  2  8 19 11  1  7 16  7  7  3 13  8 22 20  8  3  6 15 31  6  6  3\n",
            " 12  0 23 24 15  9  4 25 18  1 13 10 10 10  4  4 22  3  8 17 19 19 29  6\n",
            " 17  6  6  0  7  7 22  3  1  7 12  8  9  4 19  9]\n"
          ],
          "name": "stdout"
        }
      ]
    },
    {
      "cell_type": "code",
      "metadata": {
        "id": "lbbMqykRKOCf",
        "outputId": "7a546c6f-3231-4a50-814c-ed65944c0a16"
      },
      "source": [
        "# Assign the columns of new_points: xs and ys\n",
        "xs = tsne_features[:,0]\n",
        "ys = tsne_features[:,1]\n",
        "\n",
        "# Make a scatter plot of xs and ys, using labels to define the colors\n",
        "plt.scatter(xs,ys,c=labels,alpha=0.5)\n",
        "\n",
        "# Assign the cluster centers: centroids\n",
        "centroids = model.cluster_centers_\n",
        "\n",
        "# Assign the columns of centroids: centroids_x, centroids_y\n",
        "centroids_x = centroids[:,0]\n",
        "centroids_y = centroids[:,1]\n",
        "\n",
        "# Make a scatter plot of centroids_x and centroids_y\n",
        "plt.scatter(centroids_x,centroids_y,marker='D',s=50)\n",
        "plt.show()"
      ],
      "execution_count": null,
      "outputs": [
        {
          "output_type": "display_data",
          "data": {
            "image/png": "[encoded data removed]",
            "text/plain": [
              "<Figure size 432x288 with 1 Axes>"
            ]
          },
          "metadata": {
            "tags": [],
            "needs_background": "light"
          }
        }
      ]
    },
    {
      "cell_type": "code",
      "metadata": {
        "id": "iFZVQNDaKOCg"
      },
      "source": [
        "#Import Bokeh\n",
        "from bokeh.io import show, output_notebook, push_notebook\n",
        "from bokeh.plotting import figure\n",
        "from bokeh.models import ColumnDataSource, HoverTool\n",
        "output_notebook()"
      ],
      "execution_count": null,
      "outputs": []
    },
    {
      "cell_type": "code",
      "metadata": {
        "id": "Hvn3I-pnKOCh",
        "outputId": "2ee332eb-d70c-4d96-f192-83ad395a7a54"
      },
      "source": [
        "# Make a source and a scatter plot\n",
        "source = ColumnDataSource(df)\n",
        "plot = figure(x_axis_label = 'T-SNE 1',\n",
        "              y_axis_label = 'T-SNE 2', \n",
        "              width = 500, height = 400)\n",
        "plot.circle(x = 'X', \n",
        "            y = 'Y', \n",
        "            source = source, \n",
        "            size = 10, color = '#FF7373', alpha = .8)"
      ],
      "execution_count": null,
      "outputs": [
        {
          "output_type": "execute_result",
          "data": {
            "text/html": [
              "<div style=\"display: table;\"><div style=\"display: table-row;\"><div style=\"display: table-cell;\"><b title=\"bokeh.models.renderers.GlyphRenderer\">GlyphRenderer</b>(</div><div style=\"display: table-cell;\">id&nbsp;=&nbsp;'1038', <span id=\"1041\" style=\"cursor: pointer;\">&hellip;)</span></div></div><div class=\"1040\" style=\"display: none;\"><div style=\"display: table-cell;\"></div><div style=\"display: table-cell;\">data_source&nbsp;=&nbsp;ColumnDataSource(id='1003', ...),</div></div><div class=\"1040\" style=\"display: none;\"><div style=\"display: table-cell;\"></div><div style=\"display: table-cell;\">glyph&nbsp;=&nbsp;Circle(id='1036', ...),</div></div><div class=\"1040\" style=\"display: none;\"><div style=\"display: table-cell;\"></div><div style=\"display: table-cell;\">hover_glyph&nbsp;=&nbsp;None,</div></div><div class=\"1040\" style=\"display: none;\"><div style=\"display: table-cell;\"></div><div style=\"display: table-cell;\">js_event_callbacks&nbsp;=&nbsp;{},</div></div><div class=\"1040\" style=\"display: none;\"><div style=\"display: table-cell;\"></div><div style=\"display: table-cell;\">js_property_callbacks&nbsp;=&nbsp;{},</div></div><div class=\"1040\" style=\"display: none;\"><div style=\"display: table-cell;\"></div><div style=\"display: table-cell;\">level&nbsp;=&nbsp;'glyph',</div></div><div class=\"1040\" style=\"display: none;\"><div style=\"display: table-cell;\"></div><div style=\"display: table-cell;\">muted&nbsp;=&nbsp;False,</div></div><div class=\"1040\" style=\"display: none;\"><div style=\"display: table-cell;\"></div><div style=\"display: table-cell;\">muted_glyph&nbsp;=&nbsp;None,</div></div><div class=\"1040\" style=\"display: none;\"><div style=\"display: table-cell;\"></div><div style=\"display: table-cell;\">name&nbsp;=&nbsp;None,</div></div><div class=\"1040\" style=\"display: none;\"><div style=\"display: table-cell;\"></div><div style=\"display: table-cell;\">nonselection_glyph&nbsp;=&nbsp;Circle(id='1037', ...),</div></div><div class=\"1040\" style=\"display: none;\"><div style=\"display: table-cell;\"></div><div style=\"display: table-cell;\">selection_glyph&nbsp;=&nbsp;None,</div></div><div class=\"1040\" style=\"display: none;\"><div style=\"display: table-cell;\"></div><div style=\"display: table-cell;\">subscribed_events&nbsp;=&nbsp;[],</div></div><div class=\"1040\" style=\"display: none;\"><div style=\"display: table-cell;\"></div><div style=\"display: table-cell;\">tags&nbsp;=&nbsp;[],</div></div><div class=\"1040\" style=\"display: none;\"><div style=\"display: table-cell;\"></div><div style=\"display: table-cell;\">view&nbsp;=&nbsp;CDSView(id='1039', ...),</div></div><div class=\"1040\" style=\"display: none;\"><div style=\"display: table-cell;\"></div><div style=\"display: table-cell;\">visible&nbsp;=&nbsp;True,</div></div><div class=\"1040\" style=\"display: none;\"><div style=\"display: table-cell;\"></div><div style=\"display: table-cell;\">x_range_name&nbsp;=&nbsp;'default',</div></div><div class=\"1040\" style=\"display: none;\"><div style=\"display: table-cell;\"></div><div style=\"display: table-cell;\">y_range_name&nbsp;=&nbsp;'default')</div></div></div>\n",
              "<script>\n",
              "(function() {\n",
              "  var expanded = false;\n",
              "  var ellipsis = document.getElementById(\"1041\");\n",
              "  ellipsis.addEventListener(\"click\", function() {\n",
              "    var rows = document.getElementsByClassName(\"1040\");\n",
              "    for (var i = 0; i < rows.length; i++) {\n",
              "      var el = rows[i];\n",
              "      el.style.display = expanded ? \"none\" : \"table-row\";\n",
              "    }\n",
              "    ellipsis.innerHTML = expanded ? \"&hellip;)\" : \"&lsaquo;&lsaquo;&lsaquo;\";\n",
              "    expanded = !expanded;\n",
              "  });\n",
              "})();\n",
              "</script>\n"
            ],
            "text/plain": [
              "GlyphRenderer(id='1038', ...)"
            ]
          },
          "metadata": {
            "tags": []
          },
          "execution_count": 13
        }
      ]
    },
    {
      "cell_type": "code",
      "metadata": {
        "id": "BAqzXZoMKOCi"
      },
      "source": [
        "plot.background_fill_color = \"beige\"\n",
        "plot.background_fill_alpha = 0.2\n",
        "\n",
        "# add hover tool\n",
        "hover = HoverTool(tooltips = [\n",
        "        ('Food', '@Food'),\n",
        "        ('Type', '@Type'),('Allergy', '@Allergy'),('Group', '@Group')])\n",
        "plot.add_tools(hover)"
      ],
      "execution_count": null,
      "outputs": []
    },
    {
      "cell_type": "code",
      "metadata": {
        "id": "U_8bRyMDKOCk",
        "outputId": "9356531e-8a5a-4357-df4f-893a2119e05f"
      },
      "source": [
        "# Plot the map\n",
        "show(plot)"
      ],
      "execution_count": null,
      "outputs": [
        {
          "output_type": "display_data",
          "data": {
            "text/html": [
              "\n",
              "\n",
              "\n",
              "\n",
              "\n",
              "\n",
              "  <div class=\"bk-root\" id=\"45d77b61-af9e-427a-9ad7-869255d4266e\" data-root-id=\"1004\"></div>\n"
            ]
          },
          "metadata": {
            "tags": []
          }
        },
        {
          "output_type": "display_data",
          "data": {
            "application/javascript": [
              "(function(root) {\n",
              "  function embed_document(root) {\n",
              "    \n",
              "  var docs_json = {\"81560be8-1132-4290-9c9a-43ca16e167fd\":{\"roots\":{\"references\":[{\"attributes\":{\"background_fill_alpha\":0.2,\"background_fill_color\":\"beige\",\"below\":[{\"id\":\"1013\"}],\"center\":[{\"id\":\"1016\"},{\"id\":\"1020\"}],\"left\":[{\"id\":\"1017\"}],\"plot_height\":400,\"plot_width\":500,\"renderers\":[{\"id\":\"1038\"}],\"title\":{\"id\":\"1045\"},\"toolbar\":{\"id\":\"1028\"},\"x_range\":{\"id\":\"1005\"},\"x_scale\":{\"id\":\"1009\"},\"y_range\":{\"id\":\"1007\"},\"y_scale\":{\"id\":\"1011\"}},\"id\":\"1004\",\"subtype\":\"Figure\",\"type\":\"Plot\"},{\"attributes\":{\"bottom_units\":\"screen\",\"fill_alpha\":0.5,\"fill_color\":\"lightgrey\",\"left_units\":\"screen\",\"level\":\"overlay\",\"line_alpha\":1.0,\"line_color\":\"black\",\"line_dash\":[4,4],\"line_width\":2,\"right_units\":\"screen\",\"top_units\":\"screen\"},\"id\":\"1027\",\"type\":\"BoxAnnotation\"},{\"attributes\":{\"data_source\":{\"id\":\"1003\"},\"glyph\":{\"id\":\"1036\"},\"hover_glyph\":null,\"muted_glyph\":null,\"nonselection_glyph\":{\"id\":\"1037\"},\"selection_glyph\":null,\"view\":{\"id\":\"1039\"}},\"id\":\"1038\",\"type\":\"GlyphRenderer\"},{\"attributes\":{},\"id\":\"1048\",\"type\":\"BasicTickFormatter\"},{\"attributes\":{\"source\":{\"id\":\"1003\"}},\"id\":\"1039\",\"type\":\"CDSView\"},{\"attributes\":{},\"id\":\"1024\",\"type\":\"SaveTool\"},{\"attributes\":{},\"id\":\"1050\",\"type\":\"UnionRenderers\"},{\"attributes\":{},\"id\":\"1022\",\"type\":\"WheelZoomTool\"},{\"attributes\":{\"text\":\"\"},\"id\":\"1045\",\"type\":\"Title\"},{\"attributes\":{},\"id\":\"1051\",\"type\":\"Selection\"},{\"attributes\":{\"axis_label\":\"T-SNE 1\",\"formatter\":{\"id\":\"1048\"},\"ticker\":{\"id\":\"1014\"}},\"id\":\"1013\",\"type\":\"LinearAxis\"},{\"attributes\":{},\"id\":\"1009\",\"type\":\"LinearScale\"},{\"attributes\":{\"axis\":{\"id\":\"1017\"},\"dimension\":1,\"ticker\":null},\"id\":\"1020\",\"type\":\"Grid\"},{\"attributes\":{},\"id\":\"1005\",\"type\":\"DataRange1d\"},{\"attributes\":{\"fill_alpha\":{\"value\":0.8},\"fill_color\":{\"value\":\"#FF7373\"},\"line_alpha\":{\"value\":0.8},\"line_color\":{\"value\":\"#FF7373\"},\"size\":{\"units\":\"screen\",\"value\":10},\"x\":{\"field\":\"X\"},\"y\":{\"field\":\"Y\"}},\"id\":\"1036\",\"type\":\"Circle\"},{\"attributes\":{\"axis\":{\"id\":\"1013\"},\"ticker\":null},\"id\":\"1016\",\"type\":\"Grid\"},{\"attributes\":{},\"id\":\"1046\",\"type\":\"BasicTickFormatter\"},{\"attributes\":{},\"id\":\"1007\",\"type\":\"DataRange1d\"},{\"attributes\":{\"overlay\":{\"id\":\"1027\"}},\"id\":\"1023\",\"type\":\"BoxZoomTool\"},{\"attributes\":{\"axis_label\":\"T-SNE 2\",\"formatter\":{\"id\":\"1046\"},\"ticker\":{\"id\":\"1018\"}},\"id\":\"1017\",\"type\":\"LinearAxis\"},{\"attributes\":{\"data\":{\"Allergy\":[\"Nut Allergy\",\"Oral Allergy Syndrome\",\"Stone Fruit Allergy\",\"Insulin Allergy\",\"Allium Allergy\",\"Oral Allergy Syndrome\",\"Histamine Allergy\",\"Banana Allergy\",\"Gluten Allergy\",\"Legume Allergy\",\"Salicylate Allergy\",\"Legume Allergy\",\"Salicylate Allergy\",\"Histamine Allergy\",\"Legume Allergy\",\"Broccoli allergy\",\"Cruciferous Allergy\",\"Gluten Allergy\",\"Ragweed Allergy\",\"Milk allergy / Lactose intolerance\",\"Legume Allergy\",\"Milk allergy / Lactose intolerance\",\"Mushroom Allergy\",\"Cruciferous Allergy\",\"NaN\",\"NaN\",\"Hypersensitivity\",\"Milk allergy / Lactose intolerance\",\"Alpha-gal Syndrome\",\"Cruciferous Allergy\",\"Hypersensitivity\",\"Milk allergy / Lactose intolerance\",\"Stone Fruit Allergy\",\"Nut Allergy\",\"Poultry Allergy\",\"Insulin Allergy\",\"Cruciferous Allergy\",\"NaN\",\"Ochratoxin Allergy\",\"Corn Allergy\",\"NaN\",\"Seed Allergy\",\"Salicylate Allergy\",\"Milk allergy / Lactose intolerance\",\"Shellfish Allergy\",\"NaN\",\"Milk allergy / Lactose intolerance\",\"Oral Allergy Syndrome\",\"Alpha-gal Syndrome\",\"Poultry Allergy\",\"Fish Allergy\",\"Nightshade Allergy\",\"Poultry Allergy\",\"Insulin Allergy\",\"Sugar Allergy / Intolerance\",\"Allium Allergy\",\"NaN\",\"Histamine Allergy\",\"Nut Allergy\",\"Fish Allergy\",\"Sugar Allergy / Intolerance\",\"Alpha-gal Syndrome\",\"LTP Allergy\",\"Citrus Allergy\",\"NaN\",\"Legume Allergy\",\"NaN\",\"Oral Allergy Syndrome\",\"Honey Allergy\",\"Beer Allergy\",\"Alpha-gal Syndrome\",\"Fish Allergy\",\"Cruciferous Allergy\",\"Salicylate Allergy\",\"Milk allergy / Lactose intolerance\",\"Oral Allergy Syndrome\",\"NaN\",\"Stone Fruit Allergy\",\"Cruciferous Allergy\",\"Legume Allergy\",\"Oral Allergy Syndrome\",\"Potato Allergy\",\"Cruciferous Allergy\",\"Lactose Intolerance\",\"Allium Allergy\",\"Citrus Allergy\",\"Legume Allergy\",\"LTP Allergy\",\"Legume Allergy\",\"Citrus Allergy\",\"Oral Allergy Syndrome\",\"Fish Allergy\",\"NaN\",\"Oral Allergy Syndrome\",\"NaN\",\"Milk allergy / Lactose intolerance\",\"Aquagenic Urticaria\",\"Hypersensitivity\",\"Stone Fruit Allergy\",\"NaN\",\"Cruciferous Allergy\",\"Stone Fruit Allergy\",\"Allium Allergy\",\"Histamine Allergy\",\"NaN\",\"Allium Allergy\",\"Citrus Allergy\",\"Citrus Allergy\",\"Oral Allergy Syndrome\",\"Hypersensitivity\",\"Hypersensitivity\",\"Oral Allergy Syndrome\",\"Stone Fruit Allergy\",\"Peanut Allergy\",\"Oral Allergy Syndrome\",\"Legume Allergy\",\"Legume Allergy\",\"Nut Allergy\",\"Legume Allergy\",\"Mint Allergy\",\"Fish Allergy\",\"Alpha-gal Syndrome\",\"Oral Allergy Syndrome\",\"Corn Allergy\",\"Potato Allergy\",\"Stone Fruit Allergy\",\"NaN\",\"Cruciferous Allergy\",\"Oral Allergy Syndrome\",\"NaN\",\"Hypersensitivity\",\"Seed Allergy\",\"Salicylate Allergy\",\"Rice Allergy\",\"NaN\",\"Honey Allergy\",\"Gluten Allergy\",\"Seed Allergy\",\"Fish Allergy\",\"Insulin Allergy\",\"Pepper Allergy\",\"Fish Allergy\",\"Fish Allergy\",\"Seed Allergy\",\"Allium Allergy\",\"Alpha-gal Syndrome\",\"Fish Allergy\",\"Mushroom Allergy\",\"Insulin Allergy\",\"Milk allergy / Lactose intolerance\",\"Soy Allergy\",\"Mint Allergy\",\"Histamine Allergy\",\"NaN\",\"Salicylate Allergy\",\"Sugar Allergy / Intolerance\",\"Sugar Allergy / Intolerance\",\"Sugar Allergy / Intolerance\",\"Legume Allergy\",\"Legume Allergy\",\"NaN\",\"Seed Allergy\",\"Corn Allergy\",\"Nightshade Allergy\",\"Potato Allergy\",\"Potato Allergy\",\"Tannin Allergy\",\"Fish Allergy\",\"Nightshade Allergy\",\"Fish Allergy\",\"Fish Allergy\",\"Poultry Allergy\",\"NaN\",\"Thyroid\",\"NaN\",\"Nut Allergy\",\"NaN\",\"NaN\",\"Allium Allergy\",\"Gluten Allergy\",\"Milk allergy / Lactose intolerance\",\"Legume Allergy\",\"Potato Allergy\",\"Milk allergy / Lactose intolerance\"],\"Class\":[\"Plant origin\",\"Plant origin\",\"Plant origin\",\"Plant origin\",\"Plant origin\",\"Plant origin\",\"Plant origin\",\"Plant origin\",\"Plant origin\",\"Plant origin\",\"Plant origin\",\"Plant origin\",\"Plant origin\",\"Animal origin\",\"Plant origin\",\"Plant origin\",\"Plant origin\",\"Plant origin\",\"Plant origin\",\"Animal origin\",\"Plant origin\",\"Animal origin\",\"Plant origin\",\"Plant origin\",\"Plant origin\",\"Plant origin\",\"Plant origin\",\"Animal origin\",\"Animal origin\",\"Plant origin\",\"Plant origin\",\"Animal origin\",\"Plant origin\",\"Plant origin\",\"Animal origin\",\"Plant origin\",\"Plant origin\",\"Plant origin\",\"Plant origin\",\"Plant origin\",\"Plant origin\",\"Plant origin\",\"Plant origin\",\"Animal origin\",\"Animal origin\",\"Plant origin\",\"Animal origin\",\"Plant origin\",\"Animal origin\",\"Animal origin\",\"Animal origin\",\"Plant origin\",\"Animal origin\",\"Plant origin\",\"Plant origin\",\"Plant origin\",\"Plant origin\",\"Plant origin\",\"Plant origin\",\"Animal origin\",\"Plant origin\",\"Animal origin\",\"Plant origin\",\"Plant origin\",\"Plant origin\",\"Plant origin\",\"Plant origin\",\"Plant origin\",\"Animal origin\",\"Plant origin\",\"Animal origin\",\"Animal origin\",\"Plant origin\",\"Plant origin\",\"Animal origin\",\"Plant origin\",\"Plant origin\",\"Plant origin\",\"Plant origin\",\"Plant origin\",\"Plant origin\",\"Plant origin\",\"Plant origin\",\"Plant origin\",\"Plant origin\",\"Plant origin\",\"Plant origin\",\"Plant origin\",\"Plant origin\",\"Plant origin\",\"Plant origin\",\"Animal origin\",\"Plant origin\",\"Plant origin\",\"Plant origin\",\"Animal origin\",\"Mineral waters\",\"Plant origin\",\"Plant origin\",\"Plant origin\",\"Plant origin\",\"Plant origin\",\"Plant origin\",\"Plant origin\",\"Plant origin\",\"Plant origin\",\"Plant origin\",\"Plant origin\",\"Plant origin\",\"Plant origin\",\"Plant origin\",\"Plant origin\",\"Plant origin\",\"Plant origin\",\"Plant origin\",\"Plant origin\",\"Plant origin\",\"Plant origin\",\"Plant origin\",\"Plant origin\",\"Animal origin\",\"Animal origin\",\"Plant origin\",\"Plant origin\",\"Plant origin\",\"Plant origin\",\"Plant origin\",\"Plant origin\",\"Plant origin\",\"Plant origin\",\"Plant origin\",\"Plant origin\",\"Plant origin\",\"Plant origin\",\"Plant origin\",\"Animal origin\",\"Plant origin\",\"Plant origin\",\"Animal origin\",\"Plant origin\",\"Plant origin\",\"Animal origin\",\"Animal origin\",\"Plant origin\",\"Plant origin\",\"Animal origin\",\"Animal origin\",\"Plant origin\",\"Plant origin\",\"Animal origin\",\"Plant origin\",\"Plant origin\",\"Plant origin\",\"Plant origin\",\"Plant origin\",\"Plant origin\",\"Plant origin\",\"Plant origin\",\"Plant origin\",\"Plant origin\",\"Plant origin\",\"Plant origin\",\"Plant origin\",\"Plant origin\",\"Plant origin\",\"Plant origin\",\"Plant origin\",\"Animal origin\",\"Plant origin\",\"Animal origin\",\"Animal origin\",\"Animal origin\",\"Plant origin\",\"Plant origin\",\"Plant origin\",\"Plant origin\",\"Plant origin\",\"Plant origin\",\"Plant origin\",\"Plant origin\",\"Animal origin\",\"Plant origin\",\"Plant origin\",\"Animal origin\"],\"Food\":[\"Almond\",\"Apple\",\"Apricot\",\"Artichoke\",\"Asparagus\",\"Avocado\",\"Bamboo shoot\",\"Banana\",\"Barley\",\"Bean\",\"Blackberry\",\"Black-eyed bean\",\"Blueberry\",\"Bonito\",\"Broad bean\",\"Broccoli\",\"Brussels sprouts\",\"Buckwheat\",\"Burdock\",\"Butter\",\"Butter bean\",\"Buttermilk\",\"Button mushroom\",\"Cabbage\",\"Cacao bean\",\"Canola oil\",\"Carrot\",\"Casein\",\"Cattle\",\"Cauliflower\",\"Celery\",\"Cheese\",\"Cherry\",\"Chestnut\",\"Chicken\",\"Chicory\",\"Chinese cabbage\",\"Coconut oil\",\"Coffee bean\",\"Corn\",\"Corn oil\",\"Cotton seed\",\"Cranberry\",\"Cream\",\"Crustaceans\",\"Cucumber \",\"Custard\",\"Date\",\"Deer\",\"Duck\",\"Eel\",\"Egg plant\",\"Eggs\",\"Endive\",\"Fructose\",\"Garlic\",\"Ghrkin\",\"Ginger\",\"Ginkgo nut\",\"Globfish\",\"Glucose\",\"Goat\",\"Grape\",\"Grapefruit\",\"Grapeseed oil\",\"Green soybean\",\"Groundnut oil\",\"Guava\",\"Honey\",\"Hop\",\"Horse\",\"Horse Mackerel\",\"Horseradish\",\"Huckleberry\",\"Ice cream\",\"Japanese pear\",\"Japanese persimmon\",\"Japanese plum\",\"Kale\",\"Kidney bean\",\"Kiwi\",\"Konjac\",\"Kyona\",\"Lactose\",\"Leek\",\"Lemon\",\"Lentil\",\"Lettuce \",\"Lima bean\",\"Lime\",\"Loquat\",\"Mackerel\",\"Makuwauri  melon\",\"Mango\",\"Melons\",\"Milk\",\"Mineral water\",\"Mitsuba\",\"Mume plum\",\"Mustard oil\",\"Mustard Spinach\",\"Nectarine\",\"Nira\",\"Okra\",\"Olive oil\",\"Onion\",\"Orange\",\"Orange pulp\",\"Papaya\",\"Parsley\",\"Parsnip\",\"Passion fruit\",\"Peach\",\"Peanut\",\"Pear\",\"Peas\",\"Peas\",\"Pecan\",\"Pegia\",\"Peppermint\",\"Percifomes\",\"Pig\",\"Pineapple\",\"Popcorn\",\"Potato\",\"Prune\",\"Pumpkin\",\"Qing-geng-cai\",\"Quince\",\"Radish leaf\",\"Radish root\",\"Rapeseed\",\"Raspberry\",\"Rice\",\"Ricebran oil\",\"Royal Jelly\",\"Rye\",\"Safflower seed\",\"Salmon\",\"Salsify\",\"Sansho\",\"Sea Bass\",\"Sea Bream\",\"Sesame seed\",\"Shallot\",\"Sheep\",\"Shelled mollusc\",\"Shiitake  mushroom\",\"Shungiku\",\"Sour cream\",\"Soybean\",\"Spearmint\",\"Spinach\",\"Squash\",\"Strawberry\",\"Sugar\",\"Sugar beet\",\"Sugarcane\",\"Sultani\",\"Sultapya\",\"Sunflower oil\",\"Sunflower seed\",\"Sweet corn\",\"Sweet Pepper\",\"Sweet potato\",\"Taro\",\"Tea\",\"Tetraodontiformes\",\"Tomato\",\"Trout\",\"Tuna\",\"Turkey\",\"Turnip leaf\",\"Turnip root\",\"Vegetable oil\",\"Walnut\",\"Water melon\",\"Watercress\",\"Welsh\",\"Wheat\",\"Whey\",\"White bean\",\"Yam\",\"Yogurt \"],\"Group\":[\"Oil seed\",\"Pome fruit\",\"Stone fruit\",\"Composite vegetable\",\"Liliaceous vegetable\",\"Tropical fruit\",\"Miscellaneous vegetable\",\"Tropical fruit\",\"Cereal grain\",\"Pulse\",\"Berry\",\"Pulse\",\"Berry\",\"Fish\",\"Pulse\",\"Cruciferous vegetable\",\"Cruciferous vegetable\",\"Cereal grain\",\"Composite vegetable\",\"Dairy\",\"Pulse\",\"Dairy\",\"Mushroom\",\"Cruciferous vegetable\",\"Beverage seed\",\"Oil\",\"Umbelliferous vegetable\",\"Dairy\",\"Offal\",\"Cruciferous vegetable\",\"Umbelliferous vegetable\",\"Dairy\",\"Stone fruit\",\"Oil seed\",\"Offal\",\"Composite vegetable\",\"Cruciferous vegetable\",\"Oil\",\"Beverage seed\",\"Cereal grain\",\"Oil\",\"Oil seed\",\"Berry\",\"Dairy\",\"Shellfish\",\"Cucurbitaceous vegetable\",\"Dairy\",\"Tropical fruit\",\"Offal\",\"Offal\",\"Fish\",\"Solanceous vegetable\",\"Egg\",\"Composite vegetable\",\"Sugar source\",\"Liliaceous vegetable\",\"Cucurbitaceous vegetable\",\"Miscellaneous vegetable\",\"Oil seed\",\"Fish\",\"Sugar source\",\"Offal\",\"Grape\",\"Citrus fruit / citric acid\",\"Oil\",\"Legumes vegetable\",\"Oil\",\"Tropical fruit\",\"Bee product\",\"Hop\",\"Offal\",\"Fish\",\"Cruciferous vegetable\",\"Berry\",\"Dairy\",\"Pome fruit\",\"Tropical fruit\",\"Stone fruit\",\"Cruciferous vegetable\",\"Legumes vegetable\",\"Tropical fruit\",\"Potato\",\"Cruciferous vegetable\",\"Sugar source\",\"Liliaceous vegetable\",\"Citrus fruit / citric acid\",\"Pulse\",\"Composite vegetable\",\"Pulse\",\"Citrus fruit / citric acid\",\"Pome fruit\",\"Fish\",\"Cucurbitaceous vegetable\",\"Tropical fruit\",\"Cucurbitaceous vegetable\",\"Dairy\",\"Mineral water\",\"Umbelliferous vegetable\",\"Stone fruit\",\"Oil\",\"Cruciferous vegetable\",\"Stone fruit\",\"Liliaceous vegetable\",\"Miscellaneous vegetable\",\"Oil\",\"Liliaceous vegetable\",\"Citrus fruit / citric acid\",\"Citrus fruit / citric acid\",\"Tropical fruit\",\"Umbelliferous vegetable\",\"Umbelliferous vegetable\",\"Tropical fruit\",\"Stone fruit\",\"Pulse\",\"Pome fruit\",\"Legumes vegetable\",\"Pulse\",\"Oil seed\",\"Pulse\",\"Herb\",\"Fish\",\"Offal\",\"Tropical fruit\",\"Cereal grain\",\"Potato\",\"Stone fruit\",\"Cucurbitaceous vegetable\",\"Cruciferous vegetable\",\"Pome fruit\",\"Cruciferous vegetable\",\"Cruciferous vegetable\",\"Oil seed\",\"Berry\",\"Cereal grain\",\"Oil\",\"Bee product\",\"Cereal grain\",\"Oil seed\",\"Fish\",\"Composite vegetable\",\"Spice\",\"Fish\",\"Fish\",\"Oil seed\",\"Liliaceous vegetable\",\"Offal\",\"Shellfish\",\"Mushroom\",\"Composite vegetable\",\"Dairy\",\"Pulse\",\"Herb\",\"Miscellaneous vegetable\",\"Cucurbitaceous vegetable\",\"Berry\",\"Sugar source\",\"Sugar source\",\"Sugar source\",\"Pulse\",\"Pulse\",\"Oil\",\"Oil seed\",\"Cereal grain\",\"Solanceous vegetable\",\"Potato\",\"Potato\",\"Tea\",\"Fish\",\"Solanceous vegetable\",\"Fish\",\"Fish\",\"Offal\",\"Cruciferous vegetable\",\"Cruciferous vegetable\",\"Oil\",\"Oil seed\",\"Cucurbitaceous vegetable\",\"Cruciferous vegetable\",\"Liliaceous vegetable\",\"Cereal grain\",\"Dairy\",\"Pulse\",\"Potato\",\"Dairy\"],\"Type\":[\"Nut and seed\",\"Fruit\",\"Fruit\",\"Vegetable\",\"Vegetable\",\"Fruit\",\"Vegetable\",\"Fruit\",\"Cereal grain and pulse\",\"Cereal grain and pulse\",\"Fruit\",\"Cereal grain and pulse\",\"Fruit\",\"Aquatic animal\",\"Cereal grain and pulse\",\"Vegetable\",\"Vegetable\",\"Cereal grain and pulse\",\"Vegetable\",\"Dairy\",\"Cereal grain and pulse\",\"Dairy\",\"Vegetable\",\"Vegetable\",\"Nut and seed\",\"Oil\",\"Vegetable\",\"Dairy\",\"Terrestrial mammal\",\"Vegetable\",\"Vegetable\",\"Dairy\",\"Fruit\",\"Nut and seed\",\"Poultry\",\"Vegetable\",\"Vegetable\",\"Oil\",\"Nut and seed\",\"Cereal grain and pulse\",\"Oil\",\"Nut and seed\",\"Fruit\",\"Dairy\",\"Aquatic animal\",\"Vegetable\",\"Dairy\",\"Fruit\",\"Terrestrial mammal\",\"Poultry\",\"Aquatic animal\",\"Vegetable\",\"Poultry\",\"Vegetable\",\"Vegetable\",\"Vegetable\",\"Vegetable\",\"Vegetable\",\"Nut and seed\",\"Aquatic animal\",\"Vegetable\",\"Terrestrial mammal\",\"Fruit\",\"Fruit\",\"Oil\",\"Vegetable\",\"Oil\",\"Fruit\",\"Bee product\",\"Hop\",\"Terrestrial mammal\",\"Aquatic animal\",\"Vegetable\",\"Fruit\",\"Dairy\",\"Fruit\",\"Fruit\",\"Fruit\",\"Vegetable\",\"Vegetable\",\"Fruit\",\"Vegetable\",\"Vegetable\",\"Vegetable\",\"Vegetable\",\"Fruit\",\"Cereal grain and pulse\",\"Vegetable\",\"Cereal grain and pulse\",\"Fruit\",\"Fruit\",\"Aquatic animal\",\"Vegetable\",\"Fruit\",\"Vegetable\",\"Dairy\",\"Mineral water\",\"Vegetable\",\"Fruit\",\"Oil\",\"Vegetable\",\"Fruit\",\"Vegetable\",\"Vegetable\",\"Oil\",\"Vegetable\",\"Fruit\",\"Fruit\",\"Fruit\",\"Vegetable\",\"Vegetable\",\"Fruit\",\"Fruit\",\"Cereal grain and pulse\",\"Fruit\",\"Vegetable\",\"Cereal grain and pulse\",\"Nut and seed\",\"Cereal grain and pulse\",\"Spice and herb\",\"Aquatic animal\",\"Terrestrial mammal\",\"Fruit\",\"Cereal grain and pulse\",\"Vegetable\",\"Fruit\",\"Vegetable\",\"Vegetable\",\"Fruit\",\"Vegetable\",\"Vegetable\",\"Nut and seed\",\"Fruit\",\"Cereal grain and pulse\",\"Oil\",\"Bee product\",\"Cereal grain and pulse\",\"Nut and seed\",\"Aquatic animal\",\"Vegetable\",\"Spice and herb\",\"Aquatic animal\",\"Aquatic animal\",\"Nut and seed\",\"Vegetable\",\"Terrestrial mammal\",\"Aquatic animal\",\"Vegetable\",\"Vegetable\",\"Dairy\",\"Cereal grain and pulse\",\"Spice and herb\",\"Vegetable\",\"Vegetable\",\"Fruit\",\"Vegetable\",\"Vegetable\",\"Vegetable\",\"Cereal grain and pulse\",\"Cereal grain and pulse\",\"Oil\",\"Nut and seed\",\"Cereal grain and pulse\",\"Vegetable\",\"Vegetable\",\"Vegetable\",\"Tea\",\"Aquatic animal\",\"Vegetable\",\"Aquatic animal\",\"Aquatic animal\",\"Poultry\",\"Vegetable\",\"Vegetable\",\"Oil\",\"Nut and seed\",\"Vegetable\",\"Vegetable\",\"Vegetable\",\"Cereal grain and pulse\",\"Dairy\",\"Cereal grain and pulse\",\"Vegetable\",\"Dairy\"],\"X\":{\"__ndarray__\":\"Z6pCQUT/0UDCkiBBvakzwe3gZcHAcORA7JBiwUBYA0Fdf67ADKu+QJk3HEBcmONAmTccQLT2B78QTtxA3T44wc+rL8Fdf67AvakzwfI/S75CUrdAddOTv+Mdk0BuLR/Bkg9LQTqJC0FIcjvB5zRfv9yMgUAK8CPBL306wST0qr+VzhdBiVc5QfTrUEAR0ivBdJUqwc6gBkGcJUtBbLawwAg6EkHWmzJBJKUPQH3sXL+0dnQ/0Q3swF0MQL8TLgFBZiNLQKeHWkCOkNu/FnPrwIXjQkC9qTPBai5sQBi7YMGdwQHB3ZBiwY38NkHSq8y/ai5sQPW2YkA/NBhAnDMNQN4MDkGSjBfBbicEQVoj9ECe1JfAIE31Pwv6RkBvDOa/higywV9lAUCOlZi/UuPRQPQe8EARFRpBSHYowQSAF8FaJvdASt8nQNlWO8Ern15A9WNjwcyVC0BB3b5ALOQrwZ/JzEDMlQtA75nNQIP4m7+pe/bA7kjkQKl79sDk496+vXy5QEhyO8HCkiBBKj4TQdlWO8FrfBtBFSBrwd2QYsEE7hBBFSBrwcyVC0DMlQtAoGHqQCqhO8EqoTvBsGf/QMKSIEFqD+dAIRjOQJKMF8GcUs9AtIBAQbBDuECuhstAsxO6v3ZLf0CeqgRBzpe+wA8wKEBTuRZBncEBwYrKMcEhGM5AprAuwWPWOMHKVEJBdEj8P8jKo8BBNxFBntSXwG3wpsAHsjJBogR/v51WMMHDKmJAtalJv6OU9L8HsjJBdcphwakhcUBEMHU/OTaTQD7DKcEOL1u+XJjjQJScy0DdkGLB+XP1wO+FCkBqLmxAai5sQGoubEA7iddAg6LKQOpyB0F3+D5Bzpe+wMWL68DgAixA4AIsQATpkUCKR5m/xYvrwCcMW79xgRm/UOp3QAHoI8EGUCrBVZ8EQY38NkH5c/XAMYAfwUhUaMEy7rnAYunqvkjkzUDr1itAdmR3vQ==\",\"dtype\":\"float32\",\"order\":\"little\",\"shape\":[184]},\"Y\":{\"__ndarray__\":\"GNS+P2o+P8EGOkLBwYkFQUqoJUGn5HTB7h1WQRTodsEC8BLBO9HEwLUo7cDU+rrAtSjtwGXQi8AlgJ3A+EVyQaSTeUEC8BLBwYkFQeDJdD8H+6zAV6lSPsCou7/lwHhBSxLfv9iSRz21yTtBY48muztmsT8sR3JBn386QZzKED94cj3BMQv8P83kkz+fnAtBCTxvQdLvrz5z8t6/7roFwd5/Rj/sv+4/9TzkwLMInD/7ig/ARxgiQSg7Iz9wz2zBqHLhPzDD+T8RjoHAKAlYQckim7/BiQVBs+rYQIxdHkGEOyJB7R1WQUAfLT/q/J/As+rYQIINhT9r+xTAclhawXfEqz8hy0VB7fV4Pxwwe8ELt56/j+Rcv06atz/fNpnAyu6EQQBA58BCCHo/b08/wTalbMFcMkfBPGZ7QSS5RUFaY2vBZ/OKwL95fEFn4sxAzFMaQeE0XMH5HqHAIZ0BQSZRmsDhNFzBenE9wRDujsCeiBxBliFuwZ6IHEGZpZo/1VSOvrXJO0EGOkLBLQXoPr95fEHRujrBNB8hQe0dVkE+YIs/NB8hQeE0XMHhNFzBK7h5wbn9O0G5/TtBoAd7wQY6QsGisKfA151AwSHLRUHhAqrASglHP5SkucAoChHAeslxwDmS3D/kh3HBSTIOwVkgi8BhzkLBhDsiQYqrb0HXnUDBUHuAQUdfg0E2jY8/rEbtwAEkDcHEj649C7eev5G8CMHY76Y/R0t0wM5hDUH2liLAKsCCwC5ei8DY76Y/3RkjQRbc9j/Lwg/AFP67vyCIBkEssG0+1Pq6wFoqEcDtHVZB9CQnQSu/88Cz6thAs+rYQLPq2ECYeMrAjlfKwEHWnD93muU/STIOwVweWEE4iYzAOImMwLf3T8Bp1KbAXB5YQQv4oMCTw5nAOg+PPzRfg0HuKoVB6ocMP0AfLT/0JCdBbW6AQYM2GkEQpAbBEv6MPAKhtcAHZYzA3mYUPw==\",\"dtype\":\"float32\",\"order\":\"little\",\"shape\":[184]},\"index\":[0,1,2,3,4,5,6,7,8,9,10,11,12,13,14,15,16,17,18,19,20,21,22,23,24,25,26,27,28,29,30,31,32,33,34,35,36,37,38,39,40,41,42,43,44,45,46,47,48,49,50,51,52,53,54,55,56,57,58,59,60,61,62,63,64,65,66,67,68,69,70,71,72,73,74,75,76,77,78,79,80,81,82,83,84,85,86,87,88,89,90,91,92,93,94,95,96,97,98,99,100,101,102,103,104,105,106,107,108,109,110,111,112,113,114,115,116,117,118,119,120,121,122,123,124,125,126,127,128,129,130,131,132,133,134,135,136,137,138,139,140,141,142,143,144,145,146,147,148,149,150,151,152,153,154,155,156,157,158,159,160,161,162,163,164,165,166,167,168,169,170,171,172,173,174,175,176,177,178,179,180,181,182,183]},\"selected\":{\"id\":\"1051\"},\"selection_policy\":{\"id\":\"1050\"}},\"id\":\"1003\",\"type\":\"ColumnDataSource\"},{\"attributes\":{},\"id\":\"1026\",\"type\":\"HelpTool\"},{\"attributes\":{\"fill_alpha\":{\"value\":0.1},\"fill_color\":{\"value\":\"#FF7373\"},\"line_alpha\":{\"value\":0.1},\"line_color\":{\"value\":\"#FF7373\"},\"size\":{\"units\":\"screen\",\"value\":10},\"x\":{\"field\":\"X\"},\"y\":{\"field\":\"Y\"}},\"id\":\"1037\",\"type\":\"Circle\"},{\"attributes\":{},\"id\":\"1025\",\"type\":\"ResetTool\"},{\"attributes\":{},\"id\":\"1021\",\"type\":\"PanTool\"},{\"attributes\":{},\"id\":\"1018\",\"type\":\"BasicTicker\"},{\"attributes\":{\"callback\":null,\"tooltips\":[[\"Food\",\"@Food\"],[\"Type\",\"@Type\"],[\"Allergy\",\"@Allergy\"],[\"Group\",\"@Group\"]]},\"id\":\"1042\",\"type\":\"HoverTool\"},{\"attributes\":{},\"id\":\"1014\",\"type\":\"BasicTicker\"},{\"attributes\":{},\"id\":\"1011\",\"type\":\"LinearScale\"},{\"attributes\":{\"active_drag\":\"auto\",\"active_inspect\":\"auto\",\"active_multi\":null,\"active_scroll\":\"auto\",\"active_tap\":\"auto\",\"tools\":[{\"id\":\"1021\"},{\"id\":\"1022\"},{\"id\":\"1023\"},{\"id\":\"1024\"},{\"id\":\"1025\"},{\"id\":\"1026\"},{\"id\":\"1042\"}]},\"id\":\"1028\",\"type\":\"Toolbar\"}],\"root_ids\":[\"1004\"]},\"title\":\"Bokeh Application\",\"version\":\"2.2.3\"}};\n",
              "  var render_items = [{\"docid\":\"81560be8-1132-4290-9c9a-43ca16e167fd\",\"root_ids\":[\"1004\"],\"roots\":{\"1004\":\"45d77b61-af9e-427a-9ad7-869255d4266e\"}}];\n",
              "  root.Bokeh.embed.embed_items_notebook(docs_json, render_items);\n",
              "\n",
              "  }\n",
              "  if (root.Bokeh !== undefined) {\n",
              "    embed_document(root);\n",
              "  } else {\n",
              "    var attempts = 0;\n",
              "    var timer = setInterval(function(root) {\n",
              "      if (root.Bokeh !== undefined) {\n",
              "        clearInterval(timer);\n",
              "        embed_document(root);\n",
              "      } else {\n",
              "        attempts++;\n",
              "        if (attempts > 100) {\n",
              "          clearInterval(timer);\n",
              "          console.log(\"Bokeh: ERROR: Unable to run BokehJS code because BokehJS library is missing\");\n",
              "        }\n",
              "      }\n",
              "    }, 10, root)\n",
              "  }\n",
              "})(window);"
            ],
            "application/vnd.bokehjs_exec.v0+json": ""
          },
          "metadata": {
            "tags": [],
            "application/vnd.bokehjs_exec.v0+json": {
              "id": "1004"
            }
          }
        }
      ]
    },
    {
      "cell_type": "code",
      "metadata": {
        "id": "0qSEGm5QKOCm",
        "outputId": "7192b1d0-d948-4e10-ef0f-35dbc0098ad0"
      },
      "source": [
        "#cosine similaritu\n",
        "df_2 = df[df.Group == 'Oil seed'].reset_index().drop('index', axis = 1)\n",
        "df_2['dist'] = 0.0\n",
        "\n",
        "myItem = df_2[df_2.Food.str.contains('Almond')]\n",
        "myItem"
      ],
      "execution_count": null,
      "outputs": [
        {
          "output_type": "execute_result",
          "data": {
            "text/html": [
              "<div>\n",
              "<style scoped>\n",
              "    .dataframe tbody tr th:only-of-type {\n",
              "        vertical-align: middle;\n",
              "    }\n",
              "\n",
              "    .dataframe tbody tr th {\n",
              "        vertical-align: top;\n",
              "    }\n",
              "\n",
              "    .dataframe thead th {\n",
              "        text-align: right;\n",
              "    }\n",
              "</style>\n",
              "<table border=\"1\" class=\"dataframe\">\n",
              "  <thead>\n",
              "    <tr style=\"text-align: right;\">\n",
              "      <th></th>\n",
              "      <th>Class</th>\n",
              "      <th>Type</th>\n",
              "      <th>Group</th>\n",
              "      <th>Food</th>\n",
              "      <th>Allergy</th>\n",
              "      <th>X</th>\n",
              "      <th>Y</th>\n",
              "      <th>dist</th>\n",
              "    </tr>\n",
              "  </thead>\n",
              "  <tbody>\n",
              "    <tr>\n",
              "      <th>0</th>\n",
              "      <td>Plant origin</td>\n",
              "      <td>Nut and seed</td>\n",
              "      <td>Oil seed</td>\n",
              "      <td>Almond</td>\n",
              "      <td>Nut Allergy</td>\n",
              "      <td>12.166602</td>\n",
              "      <td>1.490848</td>\n",
              "      <td>0.0</td>\n",
              "    </tr>\n",
              "  </tbody>\n",
              "</table>\n",
              "</div>"
            ],
            "text/plain": [
              "          Class          Type     Group    Food      Allergy          X  \\\n",
              "0  Plant origin  Nut and seed  Oil seed  Almond  Nut Allergy  12.166602   \n",
              "\n",
              "          Y  dist  \n",
              "0  1.490848   0.0  "
            ]
          },
          "metadata": {
            "tags": []
          },
          "execution_count": 16
        }
      ]
    },
    {
      "cell_type": "code",
      "metadata": {
        "id": "hpcGQSPtKOCn",
        "outputId": "a65825fb-7d58-489a-d8b6-fbec3e09b249"
      },
      "source": [
        "# getting the array for myItem\n",
        "P1 = np.array([myItem.X.values, myItem.Y.values]).reshape(1, -1)\n",
        "P1"
      ],
      "execution_count": null,
      "outputs": [
        {
          "output_type": "execute_result",
          "data": {
            "text/plain": [
              "array([[12.166602 ,  1.4908476]], dtype=float32)"
            ]
          },
          "metadata": {
            "tags": []
          },
          "execution_count": 17
        }
      ]
    },
    {
      "cell_type": "code",
      "metadata": {
        "id": "a-N1x4ViKOCo",
        "outputId": "786e1d3c-dcc3-4cb7-a581-9cd568d146e8"
      },
      "source": [
        "# cosine similarities with other items\n",
        "for i in range(len(df_2)):\n",
        "    P2 = np.array([df_2['X'][i], df_2['Y'][i]]).reshape(-1, 1)\n",
        "    df_2.dist[i] = (P1 * P2).sum() / (np.sqrt(np.sum(P1))*np.sqrt(np.sum(P2)))"
      ],
      "execution_count": null,
      "outputs": [
        {
          "output_type": "stream",
          "text": [
            "<ipython-input-18-f10769f4a713>:4: SettingWithCopyWarning: \n",
            "A value is trying to be set on a copy of a slice from a DataFrame\n",
            "\n",
            "See the caveats in the documentation: https://pandas.pydata.org/pandas-docs/stable/user_guide/indexing.html#returning-a-view-versus-a-copy\n",
            "  df_2.dist[i] = (P1 * P2).sum() / (np.sqrt(np.sum(P1))*np.sqrt(np.sum(P2)))\n"
          ],
          "name": "stderr"
        }
      ]
    },
    {
      "cell_type": "code",
      "metadata": {
        "id": "UT6VT-qjKOCo",
        "outputId": "44ec5144-abb4-46d6-95eb-70a122df6e4c"
      },
      "source": [
        "#5 food that related with myItem\n",
        "df_2 = df_2.sort_values('dist')\n",
        "df_2[['Food', 'Group','Allergy','Type','dist']].head(5)"
      ],
      "execution_count": null,
      "outputs": [
        {
          "output_type": "execute_result",
          "data": {
            "text/html": [
              "<div>\n",
              "<style scoped>\n",
              "    .dataframe tbody tr th:only-of-type {\n",
              "        vertical-align: middle;\n",
              "    }\n",
              "\n",
              "    .dataframe tbody tr th {\n",
              "        vertical-align: top;\n",
              "    }\n",
              "\n",
              "    .dataframe thead th {\n",
              "        text-align: right;\n",
              "    }\n",
              "</style>\n",
              "<table border=\"1\" class=\"dataframe\">\n",
              "  <thead>\n",
              "    <tr style=\"text-align: right;\">\n",
              "      <th></th>\n",
              "      <th>Food</th>\n",
              "      <th>Group</th>\n",
              "      <th>Allergy</th>\n",
              "      <th>Type</th>\n",
              "      <th>dist</th>\n",
              "    </tr>\n",
              "  </thead>\n",
              "  <tbody>\n",
              "    <tr>\n",
              "      <th>3</th>\n",
              "      <td>Ginkgo nut</td>\n",
              "      <td>Oil seed</td>\n",
              "      <td>Nut Allergy</td>\n",
              "      <td>Nut and seed</td>\n",
              "      <td>12.862020</td>\n",
              "    </tr>\n",
              "    <tr>\n",
              "      <th>9</th>\n",
              "      <td>Walnut</td>\n",
              "      <td>Oil seed</td>\n",
              "      <td>Nut Allergy</td>\n",
              "      <td>Nut and seed</td>\n",
              "      <td>12.862020</td>\n",
              "    </tr>\n",
              "    <tr>\n",
              "      <th>6</th>\n",
              "      <td>Safflower seed</td>\n",
              "      <td>Oil seed</td>\n",
              "      <td>Seed Allergy</td>\n",
              "      <td>Nut and seed</td>\n",
              "      <td>13.051617</td>\n",
              "    </tr>\n",
              "    <tr>\n",
              "      <th>7</th>\n",
              "      <td>Sesame seed</td>\n",
              "      <td>Oil seed</td>\n",
              "      <td>Seed Allergy</td>\n",
              "      <td>Nut and seed</td>\n",
              "      <td>13.051617</td>\n",
              "    </tr>\n",
              "    <tr>\n",
              "      <th>4</th>\n",
              "      <td>Pecan</td>\n",
              "      <td>Oil seed</td>\n",
              "      <td>Nut Allergy</td>\n",
              "      <td>Nut and seed</td>\n",
              "      <td>13.226375</td>\n",
              "    </tr>\n",
              "  </tbody>\n",
              "</table>\n",
              "</div>"
            ],
            "text/plain": [
              "             Food     Group       Allergy          Type       dist\n",
              "3      Ginkgo nut  Oil seed   Nut Allergy  Nut and seed  12.862020\n",
              "9          Walnut  Oil seed   Nut Allergy  Nut and seed  12.862020\n",
              "6  Safflower seed  Oil seed  Seed Allergy  Nut and seed  13.051617\n",
              "7     Sesame seed  Oil seed  Seed Allergy  Nut and seed  13.051617\n",
              "4           Pecan  Oil seed   Nut Allergy  Nut and seed  13.226375"
            ]
          },
          "metadata": {
            "tags": []
          },
          "execution_count": 19
        }
      ]
    }
  ]
}