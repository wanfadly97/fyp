{
  "nbformat": 4,
  "nbformat_minor": 0,
  "metadata": {
    "kernelspec": {
      "display_name": "Python 3",
      "language": "python",
      "name": "python3"
    },
    "language_info": {
      "codemirror_mode": {
        "name": "ipython",
        "version": 3
      },
      "file_extension": ".py",
      "mimetype": "text/x-python",
      "name": "python",
      "nbconvert_exporter": "python",
      "pygments_lexer": "ipython3",
      "version": "3.8.5"
    },
    "colab": {
      "name": "ingre_test.ipynb",
      "provenance": [],
      "include_colab_link": true
    }
  },
  "cells": [
    {
      "cell_type": "markdown",
      "metadata": {
        "id": "view-in-github",
        "colab_type": "text"
      },
      "source": [
        "<a href=\"https://colab.research.google.com/github/wanfadly97/fyp/blob/main/ingre_test.ipynb\" target=\"_parent\"><img src=\"https://colab.research.google.com/assets/colab-badge.svg\" alt=\"Open In Colab\"/></a>"
      ]
    },
    {
      "cell_type": "code",
      "metadata": {
        "id": "b9cNwzZCBB0v",
        "outputId": "01a7cf37-966f-49eb-97a5-d19a802cf5a9"
      },
      "source": [
        "pwd"
      ],
      "execution_count": null,
      "outputs": [
        {
          "output_type": "execute_result",
          "data": {
            "text/plain": [
              "'C:\\\\Users\\\\user\\\\Desktop\\\\KEJA PALI\\\\fyp\\\\fyp\\\\data'"
            ]
          },
          "metadata": {
            "tags": []
          },
          "execution_count": 1
        }
      ]
    },
    {
      "cell_type": "code",
      "metadata": {
        "id": "OwhCeuMTBB0z",
        "outputId": "a6c726d6-d851-4704-a984-e71eaf0128be"
      },
      "source": [
        "# Import libraries\n",
        "import pandas as pd\n",
        "import numpy as np\n",
        "from sklearn.manifold import TSNE\n",
        "import re\n",
        "import string\n",
        "\n",
        "# Load the data\n",
        "df = pd.read_csv('C:\\\\Users\\\\user\\\\Desktop\\\\KEJA PALI\\\\fyp\\\\fyp\\\\data\\\\ingre_nutri.csv')\n",
        "\n",
        "# Display a sample of five rows\n",
        "display(df.sample(5))\n",
        "\n",
        "# Counts of product types\n",
        "df.ingredients.value_counts()"
      ],
      "execution_count": null,
      "outputs": [
        {
          "output_type": "display_data",
          "data": {
            "text/html": [
              "<div>\n",
              "<style scoped>\n",
              "    .dataframe tbody tr th:only-of-type {\n",
              "        vertical-align: middle;\n",
              "    }\n",
              "\n",
              "    .dataframe tbody tr th {\n",
              "        vertical-align: top;\n",
              "    }\n",
              "\n",
              "    .dataframe thead th {\n",
              "        text-align: right;\n",
              "    }\n",
              "</style>\n",
              "<table border=\"1\" class=\"dataframe\">\n",
              "  <thead>\n",
              "    <tr style=\"text-align: right;\">\n",
              "      <th></th>\n",
              "      <th>id</th>\n",
              "      <th>fdc_id</th>\n",
              "      <th>food</th>\n",
              "      <th>ingredients</th>\n",
              "      <th>nutrient_id</th>\n",
              "      <th>amount</th>\n",
              "      <th>nutrient</th>\n",
              "    </tr>\n",
              "  </thead>\n",
              "  <tbody>\n",
              "    <tr>\n",
              "      <th>28430</th>\n",
              "      <td>318292</td>\n",
              "      <td>452253</td>\n",
              "      <td>LIGHT ICE CREAM</td>\n",
              "      <td>SKIM MILK, MILK PROTEIN ISOLATE, ERYTHRITOL (N...</td>\n",
              "      <td>1087</td>\n",
              "      <td>286.0</td>\n",
              "      <td>Calcium</td>\n",
              "    </tr>\n",
              "    <tr>\n",
              "      <th>2923</th>\n",
              "      <td>33457</td>\n",
              "      <td>389739</td>\n",
              "      <td>ELENI'S KITCHEN, ETHIOPIAN SIMMER SAUCE</td>\n",
              "      <td>ONIONS, ORGANIC TOMATO PUREE, OLIVE OIL, RED C...</td>\n",
              "      <td>1087</td>\n",
              "      <td>0.0</td>\n",
              "      <td>Calcium</td>\n",
              "    </tr>\n",
              "    <tr>\n",
              "      <th>18753</th>\n",
              "      <td>212843</td>\n",
              "      <td>428075</td>\n",
              "      <td>FLAVORED ORGANIC ITALIAN SODA</td>\n",
              "      <td>CARBONATED WATER, ORGANIC SUGAR, ORGANIC APPLE...</td>\n",
              "      <td>1004</td>\n",
              "      <td>0.0</td>\n",
              "      <td>FAT</td>\n",
              "    </tr>\n",
              "    <tr>\n",
              "      <th>6577</th>\n",
              "      <td>74901</td>\n",
              "      <td>398397</td>\n",
              "      <td>BASIL SEED WITH PASSION FRUIT JUICE</td>\n",
              "      <td>WATER, SUGAR, PASSION FRUIT JUICE(2%) BASIL SE...</td>\n",
              "      <td>1087</td>\n",
              "      <td>6.0</td>\n",
              "      <td>Calcium</td>\n",
              "    </tr>\n",
              "    <tr>\n",
              "      <th>6079</th>\n",
              "      <td>69222</td>\n",
              "      <td>397525</td>\n",
              "      <td>SAUCE</td>\n",
              "      <td>WATER, DEHYDRATED COCONUT MILK (COCONUT MILK, ...</td>\n",
              "      <td>1087</td>\n",
              "      <td>33.0</td>\n",
              "      <td>Calcium</td>\n",
              "    </tr>\n",
              "  </tbody>\n",
              "</table>\n",
              "</div>"
            ],
            "text/plain": [
              "           id  fdc_id                                     food  \\\n",
              "28430  318292  452253                          LIGHT ICE CREAM   \n",
              "2923    33457  389739  ELENI'S KITCHEN, ETHIOPIAN SIMMER SAUCE   \n",
              "18753  212843  428075            FLAVORED ORGANIC ITALIAN SODA   \n",
              "6577    74901  398397      BASIL SEED WITH PASSION FRUIT JUICE   \n",
              "6079    69222  397525                                    SAUCE   \n",
              "\n",
              "                                             ingredients  nutrient_id  amount  \\\n",
              "28430  SKIM MILK, MILK PROTEIN ISOLATE, ERYTHRITOL (N...         1087   286.0   \n",
              "2923   ONIONS, ORGANIC TOMATO PUREE, OLIVE OIL, RED C...         1087     0.0   \n",
              "18753  CARBONATED WATER, ORGANIC SUGAR, ORGANIC APPLE...         1004     0.0   \n",
              "6577   WATER, SUGAR, PASSION FRUIT JUICE(2%) BASIL SE...         1087     6.0   \n",
              "6079   WATER, DEHYDRATED COCONUT MILK (COCONUT MILK, ...         1087    33.0   \n",
              "\n",
              "      nutrient  \n",
              "28430  Calcium  \n",
              "2923   Calcium  \n",
              "18753      FAT  \n",
              "6577   Calcium  \n",
              "6079   Calcium  "
            ]
          },
          "metadata": {
            "tags": []
          }
        },
        {
          "output_type": "execute_result",
          "data": {
            "text/plain": [
              "WHOLE WHEAT FLOUR, WATER, ENRICHED WHEAT FLOUR [FLOUR, MALTED BARLEY FLOUR, REDUCED IRON, NIACIN, THIAMIN MONONITRATE (VITAMIN B1), RIBOFLAVIN (VITAMIN B2), FOLIC ACID], CELLULOSE FIBER, YEAST, WHOLE GRAINS (WHEAT, RYE, GROUND CORN, OATS, TRITICALE, BROWN RICE, BARLEY FLAKES, MILLET), WHEAT GLUTEN, SUGAR, SALT, FLAXSEED, CULTURED WHEAT STARCH, GRAIN VINEGAR, SOYBEAN AND/OR CANOLA OIL, SOY LECITHIN, CITRIC ACID, CELLULOSE GUM, XANTHAN GUM, REB A (STEVIA LEAF SWEETENER), CULTURED DEXTROSE AND MALTODEXTRIN (A NATURAL PRESERVATIVE), SUNFLOWER LECITHIN, WHEAT STARCH.    1\n",
              "OKRA, WATER, SALT                                                                                                                                                                                                                                                                                                                                                                                                                                                                                                                                                                           1\n",
              "SWEET POTATO, SQUASH, TARO, CARROT, GREEN BEAN, PURPLE SWEET POTATO, NON-HYDROGENATED CANOLA OIL, DEXTRIN, SEA SALT                                                                                                                                                                                                                                                                                                                                                                                                                                                                         1\n",
              "PEANUTS* HONEY*, RAISINS*, SUNFLOWER KERNELS*, PUMPKIN SEEDS*, ALMONDS*.                                                                                                                                                                                                                                                                                                                                                                                                                                                                                                                    1\n",
              "PEANUTS, CANE SUGAR, PALM FRUIT OIL, SALT.                                                                                                                                                                                                                                                                                                                                                                                                                                                                                                                                                  1\n",
              "                                                                                                                                                                                                                                                                                                                                                                                                                                                                                                                                                                                           ..\n",
              "PISTACHIOS, SALT, CHILI PEPPER, MALTODEXTRINE, HYDROGENIZED, CORN PROTEIN, CITRIC ACID, SOLUBLE BLACK PEPPER, GARLIC POWDER, OREGANO, LEMON EXTRACT, TURMERIC, EXTRACT OF CORIANDER, EXTRACT OF CAPSICUM                                                                                                                                                                                                                                                                                                                                                                                    1\n",
              "WATER, SUGAR, MANGO PUREE, PINEAPPLE JUICE CONCENTRATE, GUAVA PUREE, CITRIC ACID, ASCORBIC ACID (VITAMIN C), BETA CAROTENE (COLOR), NATURAL AND ARTIFICIAL FLAVORS, XANTHAN GUM.                                                                                                                                                                                                                                                                                                                                                                                                            1\n",
              "MANGOES, CANE SUGAR, ORANGES & ORANGE JUICE CONCENTRATE, WATER, APPLE CIDER VINEGAR, COCONUT, CORN STARCH, LEMON JUICE CONCENTRATE, VIRGIN COCONUT OIL, SEA SALT, PAPRIKA, SPICES, HABANERO PEPPER POWDER.                                                                                                                                                                                                                                                                                                                                                                                  1\n",
              "SOLE                                                                                                                                                                                                                                                                                                                                                                                                                                                                                                                                                                                        1\n",
              "PORK, WATER, SUGAR, WITH 2% OR LESS OF THE FOLLOWING: SALT, CELERY POWDER, MUSTARD, CHERRY POWDER, SPICE, SPICE EXTRACTIVES, FLAVOR.                                                                                                                                                                                                                                                                                                                                                                                                                                                        1\n",
              "Name: ingredients, Length: 50286, dtype: int64"
            ]
          },
          "metadata": {
            "tags": []
          },
          "execution_count": 2
        }
      ]
    },
    {
      "cell_type": "code",
      "metadata": {
        "id": "GjO3M7-IBB00"
      },
      "source": [
        "df=df[0:100]"
      ],
      "execution_count": null,
      "outputs": []
    },
    {
      "cell_type": "code",
      "metadata": {
        "id": "CXJ0tlwWBB01"
      },
      "source": [
        "# embedding each ingredients\n",
        "ingredient_idx = {}\n",
        "corpus = []\n",
        "idx = 0\n",
        "ingredients = df['ingredients'].astype(str)\n",
        "for i in range(len(df)):\n",
        "        ingreds = ingredients[i]\n",
        "        #convert ingredient column into lowercase\n",
        "        ingreds = ingreds.lower()\n",
        "        #split sentences by symbols\n",
        "        tokens=re.split(' | |; |, |\\*|\\n',ingreds)\n",
        "        table = str.maketrans('', '', string.punctuation)\n",
        "        tokens = [w.translate(table) for w in tokens]\n",
        "\n",
        "         #filter out numbers in words\n",
        "        tokens = [word for word in tokens if word.isalpha()]\n",
        "        # filter out stop words\n",
        "        from nltk.corpus import stopwords\n",
        "        stop_words = set(stopwords.words('english'))\n",
        "        tokens = [w for w in tokens if not w in stop_words]\n",
        "\n",
        "        # filter out common words\n",
        "        common_words = {\"enriched\", \"following\", \"ingredients\", \"meal\", \"natural\",\"wax\",\"lake\", \"concentrated\" }\n",
        "        tokens = [w for w in tokens if not w in common_words]\n",
        "        corpus.append(tokens)\n",
        "        for ingredient in tokens:\n",
        "            if ingredient not in ingredient_idx:\n",
        "                ingredient_idx[ingredient] = idx\n",
        "                idx += 1\n",
        "                \n",
        "              \n",
        "\n",
        "    \n"
      ],
      "execution_count": null,
      "outputs": []
    },
    {
      "cell_type": "code",
      "metadata": {
        "id": "jU_s00xcBB01",
        "outputId": "51eba3f8-c6ad-4941-ec68-9f0e55c7b64d"
      },
      "source": [
        "# Get the number of items and tokens\n",
        "M = len(df)                 # The number of the items\n",
        "N = len(ingredient_idx)     # The number of the ingredients\n",
        "print(corpus)\n",
        "# Initialize a matrix of zeros\n",
        "A = np.zeros(shape = (M, N))\n",
        "A.shape()"
      ],
      "execution_count": null,
      "outputs": [
        {
          "output_type": "stream",
          "text": [
            "[['organic', 'broccoli'], ['beef', 'soy', 'sauce', 'water', 'salt', 'hydrolyzed', 'soy', 'protein', 'corn', 'syrup', 'caramel', 'color', 'potassium', 'sorbate', 'seasoning', 'garlic', 'pepper', 'red', 'pepper'], ['turkey', 'mechanically', 'separated', 'turkey', 'contains', 'less', 'salt', 'corn', 'syrup', 'solids', 'spices', 'dextrose', 'lactic', 'acid', 'starter', 'culture', 'carrageenan', 'sodium', 'erythorbate', 'made', 'sugar', 'garlic', 'powder', 'sodium', 'nitrite', 'collagen', 'casing'], ['green', 'lima', 'beans', 'water', 'monosodium', 'glutamate', 'salt', 'dehydrated', 'onion', 'sugar', 'spices', 'rendered', 'bacon', 'fat', 'calcium', 'chloride', 'firming', 'agent', 'hickory', 'smoke', 'flavor'], ['sugar', 'nonfat', 'dry', 'milk', 'whey', 'dutchprocessed', 'cocoa', 'coconut', 'oil', 'corn', 'syrup', 'solids', 'partially', 'hydrogenated', 'soybean', 'oil', 'salt', 'potassium', 'sodium', 'phosphate', 'cellulose', 'gum', 'mono', 'diglycerides', 'sodium', 'caseinate', 'artificial', 'flavor', 'soy', 'lecithin'], ['popcorn', 'vegetable', 'oil', 'one', 'corn', 'cottonseed', 'palm', 'whey', 'salt', 'maltodextrin', 'corn', 'starch', 'shortening', 'powder', 'partially', 'hydrogenated', 'soybean', 'oil', 'corn', 'syrup', 'solids', 'sodium', 'caseinate', 'mono', 'diglycerides', 'cultured', 'buttermilk', 'skim', 'milk', 'lactic', 'acid', 'cultures', 'artificial', 'flavors', 'monosodium', 'glutamate', 'artificial', 'colors', 'yellow', 'yellow', 'citric', 'acid', 'disodium', 'phosphate', 'lactic', 'acid', 'disodium', 'inosinate', 'disodium', 'guanylate'], ['organic', 'whole', 'grain', 'wheat', 'flour', 'organic', 'wheat', 'flour', 'niacin', 'iron', 'thiamin', 'mononitrate', 'riboflavin', 'folic', 'acid', 'organic', 'cane', 'sugar', 'organic', 'palm', 'oil', 'organic', 'cane', 'sugar', 'syrup', 'organic', 'canola', 'oil', 'sodium', 'bicarbonate', 'organic', 'soy', 'lecithin', 'organic', 'vanilla', 'extract', 'sea', 'salt'], ['salt', 'beef', 'fat', 'bha', 'propyl', 'gallate', 'citric', 'acid', 'added', 'protect', 'flavor', 'dextrose', 'hydrolyzed', 'soy', 'protein', 'corn', 'gluten', 'wheat', 'protein', 'contains', 'salt', 'caramel', 'color', 'food', 'starchmodified', 'monosodium', 'glutamate', 'onion', 'powder', 'caramel', 'color', 'beef', 'extract', 'lactic', 'acid', 'sodium', 'inosinate', 'disodium', 'guanylate', 'flavoring', 'oleoresin', 'paprika', 'sulfiting', 'agents'], ['water', 'salt', 'sugar', 'sodium', 'erythorbate', 'sodium', 'nitrite'], ['cabbage', 'water', 'sea', 'salt', 'crushed', 'chili', 'peppers', 'polysorbate', 'extractives', 'paprika', 'flavors'], ['turkey', 'breast', 'turkey', 'broth', 'salt', 'contains', 'less', 'vinegar', 'sugar', 'modified', 'food', 'starch', 'sodium', 'phosphate', 'sodium', 'erythorbate', 'sodium', 'nitrite', 'flavoring'], ['stone', 'ground', 'corn', 'water', 'contains', 'less', 'citric', 'acid', 'potato', 'starch', 'guar', 'gum', 'cellulose', 'gum', 'enzyme', 'maintain', 'freshness', 'calcium', 'propionate'], ['stone', 'ground', 'corn', 'water', 'contains', 'less', 'citric', 'acid', 'potato', 'starch', 'guar', 'gum', 'cellulose', 'gum', 'enzyme', 'maintain', 'freshness', 'calcium', 'propionate'], ['potatoes', 'cottonseed', 'oil', 'salt'], ['processed', 'corn', 'vegetable', 'oil', 'one', 'soybean', 'oil', 'cottonseed', 'oil', 'corn', 'oil', 'maltodextrin', 'whey', 'corn', 'flour', 'cheddar', 'blue', 'cheese', 'pasteurized', 'milk', 'salt', 'annatto', 'extract', 'cheese', 'culture', 'enzymes', 'salt', 'butter', 'cream', 'water', 'salt', 'artificial', 'flavor', 'buttermilk', 'monosodium', 'glutamate', 'yellow', 'yellow', 'yellow'], ['cured', 'water', 'salt', 'sodium', 'phosphates', 'sodium', 'erythorbate', 'sodium', 'nitrite', 'flavorings'], ['cured', 'water', 'salt', 'sugar', 'contains', 'less', 'sodium', 'phosphates', 'sodium', 'erythorbate', 'sodium', 'nitrite', 'sodium', 'lactate', 'sodium', 'diacetate', 'flavor'], ['diced', 'tomatoes', 'tomatoes', 'tomato', 'juice', 'citric', 'acid', 'calcium', 'chloride', 'cream', 'skim', 'milk', 'water', 'pinto', 'beans', 'jalapeno', 'pepper', 'cheddar', 'cheese', 'pasteurized', 'milk', 'cheese', 'culture', 'salt', 'enzymes', 'annatto', 'color', 'natamycin', 'mold', 'inhibitor', 'tomato', 'paste', 'modified', 'corn', 'starch', 'invert', 'sugar', 'dehydrated', 'onion', 'garlic', 'salt', 'onion', 'cilantro', 'gelatin', 'cultured', 'skim', 'milk', 'lactic', 'citric', 'acid', 'garlic', 'xanthan', 'gum', 'dehydrated', 'red', 'green', 'bell', 'pepper', 'milk', 'protein', 'isolate', 'spice', 'maltodextrin', 'citrus', 'fiber', 'mono', 'diglycerides', 'acetic', 'acid', 'avocado', 'lime', 'juice', 'concentrate', 'corn', 'fiber', 'disodium', 'phosphate', 'monosodium', 'glutamate', 'flavor', 'locust', 'bean', 'gum', 'white', 'vinegar', 'tomato', 'powder', 'lemon', 'juice', 'concentrate', 'parsley', 'calcium', 'chloride', 'sugar', 'yellow', 'yellow', 'calcium', 'disodium', 'edta', 'protect', 'flavor', 'caramel', 'color', 'carrageenan', 'ascorbic', 'acid', 'vitamin', 'c', 'blue'], ['apple', 'puree', 'apple', 'juice', 'strawberry', 'juice', 'ascorbic', 'acid', 'vitamin', 'c', 'flavor', 'purple', 'carrot', 'juice', 'color', 'pectin', 'glaze', 'sunflower', 'oil', 'carnauba'], ['organic', 'apple', 'puree', 'concentrate', 'organic', 'apple', 'juice', 'concentrate', 'organic', 'strawberry', 'juice', 'concentrate', 'organic', 'raspberry', 'juice', 'concentrate', 'organic', 'blueberry', 'juice', 'concentrate', 'ascorbic', 'acid', 'vitamin', 'c', 'organic', 'flavors', 'purple', 'carrot', 'juice', 'concentrate', 'color', 'pectin', 'organic', 'glaze', 'organic', 'sunflower', 'oil', 'organic', 'carnauba'], ['milk', 'chocolate', 'sugar', 'milk', 'cocoa', 'butter', 'chocolate', 'soya', 'lecithin', 'emulsifier', 'barley', 'malt', 'powder', 'vanillin', 'artificial', 'flavoring', 'vegetable', 'oil', 'coconut', 'palm', 'kernel', 'sugar', 'cocoa', 'butter', 'milk', 'skim', 'milk', 'soya', 'lecithin', 'emulsifier', 'artificial', 'flavors'], ['farm', 'raised', 'shrimp'], ['canola', 'oil', 'water', 'white', 'distilled', 'vinegar', 'contains', 'less', 'lemon', 'juice', 'concentrate', 'pea', 'protein', 'salt', 'spice', 'dried', 'cane', 'syrup', 'modified', 'food', 'starch', 'fruit', 'vegetable', 'juice', 'color'], ['sweet', 'potato', 'powder', 'potato', 'powder', 'potato', 'starch', 'corn', 'soybean', 'oil', 'andor', 'sunflower', 'oil', 'corn', 'cane', 'sugar', 'molasses', 'powder', 'salt', 'rice', 'flour', 'flavors', 'lemon', 'juice', 'powder', 'corn', 'syrup', 'solids', 'lemon', 'juice', 'solids', 'flavors', 'extractives', 'paprika'], ['corn', 'soybean', 'oil', 'andor', 'sunflower', 'oil', 'whey', 'maltodextrin', 'salt', 'jalapeno', 'pepper', 'buttermilk', 'sugar', 'onion', 'powder', 'garlic', 'powder', 'artificial', 'flavors', 'rice', 'concentrate', 'cheddar', 'cheese', 'cultured', 'milk', 'salt', 'enzymes', 'citric', 'acid', 'yeast', 'extract', 'extractive', 'paprika', 'disodium', 'phosphate', 'calcium', 'carbonate'], ['almonds', 'peanut', 'oil', 'salt'], ['almonds'], ['pecans', 'sugar', 'tapioca', 'syrup', 'salt', 'vegetable', 'oil', 'contains', 'one', 'canola', 'oil', 'safflower', 'oil', 'sunflower', 'oil', 'soy', 'lecithin', 'rosemary', 'extract'], ['peanuts', 'cashews', 'almonds', 'pecans', 'brazil', 'nuts', 'peanut', 'oil', 'salt'], ['cows', 'milk', 'cheese', 'cultures', 'salt', 'enzymes'], ['organic', 'hass', 'avocado'], ['prepared', 'organic', 'red', 'kidney', 'beans', 'water', 'sea', 'salt'], ['organic', 'whole', 'grain', 'wheat', 'organic', 'cane', 'sugar', 'organic', 'whole', 'grain', 'brown', 'rice', 'organic', 'oat', 'hull', 'fiber', 'organic', 'cinnamon', 'sea', 'salt', 'calcium', 'carbonate', 'tocopherols', 'antioxidants', 'maintain', 'freshness'], ['milk', 'chocolate', 'sugar', 'cocoa', 'butter', 'whole', 'milk', 'powder', 'chocolate', 'liquor', 'lactose', 'soy', 'lecithin', 'emulsifier', 'milk', 'fat', 'lipolyzed', 'milk', 'fat', 'salt', 'vanilla', 'artificial', 'flavor', 'sweet', 'chocolate', 'sugar', 'chocolate', 'liquor', 'cocoa', 'butter', 'soy', 'lecithin', 'emulsifier', 'vanilla', 'roasted', 'peanuts', 'peanuts', 'cottonseed', 'andor', 'peanut', 'oil', 'salt', 'tbhq', 'preservative', 'corn', 'syrup', 'sugar', 'raisins', 'almonds', 'sweetened', 'condensed', 'milk', 'milk', 'skim', 'milk', 'sugar', 'partially', 'hydrogenated', 'vegetable', 'oil', 'contains', 'one', 'palm', 'kernel', 'soybean', 'cottonseed', 'coconut', 'palm', 'oil', 'malted', 'milk', 'powder', 'extracts', 'wheat', 'flour', 'malt', 'barley', 'whole', 'milk', 'salt', 'sodium', 'bicarbonate', 'malt', 'powder', 'malt', 'corn', 'modified', 'food', 'starch', 'corn', 'cocoa', 'powder', 'evaporated', 'milk', 'salt', 'artificial', 'flavors', 'acacia', 'gumarabic', 'palm', 'kernel', 'oil', 'confectioners', 'glaze', 'shellac', 'tapioca', 'dextrin', 'coconut', 'oil', 'sodium', 'bicarbonate', 'glycerine', 'xanthan', 'gum', 'invertase'], ['milk', 'corn', 'syrup', 'skim', 'milk', 'sugar', 'cream', 'high', 'fructose', 'corn', 'syrup', 'whey', 'protein', 'concentrate', 'peanuts', 'cocoa', 'butter', 'hydrogenated', 'vegetable', 'oil', 'palm', 'kernel', 'soybean', 'soya', 'lecithin', 'cocoa', 'processed', 'alkali', 'chocolate', 'flavors', 'tapioca', 'starch', 'chocolate', 'liquor', 'xanthan', 'gum', 'butter', 'cream', 'salt', 'guar', 'gum', 'phosphoric', 'acid', 'salt', 'microcrystalline', 'cellulose', 'mono', 'diglycerides', 'sodium', 'alginate', 'caramel', 'color', 'soy', 'lecithin', 'vanilla', 'extract', 'cellulose', 'gum', 'butter', 'oil', 'sodium', 'citrate', 'locust', 'bean', 'gum', 'carrageenan', 'vitamin', 'palmitate'], ['pasteurized', 'milk', 'cheese', 'culture', 'salt', 'enzymes', 'annatto', 'vegetable', 'color'], ['sugar', 'corn', 'syrup', 'citric', 'acid', 'artificial', 'flavor', 'red'], ['wheat', 'flour', 'chocolate', 'cocoa', 'liquor', 'sugar', 'cocoa', 'butter', 'soy', 'lecithin', 'palm', 'coconut', 'fat', 'sugar', 'dextrose', 'wheat', 'starch', 'lactose', 'milk', 'glucose', 'syrup', 'wheat', 'butter', 'oil', 'salt', 'cocoa', 'powder', 'ammonium', 'bicarbonate', 'sodium', 'bicarbonate', 'flavor', 'vanilla', 'flavoring', 'egg', 'barley', 'malt', 'extract', 'cinnamon', 'soy', 'lecithin'], ['dark', 'chocolate', 'sugar', 'chocolate', 'liquor', 'processed', 'alkali', 'cocoa', 'butter', 'soy', 'lecithin', 'emulsifier', 'vanilla', 'pretzel', 'corn', 'starch', 'palm', 'oil', 'potato', 'starch', 'sea', 'salt', 'sugar', 'dry', 'yeast', 'cellulose', 'gum', 'soy', 'lecithin', 'leavening', 'sodium', 'bicarbonate', 'sodium', 'acid', 'pyrophosphate'], ['sugar', 'corn', 'syrup', 'citric', 'acid', 'artificial', 'flavors', 'artificial', 'colors', 'red', 'titanium', 'dioxide'], ['sugar', 'corn', 'syrup', 'cornstarch', 'modified', 'cornstarch', 'artificial', 'flavor', 'red'], ['cream', 'milk', 'sugar', 'corn', 'syrup', 'chocolate', 'chips', 'sugar', 'chocolate', 'liquor', 'cocoa', 'butter', 'soy', 'lecithin', 'vanilla', 'nonfat', 'milk', 'green', 'coloring', 'fd', 'c', 'yellow', 'fd', 'c', 'green', 'guar', 'gum', 'xanthan', 'gum', 'carrageenan', 'soy', 'lecithin', 'oil', 'peppermint'], ['cream', 'milk', 'sugar', 'mocha', 'fudge', 'ripple', 'corn', 'syrup', 'water', 'sugar', 'high', 'fructose', 'corn', 'syrup', 'cocoa', 'partially', 'hydrogenated', 'soybean', 'oil', 'dried', 'coffee', 'modified', 'corn', 'starch', 'chocolate', 'liquor', 'mono', 'diglycerides', 'salt', 'soy', 'lecithin', 'flavor', 'vanilla', 'corn', 'syrup', 'chocolate', 'coffee', 'cups', 'sugar', 'coconut', 'oil', 'partially', 'hydrogenated', 'soybean', 'oil', 'milk', 'cocoa', 'processed', 'alkali', 'nonfat', 'milk', 'chocolate', 'processed', 'alkali', 'coffee', 'cocoa', 'soy', 'lecithin', 'flavors', 'salt', 'vanillin', 'nonfat', 'milk', 'guatemalan', 'coffee', 'flavor', 'guar', 'gum', 'xanthan', 'gum', 'carrageenan', 'soy', 'lecithin'], ['cane', 'sugar'], ['wheat', 'flour', 'wheat', 'flour', 'niacin', 'reduced', 'iron', 'thiamine', 'mononitrate', 'riboflavin', 'folic', 'acid', 'vegetable', 'oil', 'palm', 'oil', 'rice', 'bran', 'oil', 'sesame', 'oil', 'salt', 'contains', 'less', 'dried', 'carrot', 'flake', 'dried', 'green', 'pea', 'monosodium', 'glutamate', 'dried', 'shrimp', 'hydrolyzed', 'corn', 'soy', 'wheat', 'protein', 'dry', 'soy', 'sauce', 'wheat', 'soybean', 'salt', 'maltodextrin', 'spice', 'caramel', 'color', 'glucose', 'sugar', 'potassium', 'carbonate', 'sodium', 'tripolyphosphate', 'sodium', 'carbonate', 'hydrolyzed', 'corn', 'gluten', 'dried', 'pork', 'stock', 'garlic', 'powder', 'dried', 'chicken', 'stock', 'citric', 'acid', 'disodium', 'guanylate', 'disodium', 'inosinate', 'powdered', 'bamboo', 'shoot', 'disodium', 'succinate', 'tbhq', 'preservative', 'sodium', 'alginate', 'onion', 'powder', 'autolyzed', 'yeast', 'extract', 'artificial', 'flavor', 'shrimp', 'extract', 'powder', 'torula', 'yeast', 'cod', 'liver', 'oil'], ['flour', 'wheat', 'flour', 'niacin', 'reduced', 'iron', 'thiamine', 'mononitrate', 'riboflavin', 'folic', 'acid', 'vegetable', 'oil', 'palm', 'oil', 'hydrogenated', 'palm', 'oil', 'rice', 'bran', 'oil', 'salt', 'contains', 'less', 'autolyzed', 'yeast', 'extract', 'bakers', 'yeast', 'extract', 'beef', 'fat', 'beta', 'carotene', 'color', 'caramel', 'color', 'citric', 'acid', 'corn', 'syrup', 'disodium', 'guanylate', 'disodium', 'inosinate', 'disodium', 'succinate', 'dried', 'red', 'bell', 'pepper', 'flake', 'egg', 'white', 'garlic', 'powder', 'hydrolyzed', 'corn', 'protein', 'hydrolyzed', 'soy', 'protein', 'hydrolyzed', 'wheat', 'protein', 'lactose', 'monosodium', 'glutamate', 'flavor', 'onion', 'powder', 'potassium', 'carbonate', 'powdered', 'beef', 'sodium', 'alginate', 'sodium', 'carbonate', 'sodium', 'phosphate', 'sodium', 'tripolyphosphate', 'soy', 'lecithin', 'soy', 'sauce', 'water', 'wheat', 'soybean', 'salt', 'spice', 'sugar', 'tbhq', 'preservative'], ['flour', 'wheat', 'flour', 'niacin', 'reduced', 'iron', 'thiamine', 'mononitrate', 'riboflavin', 'folic', 'acid', 'vegetable', 'oil', 'palm', 'oil', 'hydrogenated', 'palm', 'oil', 'salt', 'tapioca', 'starch', 'contains', 'less', 'autolyzed', 'yeast', 'extract', 'beta', 'carotene', 'color', 'citric', 'acid', 'corn', 'syrup', 'dextrose', 'disodium', 'guanylate', 'disodium', 'inosinate', 'dried', 'cabbage', 'flake', 'dried', 'carrot', 'flake', 'dried', 'corn', 'dried', 'mushroom', 'flake', 'dried', 'onion', 'flake', 'egg', 'white', 'garlic', 'powder', 'hydrolyzed', 'corn', 'protein', 'lactose', 'maltodextrin', 'monosodium', 'glutamate', 'artificial', 'flavor', 'onion', 'powder', 'potassium', 'carbonate', 'powdered', 'chicken', 'rendered', 'chicken', 'fat', 'silicon', 'dioxide', 'sodium', 'alginate', 'sodium', 'carbonate', 'sodium', 'phosphate', 'sodium', 'tripolyphosphate', 'soy', 'lecithin', 'soybean', 'spice', 'color', 'sugar', 'tbhq', 'preservative', 'textured', 'soy', 'protein', 'wheat', 'xanthan', 'gum', 'yellow'], ['flour', 'wheat', 'flour', 'niacin', 'reduced', 'iron', 'thiamine', 'mononitrate', 'riboflavin', 'folic', 'acid', 'vegetable', 'oil', 'palm', 'oil', 'hydrogenated', 'palm', 'oil', 'tapioca', 'starch', 'salt', 'hydrolyzed', 'soy', 'protein', 'contains', 'less', 'autolyzed', 'yeast', 'extract', 'bakers', 'yeast', 'extract', 'beef', 'fat', 'beta', 'carotene', 'color', 'calcium', 'silicate', 'caramel', 'color', 'citric', 'acid', 'corn', 'syrup', 'dried', 'carrot', 'flake', 'dried', 'corn', 'dried', 'green', 'pea', 'dried', 'onion', 'flake', 'dried', 'tomato', 'egg', 'white', 'garlic', 'powder', 'hydrolyzed', 'corn', 'protein', 'lactose', 'maltodextrin', 'monosodium', 'glutamate', 'artificial', 'flavor', 'nonfat', 'milk', 'onion', 'powder', 'potassium', 'carbonate', 'powdered', 'beef', 'sodium', 'alginate', 'sodium', 'carbonate', 'sodium', 'phosphate', 'sodium', 'tripolyphosphate', 'soy', 'lecithin', 'soy', 'sauce', 'wheat', 'soybean', 'salt', 'water', 'spice', 'color', 'tbhq', 'preservatives', 'textured', 'soy', 'protein', 'tomato', 'powder'], ['seasoned', 'tomatoes', 'tomatoes', 'tomato', 'juice', 'salt', 'sugar', 'onions', 'green', 'bell', 'peppers', 'celery', 'citric', 'acid', 'basil', 'white', 'pepper', 'roasted', 'roma', 'tomatoes', 'water', 'canola', 'oil', 'sundried', 'tomatoes', 'lemon', 'juice', 'concentrate', 'white', 'vinegar', 'contains', 'less', 'olive', 'oil', 'garlic', 'flavorings', 'soy', 'lecithin'], ['strawberry', 'flavored', 'filling', 'fructose', 'glycerin', 'apple', 'puree', 'apple', 'ascorbic', 'acid', 'preservative', 'potassium', 'sorbate', 'preservative', 'sugar', 'water', 'strawberries', 'apple', 'powder', 'pectin', 'modified', 'cornstarch', 'sodium', 'alginate', 'xanthan', 'gum', 'dicalcium', 'phosphate', 'sodium', 'citrate', 'mono', 'diglycerides', 'citric', 'acid', 'malic', 'acid', 'artificial', 'flavor', 'color', 'red', 'blue', 'titanium', 'dioxide', 'flour', 'wheat', 'flour', 'niacin', 'reduced', 'iron', 'thiamin', 'mononitrate', 'riboflavin', 'folic', 'acid', 'yogurt', 'flavored', 'coating', 'sugar', 'palm', 'kernel', 'oil', 'yogurt', 'powder', 'cultured', 'whey', 'protein', 'concentrate', 'cultured', 'skim', 'milk', 'yogurt', 'culture', 'nonfat', 'dry', 'milk', 'solids', 'soy', 'lecithin', 'emulsifier', 'flavor', 'palm', 'andor', 'palm', 'kernel', 'oil', 'sugar', 'maltodextrin', 'modified', 'potato', 'starch', 'liquid', 'invert', 'sugar', 'modified', 'cornstarch', 'whey', 'powder', 'yeast', 'enzymes', 'salt', 'sodium', 'acid', 'pyrophosphate', 'soy', 'lecithin', 'emulsifier', 'sodium', 'bicarbonate', 'monocalcium', 'phosphate', 'flavor'], ['organic', 'kale', 'greens'], ['vegetable', 'saute', 'broccoli', 'onion', 'yellow', 'soybean', 'sprouts', 'mushrooms', 'carrots', 'baby', 'bok', 'choy', 'red', 'bell', 'peppers', 'yellow', 'bell', 'pepper', 'expeller', 'pressed', 'canola', 'oil', 'garlic', 'toasted', 'sesame', 'oil', 'korean', 'red', 'pepper', 'short', 'grain', 'brown', 'rice', 'rice', 'water', 'gochujang', 'sauce', 'water', 'organic', 'tamari', 'water', 'organic', 'soybeans', 'salt', 'organic', 'vinegar', 'dehydrated', 'cane', 'syrup', 'brown', 'rice', 'syrup', 'rice', 'flour', 'pear', 'puree', 'ascorbic', 'acid', 'garlic', 'puree', 'citric', 'acid', 'red', 'pepper', 'organic', 'red', 'miso', 'water', 'organic', 'soybeans', 'organic', 'rice', 'sea', 'salt', 'koji', 'apple', 'juice', 'concentrate', 'organic', 'ginger', 'organic', 'paprika', 'organic', 'onion', 'lactic', 'acid', 'sliced', 'beef', 'sirloin', 'beef', 'sirloin', 'water', 'rice', 'starch', 'lemon', 'juice', 'concentrate', 'vinegar', 'garlic', 'ginger'], ['organic', 'kale', 'sunflower', 'seeds', 'tahini', 'ground', 'sesame', 'seeds', 'carrot', 'apple', 'cider', 'vinegar', 'cane', 'sugar', 'onion', 'sea', 'salt', 'lemon', 'juice'], ['sea', 'salt', 'caramel', 'flavored', 'coating', 'sugar', 'palm', 'kernel', 'palm', 'oil', 'nonfat', 'dry', 'milk', 'solids', 'whole', 'milk', 'solids', 'salt', 'flavor', 'artificial', 'color', 'yellow', 'blue', 'soy', 'lecithin', 'raisins', 'tapioca', 'dextrin', 'confectioners', 'glaze', 'corn', 'syrup', 'maltodextrin'], ['corn', 'syrup', 'sugar', 'cornstarch', 'modified', 'cornstarch', 'artificial', 'flavors', 'carnauba', 'red'], ['pork', 'water', 'veal', 'salt', 'sodium', 'lactate', 'milk', 'spices', 'flavorings', 'sodium', 'phosphate', 'dextrose', 'sodium', 'diacetate', 'citric', 'acid'], ['mustard', 'seed', 'vinegar', 'brown', 'sugar', 'salt', 'pepper', 'spices'], ['white', 'turkey', 'less', 'sea', 'salt', 'flavoring'], ['rice', 'sugar', 'vegetable', 'oil', 'canola', 'oil', 'corn', 'oil', 'corn', 'oil', 'rice', 'oil', 'soy', 'lecithin', 'corn', 'starch', 'potato', 'starch', 'modified', 'tapioca', 'starch', 'trehalose', 'sea', 'salt', 'contains', 'less', 'whey', 'protein', 'soy', 'lecithin', 'ginger', 'powder', 'caramel', 'color', 'honey', 'flavor', 'ginger', 'flavor', 'shell', 'calcium'], ['milkfat', 'nonfat', 'milk', 'raspberry', 'swirl', 'corn', 'syrup', 'water', 'high', 'fructose', 'corn', 'syrup', 'sugar', 'raspberry', 'puree', 'tapioca', 'starch', 'flavor', 'fruit', 'vegetable', 'juice', 'color', 'citric', 'acid', 'salt', 'xanthan', 'gum', 'locust', 'bean', 'gum', 'guar', 'gum', 'sugar', 'corn', 'syrup', 'donut', 'pieces', 'sugar', 'wheat', 'flour', 'water', 'milk', 'butter', 'corn', 'starch', 'flavors', 'baking', 'powder', 'eggs', 'nutmeg', 'soy', 'lecithin', 'salt', 'cinnamon', 'high', 'fructose', 'corn', 'syrup', 'sprinkles', 'sugar', 'corn', 'starch', 'partially', 'hydrogenated', 'vegetable', 'oil', 'cottonseed', 'andor', 'soybean', 'soy', 'lecithin', 'dextrin', 'confectioners', 'glaze', 'artificial', 'flavor', 'red', 'carnauba', 'yellow', 'blue', 'yellow', 'red', 'blue', 'red', 'whey', 'artificial', 'flavor', 'mono', 'diglycerides', 'guar', 'gum', 'locust', 'bean', 'gum', 'polysorbate', 'carrageenan'], ['milkfat', 'nonfat', 'milk', 'buttermilk', 'fudge', 'swirl', 'sugar', 'peanut', 'oil', 'cocoa', 'processed', 'alkali', 'whey', 'salt', 'soy', 'lecithin', 'fudge', 'pieces', 'sugar', 'coconut', 'oil', 'partially', 'hydrogenated', 'soybean', 'oil', 'whole', 'milk', 'nonfat', 'milk', 'cocoa', 'processed', 'alkali', 'chocolate', 'processed', 'alkali', 'soy', 'lecithin', 'artificial', 'flavors', 'salt', 'corn', 'syrup', 'sugar', 'whey', 'mono', 'diglycerides', 'artificial', 'flavors', 'guar', 'gum', 'lacust', 'bean', 'gum', 'polysorbate', 'carrageenan'], ['chicken', 'wings'], ['cucumbers', 'water', 'distilled', 'vinegar', 'salt', 'calcium', 'chloride', 'alum', 'spice', 'flavors', 'polysorbate', 'yellow'], ['maltitol', 'sorbitol', 'syrup', 'eggs', 'pumpkin', 'bleached', 'flour', 'bleached', 'wheat', 'flour', 'niacin', 'reduced', 'iron', 'thiamine', 'mononitrate', 'riboflavin', 'folic', 'acid', 'water', 'egg', 'whites', 'soy', 'oil', 'soy', 'oil', 'shortening', 'soybean', 'oil', 'monoand', 'diglycerides', 'propylene', 'glycol', 'mono', 'diesters', 'fatty', 'acids', 'glyceryllacto', 'esters', 'fatty', 'acids', 'wheat', 'flour', 'maltodextrin', 'food', 'starchmodified', 'leavening', 'sodium', 'acid', 'pyrophosphate', 'baking', 'soda', 'monocalcium', 'phosphate', 'spice', 'salt', 'artificial', 'flavor', 'contains', 'wheat', 'milk', 'glucono', 'deltalactone', 'emulsifier', 'product', 'propylene', 'glycol', 'monostearate', 'mono', 'glycerides', 'sodium', 'stearoyl', 'lactylate', 'calcium', 'silicate', 'ascorbic', 'acid', 'preservative', 'citric', 'acid', 'preservative', 'calcium', 'propionate', 'preservative', 'sodium', 'benzoate', 'preservative', 'sorbic', 'acid', 'preservative', 'soy', 'lecithin', 'xanthan', 'gum', 'guar', 'gum', 'acesulfame', 'potassium', 'sucralose'], ['salmon', 'salt', 'green', 'tea', 'extract', 'celery', 'extract', 'hardwood', 'smoke'], ['salmon', 'salt', 'sugar', 'green', 'tea', 'extract', 'nisin', 'sodium', 'nitrite', 'hardwood', 'smoke'], ['coho', 'salmon', 'salt', 'green', 'tea', 'extract', 'celery', 'extract', 'hardwood', 'smoke'], ['baked', 'salmon', 'mayonnaise', 'soycottonseed', 'oil', 'passover', 'water', 'eggs', 'sugar', 'salt', 'vinegar', 'acetic', 'acid', 'xanthan', 'gum', 'edta', 'modified', 'food', 'starch', 'spices', 'salt', 'sodium', 'benzoate', 'potassium', 'sorbate', 'red', 'yellow'], ['cultured', 'pasteurized', 'grade', 'lowfat', 'milk', 'sugar', 'nonfat', 'milk', 'solids', 'coffee', 'contains', 'active', 'lactobacillus', 'bulgaricus', 'streptococcus', 'thermophilus', 'cultures'], ['beets', 'mayonnaise', 'soycottonseed', 'oil', 'passover', 'water', 'eggs', 'sugar', 'salt', 'vinegar', 'acetic', 'acid', 'xanthan', 'gum', 'edta', 'horseradish', 'water', 'sugar', 'salt', 'citric', 'acid'], ['white', 'fish', 'mayonnaise', 'soycottonseed', 'oil', 'passover', 'water', 'eggs', 'sugar', 'salt', 'vinegar', 'acetic', 'acid', 'xanthan', 'gum', 'edta', 'salt', 'modified', 'food', 'starch', 'spices', 'sodium', 'benzoate', 'potassium', 'sorbate'], ['tuna', 'mayonnalse', 'soycottonseed', 'oil', 'passover', 'water', 'eggs', 'sugar', 'salt', 'vinegar', 'acetic', 'acid', 'xanthan', 'gum', 'edta', 'onions', 'chives', 'spices', 'sodium', 'benzoate', 'potassium', 'sorbate'], ['water', 'soy', 'protein', 'wheat', 'gluten', 'basmati', 'rice', 'flavor', 'yeast', 'spices', 'corn', 'light', 'tamari', 'sauce', 'water', 'soybean', 'salt', 'wheat', 'bread', 'crumbs', 'unbleached', 'wheat', 'flour', 'corn', 'tapioca', 'starch', 'soy', 'oil', 'cellulose', 'gum', 'carrageenan', 'seaweed', 'xanthan', 'gum', 'vegetable', 'gum', 'sesame', 'seeds'], ['chicken', 'drumsticks'], ['whole', 'grain', 'nongmo', 'white', 'pop', 'corn', 'partially', 'hydrogenated', 'soybean', 'oil', 'salt', 'flavor'], ['pork', 'mechanically', 'separated', 'chicken', 'dextrose', 'water', 'corn', 'syrup', 'salt', 'contains', 'less', 'potassium', 'lactate', 'flavorings', 'beef', 'sodium', 'phosphate', 'sodium', 'diacetate', 'sodium', 'erythorbate', 'sodium', 'nitrite', 'extractive', 'paprika'], ['pasteurized', 'part', 'skimmilk', 'rennet', 'salt', 'vitamin', 'acetate', 'culture', 'found', 'swiss', 'cheese'], ['boneless', 'skinless', 'chicken', 'breasts'], ['beef', 'pork', 'stuffed', 'olives', 'olives', 'water', 'minced', 'pimento', 'salt', 'less', 'lactic', 'acid', 'sodium', 'alginate', 'guar', 'um', 'calcium', 'chloride', 'water', 'sweet', 'red', 'peppers', 'fresh', 'sweet', 'red', 'peppers', 'water', 'citric', 'acid', 'salt', 'sugar', 'dextrose', 'sodium', 'phosphate', 'flavorings', 'sodium', 'erythorbate', 'sodium', 'nitrite'], ['turkey', 'thigh', 'meat', 'mechanically', 'separated', 'turkey', 'water', 'isolated', 'oat', 'product', 'seasoning', 'salt', 'sodium', 'phosphate', 'sugar', 'garlic', 'powder', 'sodium', 'erythorbate', 'spice', 'extractives', 'cracked', 'black', 'pepper', 'containing', 'less', 'sodium', 'lactate', 'sodium', 'diacetate', 'sodium', 'nitrite'], ['beef', 'sugar', 'salt', 'spices', 'paprika', 'lactic', 'acid', 'starter', 'culture', 'sodium', 'erythorbate', 'sodium', 'nitrite'], ['turkey', 'breast', 'water', 'less', 'salt', 'sugar', 'sodium', 'phosphate', 'dextrose'], ['cured', 'water', 'dextrose', 'salt', 'sodium', 'phosphate', 'sodium', 'ascorbate', 'sodium', 'nitrite'], ['fresh', 'ham', 'water', 'salt', 'sugar', 'dextrose', 'sodium', 'phosphate', 'sodium', 'erythorbate', 'sodium', 'nitrite'], ['chicken', 'thighs'], ['pasteurized', 'milk', 'cream', 'sugar', 'wheat', 'flour', 'pasteurized', 'egg', 'soybean', 'oil', 'whole', 'wheat', 'flour', 'nonfat', 'dry', 'milk', 'food', 'starch', 'modified', 'molasses', 'salt', 'cheese', 'culture', 'flavor', 'malted', 'barley', 'flour', 'vegetable', 'mono', 'diglycerides', 'sodium', 'bicarbonate', 'honey', 'guar', 'gum', 'carob', 'bean', 'gum', 'sodium', 'phosphate', 'xanthan', 'gum', 'sodium', 'alginate', 'carrageenan', 'glycerol', 'maltodextrin', 'niacin', 'reduced', 'iron', 'thiamin', 'mononitrate', 'riboflavin', 'folate', 'vitamin', 'palmitate', 'enzyme', 'vitamin'], ['cultured', 'grade', 'non', 'fat', 'milksugar', 'water', 'modified', 'food', 'starch', 'contains', 'less', 'kosher', 'gelatin', 'flavors', 'agar', 'agar', 'black', 'carrot', 'juice', 'concentrate', 'beta', 'carotene', 'color', 'malic', 'acid', 'potassium', 'sorbate', 'maintain', 'freshness', 'sodium', 'citrate', 'vitamin', 'contains', 'active', 'yogurt', 'cultures'], ['whole', 'wheat', 'flour', 'water', 'sugar', 'soybean', 'andor', 'canola', 'oil', 'yeast', 'contains', 'less', 'wheat', 'gluten', 'salt', 'molasses', 'dough', 'conditioners', 'sodium', 'stearoyl', 'lactylate', 'mono', 'diglycerides', 'ascorbic', 'acid', 'enzymes', 'wheat', 'starch', 'soybean', 'lecithin', 'calcium', 'propionate', 'preservative', 'yeast', 'nutrients', 'monocalcium', 'phosphate', 'calcium', 'sulfate', 'ammonium', 'sulfate', 'vinegar'], ['corn', 'chips', 'flax', 'yellow', 'corn', 'masa', 'flour', 'flax', 'seeds', 'soybean', 'oil', 'salt', 'gluten', 'free', 'pretzels', 'corn', 'starch', 'palm', 'oil', 'potato', 'starch', 'sea', 'salt', 'sugar', 'cellulose', 'gum', 'soy', 'lecithin', 'leavening', 'sodium', 'bicarbonate', 'sodium', 'acid', 'pyrophosphate', 'yeast', 'extract', 'roasted', 'vegetable', 'multigrain', 'squares', 'brown', 'rice', 'flour', 'whole', 'grain', 'yellow', 'corn', 'potato', 'starch', 'safflower', 'oil', 'roasted', 'red', 'bell', 'pepper', 'seasoning', 'maltodextrin', 'salt', 'tomato', 'powder', 'onion', 'powder', 'sugar', 'garlic', 'powder', 'flavoring', 'yeast', 'extract', 'green', 'pepper', 'red', 'bell', 'pepper', 'spices', 'herbs', 'tocopherol', 'antioxidant', 'ascorbic', 'acid', 'help', 'protect', 'flavor', 'oat', 'fiber', 'dried', 'cane', 'syrup', 'sesame', 'seeds', 'flax', 'seeds', 'millet', 'quinoa', 'seeds', 'savory', 'multiseed', 'chips', 'brown', 'rice', 'flour', 'sesame', 'seeds', 'potato', 'starch', 'safflower', 'oil', 'savory', 'seasoning', 'salt', 'sugar', 'garlic', 'onion', 'powders', 'spices', 'including', 'mustard', 'malic', 'acid', 'flavors', 'quinoa', 'seeds', 'flax', 'seeds', 'amaranth', 'seeds', 'tamari', 'soy', 'sauce', 'powder', 'tamari', 'soy', 'sauce', 'soybeans', 'salt', 'maltodextrin', 'corn', 'salt', 'roasted', 'garlic', 'popped', 'chips', 'brown', 'rice', 'flour', 'white', 'rice', 'flour', 'safflower', 'oil', 'sesame', 'seeds', 'potato', 'starch', 'dried', 'cane', 'syrup', 'roasted', 'garlic', 'seasoning', 'maltodextrin', 'sea', 'salt', 'dehydrated', 'roasted', 'garlic', 'roasted', 'garlic', 'powder', 'less', 'torula', 'yeast', 'flavor', 'sea', 'salt', 'roasted', 'sesame', 'oil', 'garlic', 'powder'], ['almonds', 'potato', 'starch', 'cinnamon', 'flavors', 'soy', 'dextrose', 'modified', 'food', 'starch', 'salt', 'spice', 'acesulfame', 'potassium', 'sucralose'], ['cashews', 'peanut', 'oil', 'salt'], ['peanuts', 'raisins', 'milk', 'chocolate', 'candies', 'milk', 'chocolate', 'sugar', 'cocoa', 'butter', 'chocolate', 'liquor', 'whole', 'milk', 'powder', 'soy', 'lecithin', 'emulsifier', 'vanilla', 'sugar', 'artificial', 'color', 'fdc', 'blue', 'blue', 'blue', 'yellow', 'yellow', 'yellow', 'yellow', 'red', 'red', 'sorbitol', 'titanium', 'dioxide', 'phosphoric', 'acid', 'methyl', 'propyl', 'parabens', 'caramel', 'corn', 'syrup', 'dextrin', 'sunflower', 'seeds', 'sunflower', 'seeds', 'canola', 'oil', 'salt', 'cashews', 'peanut', 'oil', 'salt'], ['nan'], ['whole', 'wheat', 'flour', 'water', 'wheat', 'gluten', 'brown', 'sugar', 'rye', 'flakes', 'wheat', 'flakes', 'honey', 'contains', 'less', 'steel', 'cut', 'oats', 'oat', 'fiber', 'cracked', 'wheat', 'yeast', 'soybean', 'andor', 'canola', 'oil', 'cultured', 'wheat', 'flour', 'salt', 'molasses', 'flaked', 'wheat', 'oatmeal', 'rye', 'flaxseed', 'millet', 'par', 'boiled', 'brown', 'rice', 'barley', 'flakes', 'defatted', 'soy', 'grits', 'triticale', 'malted', 'barley', 'flour', 'soy', 'lecithin', 'vinegar', 'enzymes'], ['brown', 'rice', 'steak', 'beef', 'beef', 'stock', 'less', 'rice', 'starch', 'sea', 'salt', 'lemon', 'juice', 'concentrate', 'vinegar', 'spices', 'pinto', 'beans', 'water', 'lime', 'juice', 'pepper', 'jack', 'cheese', 'pasteurized', 'milk', 'cheese', 'cultures', 'salt', 'red', 'green', 'jalapeno', 'peppers', 'enzymes', 'roasted', 'corn', 'roasted', 'tomatoes', 'cilantro', 'tomatoes', 'red', 'bell', 'peppers', 'chili', 'pepper', 'black', 'beans', 'canola', 'oil', 'corn', 'starch', 'onions', 'cheddar', 'cheese', 'pasteurized', 'milk', 'cheese', 'cultures', 'salt', 'enzymes', 'annatto', 'red', 'onions', 'apple', 'cider', 'vinegar', 'chipotle', 'adobo', 'puree', 'water', 'onion', 'dried', 'chipotle', 'pepper', 'tomato', 'paste', 'canola', 'oil', 'sugar', 'vinegar', 'salt', 'garlic', 'puree', 'smoke', 'flavoring', 'white', 'pepper', 'oregano', 'bay', 'leaves', 'tomato', 'paste', 'tomatoes', 'sea', 'salt', 'chili', 'pepper', 'seasoning', 'blend', 'spices', 'garlic', 'powder', 'garlic', 'garlic', 'water', 'ground', 'chili', 'pepper', 'sugar', 'garlic', 'powder', 'ground', 'bay', 'leaf', 'allspice', 'cumin', 'ground', 'oregano'], ['cabbage', 'water', 'sugar', 'salad', 'dressing', 'water', 'soybean', 'oil', 'high', 'fructose', 'corn', 'syrup', 'distilled', 'vinegar', 'egg', 'yolks', 'food', 'starchmodified', 'corn', 'syrup', 'salt', 'paprika', 'carrots', 'apple', 'cider', 'vinegar', 'modified', 'corn', 'starch', 'citric', 'acid', 'ascorbic', 'acid', 'salt'], ['beef', 'pork', 'stuffed', 'olives', 'olives', 'water', 'minced', 'pimento', 'salt', 'less', 'lactic', 'acid', 'sodium', 'alginate', 'guar', 'gum', 'calcium', 'chloride', 'watersweet', 'red', 'peppers', 'fresh', 'sweet', 'red', 'peppers', 'water', 'citric', 'acid', 'salt', 'sugar', 'dextrose', 'sodium', 'phosphate', 'flavorings', 'sodium', 'erythorbate', 'sodium', 'nitrite'], ['rice', 'white', 'meat', 'chicken', 'white', 'chicken', 'meat', 'water', 'rice', 'starch', 'salt', 'black', 'beans', 'roasted', 'tomatillos', 'water', 'canola', 'oil', 'cheddar', 'cheese', 'pasteurized', 'milk', 'cheese', 'cultures', 'salt', 'enzymes', 'annatto', 'tomatillo', 'red', 'bell', 'peppers', 'roasted', 'corn', 'cilantro', 'lime', 'juice', 'red', 'onions', 'corn', 'starch', 'garlic', 'garlic', 'water', 'jalapenos', 'sea', 'salt', 'sugar', 'olive', 'oil', 'garlic', 'powder', 'onion', 'powder', 'black', 'pepper', 'dried', 'parsley'], ['organic', 'cane', 'sugar'], ['organic', 'flax', 'seeds']]\n"
          ],
          "name": "stdout"
        },
        {
          "output_type": "error",
          "ename": "TypeError",
          "evalue": "'tuple' object is not callable",
          "traceback": [
            "\u001b[1;31m---------------------------------------------------------------------------\u001b[0m",
            "\u001b[1;31mTypeError\u001b[0m                                 Traceback (most recent call last)",
            "\u001b[1;32m<ipython-input-5-faf260435b3b>\u001b[0m in \u001b[0;36m<module>\u001b[1;34m\u001b[0m\n\u001b[0;32m      5\u001b[0m \u001b[1;31m# Initialize a matrix of zeros\u001b[0m\u001b[1;33m\u001b[0m\u001b[1;33m\u001b[0m\u001b[1;33m\u001b[0m\u001b[0m\n\u001b[0;32m      6\u001b[0m \u001b[0mA\u001b[0m \u001b[1;33m=\u001b[0m \u001b[0mnp\u001b[0m\u001b[1;33m.\u001b[0m\u001b[0mzeros\u001b[0m\u001b[1;33m(\u001b[0m\u001b[0mshape\u001b[0m \u001b[1;33m=\u001b[0m \u001b[1;33m(\u001b[0m\u001b[0mM\u001b[0m\u001b[1;33m,\u001b[0m \u001b[0mN\u001b[0m\u001b[1;33m)\u001b[0m\u001b[1;33m)\u001b[0m\u001b[1;33m\u001b[0m\u001b[1;33m\u001b[0m\u001b[0m\n\u001b[1;32m----> 7\u001b[1;33m \u001b[0mA\u001b[0m\u001b[1;33m.\u001b[0m\u001b[0mshape\u001b[0m\u001b[1;33m(\u001b[0m\u001b[1;33m)\u001b[0m\u001b[1;33m\u001b[0m\u001b[1;33m\u001b[0m\u001b[0m\n\u001b[0m",
            "\u001b[1;31mTypeError\u001b[0m: 'tuple' object is not callable"
          ]
        }
      ]
    },
    {
      "cell_type": "code",
      "metadata": {
        "scrolled": true,
        "id": "fre9PR2TBB02"
      },
      "source": [
        "corpus"
      ],
      "execution_count": null,
      "outputs": []
    },
    {
      "cell_type": "code",
      "metadata": {
        "id": "DDkLRWlBBB02"
      },
      "source": [
        "# Define the oh_encoder function\n",
        "def oh_encoder(tokens):\n",
        "    x = np.zeros(N)\n",
        "    for t in tokens:\n",
        "            # Get the index for each ingredient\n",
        "            idx = ingredient_idx[t]\n",
        "            # Put 1 at the corresponding indices\n",
        "            x[idx] = 1\n",
        "    return x"
      ],
      "execution_count": null,
      "outputs": []
    },
    {
      "cell_type": "code",
      "metadata": {
        "id": "K-GuZJPzBB02"
      },
      "source": [
        "# Make a document-term matrix\n",
        "i = 0\n",
        "for tokens in corpus:\n",
        "    A[i, :] = oh_encoder(tokens)\n",
        "    i += 1"
      ],
      "execution_count": null,
      "outputs": []
    },
    {
      "cell_type": "code",
      "metadata": {
        "id": "e7vcAkaDBB03"
      },
      "source": [
        "# Dimension reduction with t-SNE\n",
        "model = TSNE(n_components = 2, learning_rate = 20)\n",
        "tsne_features = model.fit_transform(A)\n",
        "\n",
        "# Make X, Y columns\n",
        "df['X'] = tsne_features[:, 0]\n",
        "df['Y'] = tsne_features[:, 1]\n"
      ],
      "execution_count": null,
      "outputs": []
    },
    {
      "cell_type": "code",
      "metadata": {
        "id": "UjN2ETqKBB04",
        "outputId": "e7e013c8-5d7d-49c3-fd78-e29b281eff06"
      },
      "source": [
        "# Import TSNE\n",
        "from sklearn.manifold import TSNE\n",
        "#Import Matplotlib\n",
        "import matplotlib.pyplot as plt\n",
        "#Import Bokeh\n",
        "from bokeh.io import show, output_notebook, push_notebook\n",
        "from bokeh.plotting import figure\n",
        "from bokeh.models import ColumnDataSource, HoverTool\n",
        "# Import KMeans\n",
        "from sklearn.cluster import KMeans\n",
        "output_notebook()"
      ],
      "execution_count": null,
      "outputs": [
        {
          "output_type": "display_data",
          "data": {
            "text/html": [
              "\n",
              "    <div class=\"bk-root\">\n",
              "        <a href=\"https://bokeh.org\" target=\"_blank\" class=\"bk-logo bk-logo-small bk-logo-notebook\"></a>\n",
              "        <span id=\"1001\">Loading BokehJS ...</span>\n",
              "    </div>"
            ]
          },
          "metadata": {
            "tags": []
          }
        },
        {
          "output_type": "display_data",
          "data": {
            "application/javascript": [
              "\n",
              "(function(root) {\n",
              "  function now() {\n",
              "    return new Date();\n",
              "  }\n",
              "\n",
              "  var force = true;\n",
              "\n",
              "  if (typeof root._bokeh_onload_callbacks === \"undefined\" || force === true) {\n",
              "    root._bokeh_onload_callbacks = [];\n",
              "    root._bokeh_is_loading = undefined;\n",
              "  }\n",
              "\n",
              "  var JS_MIME_TYPE = 'application/javascript';\n",
              "  var HTML_MIME_TYPE = 'text/html';\n",
              "  var EXEC_MIME_TYPE = 'application/vnd.bokehjs_exec.v0+json';\n",
              "  var CLASS_NAME = 'output_bokeh rendered_html';\n",
              "\n",
              "  /**\n",
              "   * Render data to the DOM node\n",
              "   */\n",
              "  function render(props, node) {\n",
              "    var script = document.createElement(\"script\");\n",
              "    node.appendChild(script);\n",
              "  }\n",
              "\n",
              "  /**\n",
              "   * Handle when an output is cleared or removed\n",
              "   */\n",
              "  function handleClearOutput(event, handle) {\n",
              "    var cell = handle.cell;\n",
              "\n",
              "    var id = cell.output_area._bokeh_element_id;\n",
              "    var server_id = cell.output_area._bokeh_server_id;\n",
              "    // Clean up Bokeh references\n",
              "    if (id != null && id in Bokeh.index) {\n",
              "      Bokeh.index[id].model.document.clear();\n",
              "      delete Bokeh.index[id];\n",
              "    }\n",
              "\n",
              "    if (server_id !== undefined) {\n",
              "      // Clean up Bokeh references\n",
              "      var cmd = \"from bokeh.io.state import curstate; print(curstate().uuid_to_server['\" + server_id + \"'].get_sessions()[0].document.roots[0]._id)\";\n",
              "      cell.notebook.kernel.execute(cmd, {\n",
              "        iopub: {\n",
              "          output: function(msg) {\n",
              "            var id = msg.content.text.trim();\n",
              "            if (id in Bokeh.index) {\n",
              "              Bokeh.index[id].model.document.clear();\n",
              "              delete Bokeh.index[id];\n",
              "            }\n",
              "          }\n",
              "        }\n",
              "      });\n",
              "      // Destroy server and session\n",
              "      var cmd = \"import bokeh.io.notebook as ion; ion.destroy_server('\" + server_id + \"')\";\n",
              "      cell.notebook.kernel.execute(cmd);\n",
              "    }\n",
              "  }\n",
              "\n",
              "  /**\n",
              "   * Handle when a new output is added\n",
              "   */\n",
              "  function handleAddOutput(event, handle) {\n",
              "    var output_area = handle.output_area;\n",
              "    var output = handle.output;\n",
              "\n",
              "    // limit handleAddOutput to display_data with EXEC_MIME_TYPE content only\n",
              "    if ((output.output_type != \"display_data\") || (!output.data.hasOwnProperty(EXEC_MIME_TYPE))) {\n",
              "      return\n",
              "    }\n",
              "\n",
              "    var toinsert = output_area.element.find(\".\" + CLASS_NAME.split(' ')[0]);\n",
              "\n",
              "    if (output.metadata[EXEC_MIME_TYPE][\"id\"] !== undefined) {\n",
              "      toinsert[toinsert.length - 1].firstChild.textContent = output.data[JS_MIME_TYPE];\n",
              "      // store reference to embed id on output_area\n",
              "      output_area._bokeh_element_id = output.metadata[EXEC_MIME_TYPE][\"id\"];\n",
              "    }\n",
              "    if (output.metadata[EXEC_MIME_TYPE][\"server_id\"] !== undefined) {\n",
              "      var bk_div = document.createElement(\"div\");\n",
              "      bk_div.innerHTML = output.data[HTML_MIME_TYPE];\n",
              "      var script_attrs = bk_div.children[0].attributes;\n",
              "      for (var i = 0; i < script_attrs.length; i++) {\n",
              "        toinsert[toinsert.length - 1].firstChild.setAttribute(script_attrs[i].name, script_attrs[i].value);\n",
              "        toinsert[toinsert.length - 1].firstChild.textContent = bk_div.children[0].textContent\n",
              "      }\n",
              "      // store reference to server id on output_area\n",
              "      output_area._bokeh_server_id = output.metadata[EXEC_MIME_TYPE][\"server_id\"];\n",
              "    }\n",
              "  }\n",
              "\n",
              "  function register_renderer(events, OutputArea) {\n",
              "\n",
              "    function append_mime(data, metadata, element) {\n",
              "      // create a DOM node to render to\n",
              "      var toinsert = this.create_output_subarea(\n",
              "        metadata,\n",
              "        CLASS_NAME,\n",
              "        EXEC_MIME_TYPE\n",
              "      );\n",
              "      this.keyboard_manager.register_events(toinsert);\n",
              "      // Render to node\n",
              "      var props = {data: data, metadata: metadata[EXEC_MIME_TYPE]};\n",
              "      render(props, toinsert[toinsert.length - 1]);\n",
              "      element.append(toinsert);\n",
              "      return toinsert\n",
              "    }\n",
              "\n",
              "    /* Handle when an output is cleared or removed */\n",
              "    events.on('clear_output.CodeCell', handleClearOutput);\n",
              "    events.on('delete.Cell', handleClearOutput);\n",
              "\n",
              "    /* Handle when a new output is added */\n",
              "    events.on('output_added.OutputArea', handleAddOutput);\n",
              "\n",
              "    /**\n",
              "     * Register the mime type and append_mime function with output_area\n",
              "     */\n",
              "    OutputArea.prototype.register_mime_type(EXEC_MIME_TYPE, append_mime, {\n",
              "      /* Is output safe? */\n",
              "      safe: true,\n",
              "      /* Index of renderer in `output_area.display_order` */\n",
              "      index: 0\n",
              "    });\n",
              "  }\n",
              "\n",
              "  // register the mime type if in Jupyter Notebook environment and previously unregistered\n",
              "  if (root.Jupyter !== undefined) {\n",
              "    var events = require('base/js/events');\n",
              "    var OutputArea = require('notebook/js/outputarea').OutputArea;\n",
              "\n",
              "    if (OutputArea.prototype.mime_types().indexOf(EXEC_MIME_TYPE) == -1) {\n",
              "      register_renderer(events, OutputArea);\n",
              "    }\n",
              "  }\n",
              "\n",
              "  \n",
              "  if (typeof (root._bokeh_timeout) === \"undefined\" || force === true) {\n",
              "    root._bokeh_timeout = Date.now() + 5000;\n",
              "    root._bokeh_failed_load = false;\n",
              "  }\n",
              "\n",
              "  var NB_LOAD_WARNING = {'data': {'text/html':\n",
              "     \"<div style='background-color: #fdd'>\\n\"+\n",
              "     \"<p>\\n\"+\n",
              "     \"BokehJS does not appear to have successfully loaded. If loading BokehJS from CDN, this \\n\"+\n",
              "     \"may be due to a slow or bad network connection. Possible fixes:\\n\"+\n",
              "     \"</p>\\n\"+\n",
              "     \"<ul>\\n\"+\n",
              "     \"<li>re-rerun `output_notebook()` to attempt to load from CDN again, or</li>\\n\"+\n",
              "     \"<li>use INLINE resources instead, as so:</li>\\n\"+\n",
              "     \"</ul>\\n\"+\n",
              "     \"<code>\\n\"+\n",
              "     \"from bokeh.resources import INLINE\\n\"+\n",
              "     \"output_notebook(resources=INLINE)\\n\"+\n",
              "     \"</code>\\n\"+\n",
              "     \"</div>\"}};\n",
              "\n",
              "  function display_loaded() {\n",
              "    var el = document.getElementById(\"1001\");\n",
              "    if (el != null) {\n",
              "      el.textContent = \"BokehJS is loading...\";\n",
              "    }\n",
              "    if (root.Bokeh !== undefined) {\n",
              "      if (el != null) {\n",
              "        el.textContent = \"BokehJS \" + root.Bokeh.version + \" successfully loaded.\";\n",
              "      }\n",
              "    } else if (Date.now() < root._bokeh_timeout) {\n",
              "      setTimeout(display_loaded, 100)\n",
              "    }\n",
              "  }\n",
              "\n",
              "\n",
              "  function run_callbacks() {\n",
              "    try {\n",
              "      root._bokeh_onload_callbacks.forEach(function(callback) {\n",
              "        if (callback != null)\n",
              "          callback();\n",
              "      });\n",
              "    } finally {\n",
              "      delete root._bokeh_onload_callbacks\n",
              "    }\n",
              "    console.debug(\"Bokeh: all callbacks have finished\");\n",
              "  }\n",
              "\n",
              "  function load_libs(css_urls, js_urls, callback) {\n",
              "    if (css_urls == null) css_urls = [];\n",
              "    if (js_urls == null) js_urls = [];\n",
              "\n",
              "    root._bokeh_onload_callbacks.push(callback);\n",
              "    if (root._bokeh_is_loading > 0) {\n",
              "      console.debug(\"Bokeh: BokehJS is being loaded, scheduling callback at\", now());\n",
              "      return null;\n",
              "    }\n",
              "    if (js_urls == null || js_urls.length === 0) {\n",
              "      run_callbacks();\n",
              "      return null;\n",
              "    }\n",
              "    console.debug(\"Bokeh: BokehJS not loaded, scheduling load and callback at\", now());\n",
              "    root._bokeh_is_loading = css_urls.length + js_urls.length;\n",
              "\n",
              "    function on_load() {\n",
              "      root._bokeh_is_loading--;\n",
              "      if (root._bokeh_is_loading === 0) {\n",
              "        console.debug(\"Bokeh: all BokehJS libraries/stylesheets loaded\");\n",
              "        run_callbacks()\n",
              "      }\n",
              "    }\n",
              "\n",
              "    function on_error() {\n",
              "      console.error(\"failed to load \" + url);\n",
              "    }\n",
              "\n",
              "    for (var i = 0; i < css_urls.length; i++) {\n",
              "      var url = css_urls[i];\n",
              "      const element = document.createElement(\"link\");\n",
              "      element.onload = on_load;\n",
              "      element.onerror = on_error;\n",
              "      element.rel = \"stylesheet\";\n",
              "      element.type = \"text/css\";\n",
              "      element.href = url;\n",
              "      console.debug(\"Bokeh: injecting link tag for BokehJS stylesheet: \", url);\n",
              "      document.body.appendChild(element);\n",
              "    }\n",
              "\n",
              "    const hashes = {\"https://cdn.bokeh.org/bokeh/release/bokeh-2.2.3.min.js\": \"T2yuo9Oe71Cz/I4X9Ac5+gpEa5a8PpJCDlqKYO0CfAuEszu1JrXLl8YugMqYe3sM\", \"https://cdn.bokeh.org/bokeh/release/bokeh-widgets-2.2.3.min.js\": \"98GDGJ0kOMCUMUePhksaQ/GYgB3+NH9h996V88sh3aOiUNX3N+fLXAtry6xctSZ6\", \"https://cdn.bokeh.org/bokeh/release/bokeh-tables-2.2.3.min.js\": \"89bArO+nlbP3sgakeHjCo1JYxYR5wufVgA3IbUvDY+K7w4zyxJqssu7wVnfeKCq8\"};\n",
              "\n",
              "    for (var i = 0; i < js_urls.length; i++) {\n",
              "      var url = js_urls[i];\n",
              "      var element = document.createElement('script');\n",
              "      element.onload = on_load;\n",
              "      element.onerror = on_error;\n",
              "      element.async = false;\n",
              "      element.src = url;\n",
              "      if (url in hashes) {\n",
              "        element.crossOrigin = \"anonymous\";\n",
              "        element.integrity = \"sha384-\" + hashes[url];\n",
              "      }\n",
              "      console.debug(\"Bokeh: injecting script tag for BokehJS library: \", url);\n",
              "      document.head.appendChild(element);\n",
              "    }\n",
              "  };\n",
              "\n",
              "  function inject_raw_css(css) {\n",
              "    const element = document.createElement(\"style\");\n",
              "    element.appendChild(document.createTextNode(css));\n",
              "    document.body.appendChild(element);\n",
              "  }\n",
              "\n",
              "  \n",
              "  var js_urls = [\"https://cdn.bokeh.org/bokeh/release/bokeh-2.2.3.min.js\", \"https://cdn.bokeh.org/bokeh/release/bokeh-widgets-2.2.3.min.js\", \"https://cdn.bokeh.org/bokeh/release/bokeh-tables-2.2.3.min.js\"];\n",
              "  var css_urls = [];\n",
              "  \n",
              "\n",
              "  var inline_js = [\n",
              "    function(Bokeh) {\n",
              "      Bokeh.set_log_level(\"info\");\n",
              "    },\n",
              "    function(Bokeh) {\n",
              "    \n",
              "    \n",
              "    }\n",
              "  ];\n",
              "\n",
              "  function run_inline_js() {\n",
              "    \n",
              "    if (root.Bokeh !== undefined || force === true) {\n",
              "      \n",
              "    for (var i = 0; i < inline_js.length; i++) {\n",
              "      inline_js[i].call(root, root.Bokeh);\n",
              "    }\n",
              "    if (force === true) {\n",
              "        display_loaded();\n",
              "      }} else if (Date.now() < root._bokeh_timeout) {\n",
              "      setTimeout(run_inline_js, 100);\n",
              "    } else if (!root._bokeh_failed_load) {\n",
              "      console.log(\"Bokeh: BokehJS failed to load within specified timeout.\");\n",
              "      root._bokeh_failed_load = true;\n",
              "    } else if (force !== true) {\n",
              "      var cell = $(document.getElementById(\"1001\")).parents('.cell').data().cell;\n",
              "      cell.output_area.append_execute_result(NB_LOAD_WARNING)\n",
              "    }\n",
              "\n",
              "  }\n",
              "\n",
              "  if (root._bokeh_is_loading === 0) {\n",
              "    console.debug(\"Bokeh: BokehJS loaded, going straight to plotting\");\n",
              "    run_inline_js();\n",
              "  } else {\n",
              "    load_libs(css_urls, js_urls, function() {\n",
              "      console.debug(\"Bokeh: BokehJS plotting callback run at\", now());\n",
              "      run_inline_js();\n",
              "    });\n",
              "  }\n",
              "}(window));"
            ],
            "application/vnd.bokehjs_load.v0+json": "\n(function(root) {\n  function now() {\n    return new Date();\n  }\n\n  var force = true;\n\n  if (typeof root._bokeh_onload_callbacks === \"undefined\" || force === true) {\n    root._bokeh_onload_callbacks = [];\n    root._bokeh_is_loading = undefined;\n  }\n\n  \n\n  \n  if (typeof (root._bokeh_timeout) === \"undefined\" || force === true) {\n    root._bokeh_timeout = Date.now() + 5000;\n    root._bokeh_failed_load = false;\n  }\n\n  var NB_LOAD_WARNING = {'data': {'text/html':\n     \"<div style='background-color: #fdd'>\\n\"+\n     \"<p>\\n\"+\n     \"BokehJS does not appear to have successfully loaded. If loading BokehJS from CDN, this \\n\"+\n     \"may be due to a slow or bad network connection. Possible fixes:\\n\"+\n     \"</p>\\n\"+\n     \"<ul>\\n\"+\n     \"<li>re-rerun `output_notebook()` to attempt to load from CDN again, or</li>\\n\"+\n     \"<li>use INLINE resources instead, as so:</li>\\n\"+\n     \"</ul>\\n\"+\n     \"<code>\\n\"+\n     \"from bokeh.resources import INLINE\\n\"+\n     \"output_notebook(resources=INLINE)\\n\"+\n     \"</code>\\n\"+\n     \"</div>\"}};\n\n  function display_loaded() {\n    var el = document.getElementById(\"1001\");\n    if (el != null) {\n      el.textContent = \"BokehJS is loading...\";\n    }\n    if (root.Bokeh !== undefined) {\n      if (el != null) {\n        el.textContent = \"BokehJS \" + root.Bokeh.version + \" successfully loaded.\";\n      }\n    } else if (Date.now() < root._bokeh_timeout) {\n      setTimeout(display_loaded, 100)\n    }\n  }\n\n\n  function run_callbacks() {\n    try {\n      root._bokeh_onload_callbacks.forEach(function(callback) {\n        if (callback != null)\n          callback();\n      });\n    } finally {\n      delete root._bokeh_onload_callbacks\n    }\n    console.debug(\"Bokeh: all callbacks have finished\");\n  }\n\n  function load_libs(css_urls, js_urls, callback) {\n    if (css_urls == null) css_urls = [];\n    if (js_urls == null) js_urls = [];\n\n    root._bokeh_onload_callbacks.push(callback);\n    if (root._bokeh_is_loading > 0) {\n      console.debug(\"Bokeh: BokehJS is being loaded, scheduling callback at\", now());\n      return null;\n    }\n    if (js_urls == null || js_urls.length === 0) {\n      run_callbacks();\n      return null;\n    }\n    console.debug(\"Bokeh: BokehJS not loaded, scheduling load and callback at\", now());\n    root._bokeh_is_loading = css_urls.length + js_urls.length;\n\n    function on_load() {\n      root._bokeh_is_loading--;\n      if (root._bokeh_is_loading === 0) {\n        console.debug(\"Bokeh: all BokehJS libraries/stylesheets loaded\");\n        run_callbacks()\n      }\n    }\n\n    function on_error() {\n      console.error(\"failed to load \" + url);\n    }\n\n    for (var i = 0; i < css_urls.length; i++) {\n      var url = css_urls[i];\n      const element = document.createElement(\"link\");\n      element.onload = on_load;\n      element.onerror = on_error;\n      element.rel = \"stylesheet\";\n      element.type = \"text/css\";\n      element.href = url;\n      console.debug(\"Bokeh: injecting link tag for BokehJS stylesheet: \", url);\n      document.body.appendChild(element);\n    }\n\n    const hashes = {\"https://cdn.bokeh.org/bokeh/release/bokeh-2.2.3.min.js\": \"T2yuo9Oe71Cz/I4X9Ac5+gpEa5a8PpJCDlqKYO0CfAuEszu1JrXLl8YugMqYe3sM\", \"https://cdn.bokeh.org/bokeh/release/bokeh-widgets-2.2.3.min.js\": \"98GDGJ0kOMCUMUePhksaQ/GYgB3+NH9h996V88sh3aOiUNX3N+fLXAtry6xctSZ6\", \"https://cdn.bokeh.org/bokeh/release/bokeh-tables-2.2.3.min.js\": \"89bArO+nlbP3sgakeHjCo1JYxYR5wufVgA3IbUvDY+K7w4zyxJqssu7wVnfeKCq8\"};\n\n    for (var i = 0; i < js_urls.length; i++) {\n      var url = js_urls[i];\n      var element = document.createElement('script');\n      element.onload = on_load;\n      element.onerror = on_error;\n      element.async = false;\n      element.src = url;\n      if (url in hashes) {\n        element.crossOrigin = \"anonymous\";\n        element.integrity = \"sha384-\" + hashes[url];\n      }\n      console.debug(\"Bokeh: injecting script tag for BokehJS library: \", url);\n      document.head.appendChild(element);\n    }\n  };\n\n  function inject_raw_css(css) {\n    const element = document.createElement(\"style\");\n    element.appendChild(document.createTextNode(css));\n    document.body.appendChild(element);\n  }\n\n  \n  var js_urls = [\"https://cdn.bokeh.org/bokeh/release/bokeh-2.2.3.min.js\", \"https://cdn.bokeh.org/bokeh/release/bokeh-widgets-2.2.3.min.js\", \"https://cdn.bokeh.org/bokeh/release/bokeh-tables-2.2.3.min.js\"];\n  var css_urls = [];\n  \n\n  var inline_js = [\n    function(Bokeh) {\n      Bokeh.set_log_level(\"info\");\n    },\n    function(Bokeh) {\n    \n    \n    }\n  ];\n\n  function run_inline_js() {\n    \n    if (root.Bokeh !== undefined || force === true) {\n      \n    for (var i = 0; i < inline_js.length; i++) {\n      inline_js[i].call(root, root.Bokeh);\n    }\n    if (force === true) {\n        display_loaded();\n      }} else if (Date.now() < root._bokeh_timeout) {\n      setTimeout(run_inline_js, 100);\n    } else if (!root._bokeh_failed_load) {\n      console.log(\"Bokeh: BokehJS failed to load within specified timeout.\");\n      root._bokeh_failed_load = true;\n    } else if (force !== true) {\n      var cell = $(document.getElementById(\"1001\")).parents('.cell').data().cell;\n      cell.output_area.append_execute_result(NB_LOAD_WARNING)\n    }\n\n  }\n\n  if (root._bokeh_is_loading === 0) {\n    console.debug(\"Bokeh: BokehJS loaded, going straight to plotting\");\n    run_inline_js();\n  } else {\n    load_libs(css_urls, js_urls, function() {\n      console.debug(\"Bokeh: BokehJS plotting callback run at\", now());\n      run_inline_js();\n    });\n  }\n}(window));"
          },
          "metadata": {
            "tags": []
          }
        }
      ]
    },
    {
      "cell_type": "code",
      "metadata": {
        "id": "qgUipbcdBB04",
        "outputId": "4cc18dd7-6496-4d4d-c439-03ad4abbb831"
      },
      "source": [
        "# Make a source and a scatter plot\n",
        "source = ColumnDataSource(df)\n",
        "plot = figure(x_axis_label = 'T-SNE 1',\n",
        "              y_axis_label = 'T-SNE 2', \n",
        "              width = 500, height = 400)\n",
        "plot.circle(x = 'X', \n",
        "            y = 'Y', \n",
        "            source = source, \n",
        "            size = 10, color = '#FF7373', alpha = .8)"
      ],
      "execution_count": null,
      "outputs": [
        {
          "output_type": "execute_result",
          "data": {
            "text/html": [
              "<div style=\"display: table;\"><div style=\"display: table-row;\"><div style=\"display: table-cell;\"><b title=\"bokeh.models.renderers.GlyphRenderer\">GlyphRenderer</b>(</div><div style=\"display: table-cell;\">id&nbsp;=&nbsp;'1037', <span id=\"1040\" style=\"cursor: pointer;\">&hellip;)</span></div></div><div class=\"1039\" style=\"display: none;\"><div style=\"display: table-cell;\"></div><div style=\"display: table-cell;\">data_source&nbsp;=&nbsp;ColumnDataSource(id='1002', ...),</div></div><div class=\"1039\" style=\"display: none;\"><div style=\"display: table-cell;\"></div><div style=\"display: table-cell;\">glyph&nbsp;=&nbsp;Circle(id='1035', ...),</div></div><div class=\"1039\" style=\"display: none;\"><div style=\"display: table-cell;\"></div><div style=\"display: table-cell;\">hover_glyph&nbsp;=&nbsp;None,</div></div><div class=\"1039\" style=\"display: none;\"><div style=\"display: table-cell;\"></div><div style=\"display: table-cell;\">js_event_callbacks&nbsp;=&nbsp;{},</div></div><div class=\"1039\" style=\"display: none;\"><div style=\"display: table-cell;\"></div><div style=\"display: table-cell;\">js_property_callbacks&nbsp;=&nbsp;{},</div></div><div class=\"1039\" style=\"display: none;\"><div style=\"display: table-cell;\"></div><div style=\"display: table-cell;\">level&nbsp;=&nbsp;'glyph',</div></div><div class=\"1039\" style=\"display: none;\"><div style=\"display: table-cell;\"></div><div style=\"display: table-cell;\">muted&nbsp;=&nbsp;False,</div></div><div class=\"1039\" style=\"display: none;\"><div style=\"display: table-cell;\"></div><div style=\"display: table-cell;\">muted_glyph&nbsp;=&nbsp;None,</div></div><div class=\"1039\" style=\"display: none;\"><div style=\"display: table-cell;\"></div><div style=\"display: table-cell;\">name&nbsp;=&nbsp;None,</div></div><div class=\"1039\" style=\"display: none;\"><div style=\"display: table-cell;\"></div><div style=\"display: table-cell;\">nonselection_glyph&nbsp;=&nbsp;Circle(id='1036', ...),</div></div><div class=\"1039\" style=\"display: none;\"><div style=\"display: table-cell;\"></div><div style=\"display: table-cell;\">selection_glyph&nbsp;=&nbsp;None,</div></div><div class=\"1039\" style=\"display: none;\"><div style=\"display: table-cell;\"></div><div style=\"display: table-cell;\">subscribed_events&nbsp;=&nbsp;[],</div></div><div class=\"1039\" style=\"display: none;\"><div style=\"display: table-cell;\"></div><div style=\"display: table-cell;\">tags&nbsp;=&nbsp;[],</div></div><div class=\"1039\" style=\"display: none;\"><div style=\"display: table-cell;\"></div><div style=\"display: table-cell;\">view&nbsp;=&nbsp;CDSView(id='1038', ...),</div></div><div class=\"1039\" style=\"display: none;\"><div style=\"display: table-cell;\"></div><div style=\"display: table-cell;\">visible&nbsp;=&nbsp;True,</div></div><div class=\"1039\" style=\"display: none;\"><div style=\"display: table-cell;\"></div><div style=\"display: table-cell;\">x_range_name&nbsp;=&nbsp;'default',</div></div><div class=\"1039\" style=\"display: none;\"><div style=\"display: table-cell;\"></div><div style=\"display: table-cell;\">y_range_name&nbsp;=&nbsp;'default')</div></div></div>\n",
              "<script>\n",
              "(function() {\n",
              "  var expanded = false;\n",
              "  var ellipsis = document.getElementById(\"1040\");\n",
              "  ellipsis.addEventListener(\"click\", function() {\n",
              "    var rows = document.getElementsByClassName(\"1039\");\n",
              "    for (var i = 0; i < rows.length; i++) {\n",
              "      var el = rows[i];\n",
              "      el.style.display = expanded ? \"none\" : \"table-row\";\n",
              "    }\n",
              "    ellipsis.innerHTML = expanded ? \"&hellip;)\" : \"&lsaquo;&lsaquo;&lsaquo;\";\n",
              "    expanded = !expanded;\n",
              "  });\n",
              "})();\n",
              "</script>\n"
            ],
            "text/plain": [
              "GlyphRenderer(id='1037', ...)"
            ]
          },
          "metadata": {
            "tags": []
          },
          "execution_count": 10
        }
      ]
    },
    {
      "cell_type": "code",
      "metadata": {
        "id": "GNGhD0nQBB05",
        "outputId": "0a6bb0c9-4db1-43a5-ea8d-902d257d1e77"
      },
      "source": [
        "# Create a KMeans instance with number of clusters: model\n",
        "model = KMeans()\n",
        "\n",
        "# Fit model to points\n",
        "model.fit(A)\n",
        "\n",
        "# Determine the cluster labels of new_points: labels\n",
        "labels = model.predict(A)\n",
        "\n",
        "# Print cluster labels of new_points\n",
        "print(labels)"
      ],
      "execution_count": null,
      "outputs": [
        {
          "output_type": "stream",
          "text": [
            "[0 0 6 0 7 7 6 0 6 0 6 0 0 0 0 6 6 1 0 0 0 0 0 0 0 0 0 0 0 0 0 0 0 7 7 0 0\n",
            " 6 6 0 0 7 7 0 4 4 4 4 6 2 0 0 0 7 0 6 0 0 0 7 7 0 0 6 0 0 0 6 0 6 6 6 0 0\n",
            " 0 6 0 0 6 6 6 6 6 6 0 6 0 6 5 0 0 3 0 6 1 6 6 1 0 0]\n"
          ],
          "name": "stdout"
        }
      ]
    },
    {
      "cell_type": "code",
      "metadata": {
        "id": "CFm6KgmFBB05"
      },
      "source": [
        "from sklearn.pipeline import make_pipeline\n",
        "from sklearn.preprocessing import StandardScaler\n",
        "from sklearn.cluster import KMeans \n",
        "\n",
        "# Create scaler: scaler\n",
        "scaler = StandardScaler()\n",
        "\n",
        "# Create KMeans instance: kmeans\n",
        "kmeans = KMeans(n_clusters=2)\n",
        "\n",
        "# Create pipeline: pipeline\n",
        "pipeline = make_pipeline(scaler,kmeans)\n"
      ],
      "execution_count": null,
      "outputs": []
    },
    {
      "cell_type": "code",
      "metadata": {
        "id": "HUge7sqABB05",
        "outputId": "343da2e3-0b60-46c4-c95a-978370af4abc"
      },
      "source": [
        "# Assign the columns of new_points: xs and ys\n",
        "xs = tsne_features[:,0]\n",
        "ys = tsne_features[:,1]\n",
        "\n",
        "# Make a scatter plot of xs and ys, using labels to define the colors\n",
        "plt.scatter(xs,ys,c=labels,alpha=0.5)\n",
        "\n",
        "# Assign the cluster centers: centroids\n",
        "centroids = model.cluster_centers_\n",
        "\n",
        "# Assign the columns of centroids: centroids_x, centroids_y\n",
        "centroids_x = centroids[:,0]\n",
        "centroids_y = centroids[:,1]\n",
        "\n",
        "# Make a scatter plot of centroids_x and centroids_y\n",
        "plt.scatter(centroids_x,centroids_y,marker='D',s=50)\n",
        "plt.show()"
      ],
      "execution_count": null,
      "outputs": [
        {
          "output_type": "display_data",
          "data": {
            "image/png": "[encoded data removed]",
            "text/plain": [
              "<Figure size 432x288 with 1 Axes>"
            ]
          },
          "metadata": {
            "tags": [],
            "needs_background": "light"
          }
        }
      ]
    },
    {
      "cell_type": "code",
      "metadata": {
        "id": "CI_YqowEBB06"
      },
      "source": [
        ""
      ],
      "execution_count": null,
      "outputs": []
    },
    {
      "cell_type": "code",
      "metadata": {
        "id": "yzrmZbypBB06"
      },
      "source": [
        "plot.background_fill_color = \"beige\"\n",
        "plot.background_fill_alpha = 0.2\n",
        "\n",
        "# add hover tool\n",
        "hover = HoverTool(tooltips = [\n",
        "        ('food', '@food'),\n",
        "        ('nutrition', '@nutrient')])\n",
        "plot.add_tools(hover)"
      ],
      "execution_count": null,
      "outputs": []
    },
    {
      "cell_type": "code",
      "metadata": {
        "id": "_dkPUxogBB06",
        "outputId": "8804085c-1a31-45a3-c31f-22b2cd5cc959"
      },
      "source": [
        "# Plot the map\n",
        "show(plot)"
      ],
      "execution_count": null,
      "outputs": [
        {
          "output_type": "display_data",
          "data": {
            "text/html": [
              "\n",
              "\n",
              "\n",
              "\n",
              "\n",
              "\n",
              "  <div class=\"bk-root\" id=\"f14c6139-18e3-4174-9981-8e44dee8dacc\" data-root-id=\"1003\"></div>\n"
            ]
          },
          "metadata": {
            "tags": []
          }
        },
        {
          "output_type": "display_data",
          "data": {
            "application/javascript": [
              "(function(root) {\n",
              "  function embed_document(root) {\n",
              "    \n",
              "  var docs_json = {\"ff8f7e37-174b-47c3-ab18-5187cb00b1b6\":{\"roots\":{\"references\":[{\"attributes\":{\"background_fill_alpha\":0.2,\"background_fill_color\":\"beige\",\"below\":[{\"id\":\"1012\"}],\"center\":[{\"id\":\"1015\"},{\"id\":\"1019\"}],\"left\":[{\"id\":\"1016\"}],\"plot_height\":400,\"plot_width\":500,\"renderers\":[{\"id\":\"1037\"}],\"title\":{\"id\":\"1043\"},\"toolbar\":{\"id\":\"1027\"},\"x_range\":{\"id\":\"1004\"},\"x_scale\":{\"id\":\"1008\"},\"y_range\":{\"id\":\"1006\"},\"y_scale\":{\"id\":\"1010\"}},\"id\":\"1003\",\"subtype\":\"Figure\",\"type\":\"Plot\"},{\"attributes\":{},\"id\":\"1049\",\"type\":\"UnionRenderers\"},{\"attributes\":{\"bottom_units\":\"screen\",\"fill_alpha\":0.5,\"fill_color\":\"lightgrey\",\"left_units\":\"screen\",\"level\":\"overlay\",\"line_alpha\":1.0,\"line_color\":\"black\",\"line_dash\":[4,4],\"line_width\":2,\"right_units\":\"screen\",\"top_units\":\"screen\"},\"id\":\"1026\",\"type\":\"BoxAnnotation\"},{\"attributes\":{},\"id\":\"1046\",\"type\":\"BasicTickFormatter\"},{\"attributes\":{\"axis\":{\"id\":\"1016\"},\"dimension\":1,\"ticker\":null},\"id\":\"1019\",\"type\":\"Grid\"},{\"attributes\":{},\"id\":\"1021\",\"type\":\"WheelZoomTool\"},{\"attributes\":{},\"id\":\"1050\",\"type\":\"Selection\"},{\"attributes\":{},\"id\":\"1017\",\"type\":\"BasicTicker\"},{\"attributes\":{\"text\":\"\"},\"id\":\"1043\",\"type\":\"Title\"},{\"attributes\":{},\"id\":\"1025\",\"type\":\"HelpTool\"},{\"attributes\":{},\"id\":\"1004\",\"type\":\"DataRange1d\"},{\"attributes\":{},\"id\":\"1024\",\"type\":\"ResetTool\"},{\"attributes\":{\"data_source\":{\"id\":\"1002\"},\"glyph\":{\"id\":\"1035\"},\"hover_glyph\":null,\"muted_glyph\":null,\"nonselection_glyph\":{\"id\":\"1036\"},\"selection_glyph\":null,\"view\":{\"id\":\"1038\"}},\"id\":\"1037\",\"type\":\"GlyphRenderer\"},{\"attributes\":{\"axis\":{\"id\":\"1012\"},\"ticker\":null},\"id\":\"1015\",\"type\":\"Grid\"},{\"attributes\":{},\"id\":\"1010\",\"type\":\"LinearScale\"},{\"attributes\":{\"source\":{\"id\":\"1002\"}},\"id\":\"1038\",\"type\":\"CDSView\"},{\"attributes\":{},\"id\":\"1006\",\"type\":\"DataRange1d\"},{\"attributes\":{},\"id\":\"1048\",\"type\":\"BasicTickFormatter\"},{\"attributes\":{\"data\":{\"X\":{\"__ndarray__\":\"AbxPwEtmXMCYz9++xgXov3KtzcCpNcTA7ea6wG1SwMALmb6/e64WwMj4YL+IM62/siytv4l3acC3MWbAfiytv7ddT7+7J2bAvsgnwNiHJ8A0Y4jAQVU7wDGIgcDTX6PAz46NwJh3bMABgUnAlUeWwBC6fMAFgU7A+UpPwP8ANcBG6InAgJWRwEKoz8AVrVHAVdOQwKP/i8ChIdDAASqPwBi8jMBxBa3Agj7RwInlYcCkCT9AfxI/QAszP0ATFD9A357tv//B28C/vFDAz3SiwBW+lcB8GqnAbpWJwGBHDb+wfhjA5XQ8wCCxo8C0LOHAfkTVwByEO8Crnw7AH0trv5AwAMAhneW/tUL9v6iwCj+SVjfALlTAPstvBj+XFgI/penDwB2EO8A4hJTA6PcbvZRVRMB2izDAfbGbP9f7Vr2c1IG/uN2ZvxdwrL8RVJe/HYQ7wKeRQMDHQYe+sl00v3z71MD8njTA+mVuwHf5lMBKMkbAgJ6LvyXRJsCLHKHArDOcP8D5McBf9WfAIMpTwA==\",\"dtype\":\"float32\",\"order\":\"little\",\"shape\":[100]},\"Y\":{\"__ndarray__\":\"RyEZP4wGar+AYI++TQAdQNH5qr8Z5TG/hIkNP/HvV0CpEVA/zunQP+G1vD//XAXAImEFwLAbkz8kgFBAMvQvPxVNTT8jTIxA9M06wE0iPMCU4CrADb2XPp6kFECn3oA/i3F1QKnMkj90jzc/W6C0P/H2sT+DofY/q7SxPvBWtD95cb0+yb1MwLr9HsCKNS9AMSgVvwk6QMDYr0k/o5xSv8rkHL+BUf6/2roLwFZ+Fz+BwKm95WCrvW3xsL2YW6694hNiQE8Jd76du8E+qewxQBPRGkAdU2G/TJsvv2ZI7T6MUoY/Sc+vP6He1z+0ZOy/yuDtv4tpET8ukOU/eTBNwLOhCL//NQq/DisVv9bG7L8n56e/HzDgv36S67/9gum/9qPuP4ppET8mtyA/fQwLPzuHEkCZ5Vg+QT3tPyC7lz/6wKu8sV6XP2cQRD8YLE4/i2kRP8q1R0BhXk5A2fX9P8+3rz+a+0G/b9OUPxWMxb9Yfzc/ly00QD5PlUCZ4TO+ilbtP/xgjkBcuwE/wYLJPg==\",\"dtype\":\"float32\",\"order\":\"little\",\"shape\":[100]},\"amount\":{\"__ndarray__\":\"mpmZmZkZN0AAAAAAAAAAAAAAAAAAAAAAAAAAAAAALkAAAAAAAOBxQAAAAAAAAAAAAAAAAAAAAAAAAAAAAAAAAAAAAAAAAAAAAAAAAAAAAAAAAAAAAAAAAAAAAAAAAF5AAAAAAAAAXkAAAAAAAAAAAAAAAAAAAAAAAAAAAAAAAACF61G4HoXrPwAAAAAAQF9AAAAAAAAAAAAAAAAAAAAAAAAAAAAA4GRAAAAAAAAAAAAAAAAAAAAAAAAAAAAAAAAAAAAAAACAUUAAAAAAAOBxQAAAAAAA4HFAAAAAAAAAAAAAAAAAAOBhQAAAAAAAAAAAMzMzMzMz8z8AAAAAAAAAAAAAAAAAAAAAAAAAAABAV0AAAAAAAAAAAAAAAAAAAAAAAAAAAAAAAAAAAAAAAAAAAAAAAAAAAAAAAAAAAAAAAAAAAAAAAAAAAAAAAAAAAAAAAAAAAAAAWkAAAAAAAAAAAAAAAAAAAAAAAAAAAAAASUAAAAAAAIBQQAAAAAAAYGBAAAAAAACASUAAAAAAAAAAAAAAAAAAgF1AAAAAAAAAPEAAAAAAAOBxQAAAAAAAAAAAAAAAAAAAAAAAAAAAAAAAAAAAAAAAAAAAAAAAAAAAAAAAAAAAAAAAAAAAAAAAAAAAAAAAAABAXkAAAAAAAAAAAAAAAAAAAAAAAAAAAAAAP0AAAAAAAAAAAAAAAAAAAAAAAAAAAAAAAAAAAAAAAAAAAAAAAAAAAAAAAAAAAAAAAAAAAAAAAAAAAAAAAAAAAAAAAAAAAACAQUAAAAAAAAAAAAAAAAAAAAAAAAAAAAAAAAAAAAAAAAAAAAAAAAAAAAAAAAAAAAAAQkAAAAAAAABCQKRwPQrXo/Q/AAAAAAAAAAAAAAAAAAAAAOF6FK5H4f4/AAAAAAAAAAAAAAAAAMBRQAAAAAAAAAAAAAAAAAAAAAAAAAAAAMBQQAAAAAAA4HFAAAAAAAAAAAAAAAAAAAAAAAAAAAAAAAAAAAAAAACAR0AAAAAAAIBEQAAAAAAAgEFAAAAAAAAAQkAAAAAAAIBEQAAAAAAAAAAAAAAAAADAakA=\",\"dtype\":\"float64\",\"order\":\"little\",\"shape\":[100]},\"fdc_id\":[377773,377777,377782,377806,377813,377820,377823,377826,377836,377837,377851,377873,377874,377881,377892,377912,377913,377915,377919,377922,377929,377933,377936,377938,377939,377942,377944,377948,377954,377960,377963,377964,377967,377972,377976,377977,377981,377985,377989,377994,377995,378006,378008,378016,378040,378041,378042,378043,378049,378078,378079,378081,378091,378100,378106,378127,378130,378144,378146,378158,378161,378165,378186,378192,378194,378195,378200,378211,378217,378225,378228,378231,378238,378242,378243,378246,378250,378251,378252,378254,378255,378256,378257,378258,378259,378269,378289,378302,378308,378322,378323,378329,378335,378337,378340,378343,378345,378349,378367,378374],\"food\":[\"MEIJER, THE GOODNESS, BROCCOLI FLORETS\",\"HICKORY-SMOKED JERKY FROM THE JAR\",\"TURKEY BITES TURKEY SAUSAGE\",\"SEASONED GREEN LIMA BEANS\",\"LAND O LAKES, COCOA CLASSICS, HOT COCOA MIX, MINT & CHOCOLATE\",\"POPCORN CHEESE FLAVORED\",\"GIANT, NATURE'S PROMISE, ORGANIC WHOLE GRAIN ANIMAL COOKIES\",\"L.B.JAMISON'S, SOUP BASE, BEEF\",\"100% REAL THICK CUT BACON\",\"SAVERNE, RAW NATURAL KRAUT, SRIRACHA\",\"THIN SLICED WHITE TURKEY\",\"YELLOW CORN TORTILLAS\",\"AUTHENTIC WHITE CORN TORTILLAS\",\"RIPPLES ORIGINAL POTATO CHIPS\",\"CHEEZE KURLS, KRISP DELICIOUS CHEEZE KURLS\",\"POINT CUT CORNED BEEF BRISKET\",\"AHOLD, CENTER SLICE SMOKED HAM\",\"LUISA'S, LAYERED FIESTA DIP\",\"NATURE'S PROMISE, ORGANIC FRUIT TWISTS, STRAWBERRY\",\"ORGANIC FRUIT TWISTS\",\"MILK CHOCOLATE TRUFFLES\",\"MEDIUM LARGE COOKED SHRIMP\",\"HAMPTON CREEK SPREAD & DRESSING\",\"TGI FRIDAYS, SWEET POTATO SKINS, ORIGINAL\",\"TGI FRIDAYS, BAKED JALAPENO POPPERS, CHEDDAR CHEESE\",\"WEIS, WHOLE ALMONDS, LIGHTLY SALTED ROASTED\",\"WEIS, RAW WHOLE ALMONDS\",\"GLAZED PECANS\",\"WEIS QUALITY, MIXED NUTS\",\"GRAND SUISSE, EMMENTALER\",\"NATURE'S PROMISE, ORGANIC, HASS AVOCADOS\",\"ORGANIC LIGHT KIDNEY BEANS\",\"NATURE'S PROMISE, ORGANIC, CINNAMON SQUARES, CRUNCHY CINNAMON CEREAL\",\"BRACH'S, CHOCOLATE CREATIONS, MILK & DARK CHOCOLATE BRIDGE MIX WITH ALMONDS\",\"FROZEN DAIRY DESSERT\",\"BOAR'S HEAD BRAND, LONGHORN COLBY ALL NATURAL CHEESE\",\"LOLLIPOPS\",\"HANS FREITAG, BISCUITS AND WAFERS WITH FINE DARK CHOCOLATE\",\"GRATIFY, GLUTEN FREE PRETZELS, DARK CHOCOLATE\",\"DISNEY, VALENTINE CANDY CARD KIT\",\"JELLY HEARTS\",\"BASSETTS, ICE CREAM, MINI CHOCOLATE CHIP\",\"BASSETTS, PRESTON STEVES ICE CREAM, GUATEMALAN RIPPLE\",\"GRANULATED SUGAR\",\"CUP NOODLE SOUP\",\"NISSIN, CUP NOODLES, HOMESTYLE RAMEN NOODLE SOUP, BEEF\",\"RAMEN NOODLE SOUP\",\"STRAIGHT NOODLES\",\"ROBERT ROTHSCHILD FARM, ROMA & SUN-DRIED TOMATO PASTA SAUCE\",\"GIANT, PASTRY CRISPS, STRAWBERRY\",\"NATURE'S PROMISE ORGANIC\",\"SAFFRON ROAD, BIBIMBOP WITH BEEF & BROWN RICE\",\"KALE CHIPS\",\"MARIANI, PREMIUM SEA SALT CARAMEL RAISINS\",\"JU JU HEARTS\",\"COOKED BRATWURST TRADITIONAL GERMAN SAUSAGE\",\"SCHALLER & WEBER, BAVARIAN STYLE SWEET & SPICY MUSTARD\",\"BUTTERBALL, TURKEY BURGERS\",\"GINGER BAKED FROSTED RICE SNACKS\",\"ICE CREAM\",\"ICE CREAM\",\"AHOLD, CHICKEN WINGS\",\"CAINS, REDUCED SODIUM HAMBURGER CHIPS\",\"HILL & VALLEY, SPLENDA, PUMPKIN SPICE SLICED CREME CAKE\",\"VERLASSO, SMOKED SALMON\",\"ACME SMOKED FISH, SMOKED NOVA SALMON\",\"BLUE HILL BAY, SMOKED WILD ALASKAN COHO SALMON\",\"GOLDEN FRESH, BAKED SALMON SALAD\",\"J&J, LOWFAT YOGURT, COFFEE\",\"GOLDEN TASTE, HORSERADISH DIP\",\"GOLDEN TASTE, WHITE FISH SALAD\",\"GOLDEN TASTE, SCALLION TUNA DELUXE\",\"MON CUISINE, VEGETARIAN VEAL STYLE SCHNITZEL\",\"PERDUE, CHICKEN DRUMSTICKS\",\"JOLLY TIME, HEALTHY CRISPY WHITE POP CORN\",\"WUNDERBAR, GERMAN BRAND, BOLOGNA, MADE WITH PORK, CHICKEN, BEEF\",\"JARLSBERG, REDUCED FAT SWISS CHEESE\",\"KIRKLAND SIGNATURE, PERDUE, FIT & EASY CHICKEN BREASTS\",\"OLIVE LOAF\",\"FOODHOLD, TURKEY PASTRAMI\",\"SELTZER'S, SWEET LEBANON BOLOGNA, LEAN BEEF\",\"BOAR'S HEAD, TURKEY BREAST\",\"FOODHOLD, COOKED HAM\",\"PEPPER BRAND HAM\",\"PERDUE, CHICKEN THIGHS\",\"NEW YORK STYLE CLASSIC CHEESECAKE\",\"AHOLD, KIDS NONFAT YOGURT, STRAWBERRY\",\"100% WHOLE WHEAT BREAD\",\"HARVEST STONE, CRISPY MIX, ORIGINAL\",\"EMERALD, CINNAMON ROAST ALMONDS\",\"WEIS, ROASTED & SALTED WHOLE CASHEWS\",\"TRAIL MIX\",\"O DONNELL'S, CORNED BEEF BRISKET\",\"AHOLD, NATURE'S PROMISE, 9 GRAIN BREAD\",\"STEAK BURRITO BOWL\",\"CREAMY COLESLAW\",\"BOAR'S HEAD, OLIVE LOAF\",\"CHICKEN, CILANTRO & LIME\",\"ORGANIC CANE SUGAR\",\"WOODSTOCK, ORGANIC FLAX SEEDS\"],\"id\":[0,6,13,20,23,26,29,32,39,46,65,72,75,78,84,91,98,101,104,123,142,145,164,171,174,177,183,186,189,192,199,202,221,240,243,250,257,276,279,282,301,320,327,330,349,352,355,358,361,364,367,370,373,376,383,402,409,428,435,461,468,490,497,516,519,526,533,540,547,554,561,568,575,578,585,588,595,602,609,612,615,618,625,632,635,642,645,664,667,670,673,676,679,686,689,692,702,705,708,727],\"index\":[0,1,2,3,4,5,6,7,8,9,10,11,12,13,14,15,16,17,18,19,20,21,22,23,24,25,26,27,28,29,30,31,32,33,34,35,36,37,38,39,40,41,42,43,44,45,46,47,48,49,50,51,52,53,54,55,56,57,58,59,60,61,62,63,64,65,66,67,68,69,70,71,72,73,74,75,76,77,78,79,80,81,82,83,84,85,86,87,88,89,90,91,92,93,94,95,96,97,98,99],\"ingredients\":[\"ORGANIC BROCCOLI\",\"BEEF, SOY SAUCE (WATER, SALT, HYDROLYZED SOY PROTEIN, CORN SYRUP, CARAMEL COLOR, POTASSIUM SORBATE), SEASONING (GARLIC, PEPPER, RED PEPPER).\",\"TURKEY, MECHANICALLY SEPARATED TURKEY, CONTAINS 2% OR LESS OF: SALT, CORN SYRUP SOLIDS, NATURAL SPICES, DEXTROSE, LACTIC ACID STARTER CULTURE, CARRAGEENAN, SODIUM ERYTHORBATE (MADE FROM SUGAR), GARLIC POWDER, SODIUM NITRITE. IN COLLAGEN CASING.\",\"GREEN LIMA BEANS, WATER, MONO-SODIUM GLUTAMATE, SALT, DEHYDRATED ONION, SUGAR, SPICES, RENDERED BACON FAT, CALCIUM CHLORIDE (AS A FIRMING AGENT) AND NATURAL HICKORY SMOKE FLAVOR.\",\"SUGAR, NONFAT DRY MILK, WHEY, DUTCH-PROCESSED COCOA, COCONUT OIL, CORN SYRUP SOLIDS, PARTIALLY HYDROGENATED SOYBEAN OIL, SALT, POTASSIUM & SODIUM PHOSPHATE, CELLULOSE GUM, MONO & DIGLYCERIDES, SODIUM CASEINATE, NATURAL & ARTIFICIAL FLAVOR, SOY LECITHIN.\",\"POPCORN, VEGETABLE OIL (ONE OR MORE OF THE FOLLOWING: CORN, COTTONSEED, PALM), WHEY, SALT, MALTODEXTRIN, CORN STARCH, SHORTENING POWDER (PARTIALLY HYDROGENATED SOYBEAN OIL, CORN SYRUP SOLIDS, SODIUM CASEINATE, MONO AND DIGLYCERIDES), CULTURED BUTTERMILK (SKIM MILK, LACTIC ACID, CULTURES), NATURAL AND ARTIFICIAL FLAVORS, MONOSODIUM GLUTAMATE, ARTIFICIAL COLORS (YELLOW 5 LAKE, YELLOW 6 LAKE), CITRIC ACID, DISODIUM PHOSPHATE, LACTIC ACID, DISODIUM INOSINATE AND DISODIUM GUANYLATE.\",\"ORGANIC WHOLE GRAIN WHEAT FLOUR, ORGANIC ENRICHED WHEAT FLOUR (NIACIN, IRON, THIAMIN MONONITRATE, RIBOFLAVIN, FOLIC ACID), ORGANIC CANE SUGAR, ORGANIC PALM OIL, ORGANIC CANE SUGAR SYRUP, ORGANIC CANOLA OIL, SODIUM BICARBONATE, ORGANIC SOY LECITHIN, ORGANIC VANILLA EXTRACT, SEA SALT.\",\"SALT, BEEF FAT (BHA, PROPYL GALLATE AND CITRIC ACID ADDED TO PROTECT FLAVOR), DEXTROSE HYDROLYZED SOY PROTEIN, CORN GLUTEN AND WHEAT PROTEIN (CONTAINS SALT, CARAMEL COLOR), FOOD STARCH-MODIFIED, MONOSODIUM GLUTAMATE, ONION POWDER, CARAMEL COLOR, BEEF EXTRACT, LACTIC ACID, SODIUM INOSINATE, DISODIUM GUANYLATE, NATURAL FLAVORING, OLEORESIN PAPRIKA, SULFITING AGENTS.\",\"WATER, SALT, SUGAR, SODIUM ERYTHORBATE, SODIUM NITRITE.\",\"CABBAGE, WATER, SEA SALT, CRUSHED CHILI PEPPERS, POLYSORBATE 80, EXTRACTIVES OF PAPRIKA, NATURAL FLAVORS\",\"TURKEY BREAST, TURKEY BROTH, SALT, CONTAINS 2% OR LESS OF THE FOLLOWING: VINEGAR, SUGAR, MODIFIED FOOD STARCH, SODIUM PHOSPHATE, SODIUM ERYTHORBATE, SODIUM NITRITE, FLAVORING.\",\"STONE GROUND CORN, WATER, CONTAINS LESS THAN 2% OF THE FOLLOWING: CITRIC ACID, POTATO STARCH, GUAR GUM, CELLULOSE GUM, ENZYME, TO MAINTAIN FRESHNESS (CALCIUM PROPIONATE).\",\"STONE GROUND CORN, WATER, CONTAINS LESS THAN 2% OF THE FOLLOWING: CITRIC ACID, POTATO STARCH, GUAR GUM, CELLULOSE GUM, ENZYME. TO MAINTAIN FRESHNESS (CALCIUM PROPIONATE).\",\"POTATOES, COTTONSEED OIL AND SALT.\",\"PROCESSED CORN MEAL, VEGETABLE OIL (ONE OR MORE OF THE FOLLOWING: SOYBEAN OIL, COTTONSEED OIL, CORN OIL), MALTODEXTRIN, WHEY, CORN FLOUR, CHEDDAR AND BLUE CHEESE (PASTEURIZED MILK, SALT, ANNATTO EXTRACT, CHEESE CULTURE, ENZYMES), SALT, BUTTER (CREAM, WATER, SALT), NATURAL AND ARTIFICIAL FLAVOR, BUTTERMILK, MONOSODIUM GLUTAMATE, YELLOW 5, YELLOW 6, AND YELLOW 5 LAKE.\",\"CURED WITH WATER, SALT, SODIUM PHOSPHATES, SODIUM ERYTHORBATE, SODIUM NITRITE, FLAVORINGS.\",\"CURED WITH: WATER, SALT, SUGAR, CONTAINS 2% OR LESS OF SODIUM PHOSPHATES, SODIUM ERYTHORBATE, SODIUM NITRITE, SODIUM LACTATE, SODIUM DIACETATE, FLAVOR.\",\"DICED TOMATOES (TOMATOES, TOMATO JUICE, CITRIC ACID, CALCIUM CHLORIDE), CREAM, SKIM MILK, WATER, PINTO BEANS, JALAPENO PEPPER, CHEDDAR CHEESE (PASTEURIZED MILK, CHEESE CULTURE, SALT, ENZYMES, ANNATTO [COLOR], NATAMYCIN [NATURAL MOLD INHIBITOR]), TOMATO PASTE, MODIFIED CORN STARCH, INVERT SUGAR, DEHYDRATED ONION & GARLIC, SALT, ONION, CILANTRO, GELATIN, CULTURED SKIM MILK, LACTIC & CITRIC ACID, GARLIC, XANTHAN GUM, DEHYDRATED RED & GREEN BELL PEPPER, MILK PROTEIN ISOLATE, SPICE, MALTODEXTRIN, CITRUS FIBER, MONO & DIGLYCERIDES, ACETIC ACID, AVOCADO, LIME JUICE CONCENTRATE, CORN FIBER, DISODIUM PHOSPHATE, MONOSODIUM GLUTAMATE, NATURAL FLAVOR, LOCUST BEAN GUM, WHITE VINEGAR, TOMATO POWDER, LEMON JUICE CONCENTRATE, PARSLEY, CALCIUM CHLORIDE, SUGAR, YELLOW 6, YELLOW 5, CALCIUM DISODIUM EDTA (TO PROTECT FLAVOR), CARAMEL COLOR, CARRAGEENAN, ASCORBIC ACID (VITAMIN C), BLUE 1.\",\"CONCENTRATED APPLE PUREE,* CONCENTRATED APPLE JUICE,* CONCENTRATED STRAWBERRY JUICE,* ASCORBIC ACID (VITAMIN C), NATURAL FLAVOR, CONCENTRATED PURPLE CARROT JUICE (FOR COLOR), PECTIN, GLAZE (SUNFLOWER OIL, CARNAUBA WAX).\",\"ORGANIC APPLE PUREE CONCENTRATE, ORGANIC APPLE JUICE CONCENTRATE, ORGANIC STRAWBERRY JUICE CONCENTRATE, ORGANIC RASPBERRY JUICE CONCENTRATE, ORGANIC BLUEBERRY JUICE CONCENTRATE, ASCORBIC ACID (VITAMIN C), ORGANIC NATURAL FLAVORS, PURPLE CARROT JUICE CONCENTRATE (FOR COLOR), PECTIN, ORGANIC GLAZE (ORGANIC SUNFLOWER OIL, ORGANIC CARNAUBA WAX).\",\"MILK CHOCOLATE [SUGAR, MILK, COCOA BUTTER, CHOCOLATE, SOYA LECITHIN (EMULSIFIER), BARLEY MALT POWDER, VANILLIN (ARTIFICIAL FLAVORING)], VEGETABLE OIL (COCONUT, PALM KERNEL), SUGAR, COCOA BUTTER, MILK, SKIM MILK, SOYA LECITHIN (EMULSIFIER), ARTIFICIAL FLAVORS.\",\"FARM RAISED SHRIMP.\",\"CANOLA OIL, WATER, WHITE DISTILLED VINEGAR. CONTAINS LESS THAN 2% OF LEMON JUICE CONCENTRATE, PEA PROTEIN, SALT, SPICE, DRIED CANE SYRUP, MODIFIED FOOD STARCH, FRUIT AND VEGETABLE JUICE (COLOR).\",\"SWEET POTATO POWDER, POTATO POWDER, POTATO STARCH, CORN, SOYBEAN OIL AND/OR SUNFLOWER OIL, CORN MEAL, CANE SUGAR, MOLASSES POWDER, SALT, RICE FLOUR, NATURAL FLAVORS, LEMON JUICE POWDER (CORN SYRUP SOLIDS, LEMON JUICE SOLIDS, NATURAL FLAVORS), EXTRACTIVES OF PAPRIKA.\",\"CORN MEAL, SOYBEAN OIL AND/OR SUNFLOWER OIL, WHEY MALTODEXTRIN, SALT, JALAPENO PEPPER, BUTTERMILK, SUGAR, ONION POWDER, GARLIC POWDER, NATURAL AND ARTIFICIAL FLAVORS, RICE CONCENTRATE, CHEDDAR CHEESE (CULTURED MILK, SALT, ENZYMES), CITRIC ACID, YEAST EXTRACT, EXTRACTIVE OF PAPRIKA, DISODIUM PHOSPHATE, CALCIUM CARBONATE.\",\"ALMONDS, PEANUT OIL, SALT.\",\"ALMONDS.\",\"PECANS, SUGAR, TAPIOCA SYRUP, SALT, VEGETABLE OIL (CONTAINS ONE OR MORE OF THE FOLLOWING: CANOLA OIL, SAFFLOWER OIL, SUNFLOWER OIL), SOY LECITHIN, ROSEMARY EXTRACT.\",\"PEANUTS, CASHEWS, ALMONDS, PECANS, BRAZIL NUTS, PEANUT OIL, SALT.\",\"COW'S MILK, CHEESE CULTURES, SALT, ENZYMES.\",\"ORGANIC HASS AVOCADO.\",\"PREPARED ORGANIC RED KIDNEY BEANS, WATER, SEA SALT.\",\"ORGANIC WHOLE GRAIN WHEAT, ORGANIC CANE SUGAR, ORGANIC WHOLE GRAIN BROWN RICE, ORGANIC OAT HULL FIBER, ORGANIC CINNAMON, SEA SALT, CALCIUM CARBONATE, TOCOPHEROLS (ANTIOXIDANTS TO MAINTAIN FRESHNESS).\",\"MILK CHOCOLATE (SUGAR, COCOA BUTTER, WHOLE MILK POWDER, CHOCOLATE LIQUOR, LACTOSE, SOY LECITHIN [AN EMULSIFIER], MILK FAT, LIPOLYZED MILK FAT, SALT, VANILLA, ARTIFICIAL FLAVOR), SWEET CHOCOLATE (SUGAR, CHOCOLATE LIQUOR, COCOA BUTTER, SOY LECITHIN [AN EMULSIFIER], VANILLA), ROASTED PEANUTS (PEANUTS, COTTONSEED AND/OR PEANUT OIL, SALT, TBHQ [A PRESERVATIVE]), CORN SYRUP, SUGAR, RAISINS, ALMONDS, SWEETENED CONDENSED MILK (MILK, SKIM MILK, SUGAR), PARTIALLY HYDROGENATED VEGETABLE OIL (CONTAINS ONE OR MORE OF THE FOLLOWING: PALM KERNEL, SOYBEAN, COTTONSEED, COCONUT, OR PALM OIL), MALTED MILK POWDER (EXTRACTS OF WHEAT FLOUR AND MALT BARLEY, WHOLE MILK, SALT, SODIUM BICARBONATE), MALT POWDER (MALT, CORN), MODIFIED FOOD STARCH (CORN), COCOA POWDER, EVAPORATED MILK, SALT, NATURAL AND ARTIFICIAL FLAVORS, ACACIA (GUMARABIC), PALM KERNEL OIL, CONFECTIONER'S GLAZE (SHELLAC), TAPIOCA DEXTRIN, COCONUT OIL, SODIUM BICARBONATE, GLYCERINE, XANTHAN GUM, INVERTASE.\",\"MILK, CORN SYRUP, SKIM MILK, SUGAR, CREAM, HIGH FRUCTOSE CORN SYRUP, WHEY PROTEIN CONCENTRATE, PEANUTS, COCOA BUTTER, HYDROGENATED VEGETABLE OIL (PALM KERNEL, SOYBEAN) WITH SOYA LECITHIN, COCOA (PROCESSED WITH ALKALI), CHOCOLATE, NATURAL FLAVORS, TAPIOCA STARCH, NATURAL CHOCOLATE LIQUOR, XANTHAN GUM, BUTTER (CREAM, SALT), GUAR GUM, PHOSPHORIC ACID, SALT, MICROCRYSTALLINE CELLULOSE, MONO AND DIGLYCERIDES, SODIUM ALGINATE, CARAMEL (COLOR), SOY LECITHIN, VANILLA EXTRACT, CELLULOSE GUM, BUTTER OIL, SODIUM CITRATE, LOCUST BEAN GUM, CARRAGEENAN, VITAMIN A PALMITATE.\",\"PASTEURIZED MILK, CHEESE CULTURE, SALT, ENZYMES, ANNATTO (VEGETABLE COLOR).\",\"SUGAR, CORN SYRUP, CITRIC ACID, ARTIFICIAL FLAVOR, RED 40.\",\"WHEAT FLOUR, CHOCOLATE (COCOA LIQUOR, SUGAR, COCOA BUTTER, SOY LECITHIN), PALM AND COCONUT FAT, SUGAR, DEXTROSE, WHEAT STARCH, LACTOSE (MILK), GLUCOSE SYRUP (FROM WHEAT), BUTTER OIL, SALT, COCOA POWDER, AMMONIUM BICARBONATE, SODIUM BICARBONATE, NATURAL FLAVOR, VANILLA FLAVORING, EGG, BARLEY MALT EXTRACT, CINNAMON, SOY LECITHIN.\",\"DARK CHOCOLATE (SUGAR, CHOCOLATE LIQUOR PROCESSED WITH ALKALI, COCOA BUTTER, SOY LECITHIN [AN EMULSIFIER], VANILLA), PRETZEL (CORN STARCH, PALM OIL, POTATO STARCH, SEA SALT, SUGAR, DRY YEAST, CELLULOSE GUM, SOY LECITHIN, LEAVENING [SODIUM BICARBONATE, SODIUM ACID PYROPHOSPHATE]).\",\"SUGAR, CORN SYRUP, CITRIC ACID, ARTIFICIAL FLAVORS, ARTIFICIAL COLORS (RED 40, TITANIUM DIOXIDE).\",\"SUGAR, CORN SYRUP, CORNSTARCH, MODIFIED CORNSTARCH, ARTIFICIAL FLAVOR, RED 40.\",\"CREAM, MILK, SUGAR, CORN SYRUP, CHOCOLATE CHIPS (SUGAR, CHOCOLATE LIQUOR, COCOA BUTTER, SOY LECITHIN, VANILLA), NONFAT MILK, GREEN COLORING (F.D. & C. YELLOW NO. 5, F.D. & C. GREEN NO. 3) GUAR GUM, XANTHAN GUM, CARRAGEENAN, SOY LECITHIN, OIL OF PEPPERMINT.\",\"CREAM, MILK, SUGAR, MOCHA FUDGE RIPPLE (CORN SYRUP, WATER, SUGAR, HIGH FRUCTOSE CORN SYRUP, COCOA, PARTIALLY HYDROGENATED SOYBEAN OIL, DRIED COFFEE, MODIFIED CORN STARCH, CHOCOLATE LIQUOR, MONO AND DIGLYCERIDES, SALT, SOY LECITHIN, NATURAL FLAVOR, VANILLA), CORN SYRUP, CHOCOLATE COFFEE CUPS (SUGAR, COCONUT OIL, PARTIALLY HYDROGENATED SOYBEAN OIL, MILK, COCOA PROCESSED WITH ALKALI, NONFAT MILK, CHOCOLATE PROCESSED WITH ALKALI, COFFEE, COCOA, SOY LECITHIN, NATURAL FLAVORS, SALT, VANILLIN), NONFAT MILK, NATURAL GUATEMALAN COFFEE FLAVOR, GUAR GUM, XANTHAN GUM, CARRAGEENAN, SOY LECITHIN.\",\"CANE SUGAR.\",\"ENRICHED WHEAT FLOUR (WHEAT FLOUR, NIACIN, REDUCED IRON, THIAMINE MONONITRATE, RIBOFLAVIN, FOLIC ACID), VEGETABLE OIL (PALM OIL, RICE BRAN OIL, SESAME OIL, SALT, CONTAINS LESS THAN 2% OF DRIED CARROT FLAKE, DRIED GREEN PEA, MONOSODIUM GLUTAMATE, DRIED SHRIMP, HYDROLYZED CORN SOY AND WHEAT PROTEIN, DRY SOY SAUCE (WHEAT, SOYBEAN, SALT), MALTODEXTRIN, SPICE, CARAMEL COLOR, GLUCOSE, SUGAR, POTASSIUM CARBONATE, SODIUM TRIPOLYPHOSPHATE, SODIUM CARBONATE, HYDROLYZED CORN GLUTEN, DRIED PORK STOCK, GARLIC POWDER, DRIED CHICKEN STOCK, CITRIC ACID, DISODIUM GUANYLATE, DISODIUM INOSINATE, POWDERED BAMBOO SHOOT, DISODIUM SUCCINATE, TBHQ (PRESERVATIVE), SODIUM ALGINATE, ONION POWDER, AUTOLYZED YEAST EXTRACT, NATURAL AND ARTIFICIAL FLAVOR, SHRIMP EXTRACT POWDER, TORULA YEAST, COD LIVER OIL. \",\"ENRICHED FLOUR (WHEAT FLOUR, NIACIN, REDUCED IRON, THIAMINE MONONITRATE, RIBOFLAVIN, FOLIC ACID), VEGETABLE OIL (PALM OIL, HYDROGENATED PALM OIL, RICE BRAN OIL), SALT, CONTAINS LESS THAN 2% OF AUTOLYZED YEAST EXTRACT, BAKER'S YEAST EXTRACT, BEEF FAT, BETA CAROTENE COLOR, CARAMEL COLOR, CITRIC ACID, CORN SYRUP, DISODIUM GUANYLATE, DISODIUM INOSINATE, DISODIUM SUCCINATE, DRIED RED BELL PEPPER FLAKE, EGG WHITE, GARLIC POWDER, HYDROLYZED CORN PROTEIN, HYDROLYZED SOY PROTEIN, HYDROLYZED WHEAT PROTEIN, LACTOSE, MONOSODIUM GLUTAMATE, NATURAL FLAVOR, ONION POWDER, POTASSIUM CARBONATE, POWDERED BEEF, SODIUM ALGINATE, SODIUM CARBONATE, SODIUM PHOSPHATE, SODIUM TRIPOLYPHOSPHATE, SOY LECITHIN, SOY SAUCE (WATER, WHEAT, SOYBEAN, SALT), SPICE, SUGAR, TBHQ (PRESERVATIVE)\",\"ENRICHED FLOUR (WHEAT FLOUR, NIACIN, REDUCED IRON, THIAMINE MONONITRATE, RIBOFLAVIN, FOLIC ACID), VEGETABLE OIL (PALM OIL, HYDROGENATED PALM OIL), SALT, TAPIOCA STARCH, CONTAINS LESS THAN 2% OF AUTOLYZED YEAST EXTRACT, BETA CAROTENE COLOR, CITRIC ACID, CORN SYRUP, DEXTROSE, DISODIUM GUANYLATE, DISODIUM INOSINATE, DRIED CABBAGE FLAKE, DRIED CARROT FLAKE, DRIED CORN, DRIED MUSHROOM FLAKE, DRIED ONION FLAKE, EGG WHITE, GARLIC POWDER, HYDROLYZED CORN PROTEIN, LACTOSE, MALTODEXTRIN, MONOSODIUM GLUTAMATE, NATURAL AND ARTIFICIAL FLAVOR, ONION POWDER, POTASSIUM CARBONATE, POWDERED CHICKEN, RENDERED CHICKEN FAT, SILICON DIOXIDE, SODIUM ALGINATE, SODIUM CARBONATE, SODIUM PHOSPHATE, SODIUM TRIPOLYPHOSPHATE, SOY LECITHIN, SOYBEAN, SPICE, AND COLOR, SUGAR, TBHQ (PRESERVATIVE), TEXTURED SOY PROTEIN, WHEAT, XANTHAN GUM, YELLOW 5.\",\"ENRICHED FLOUR (WHEAT FLOUR, NIACIN, REDUCED IRON, THIAMINE MONONITRATE, RIBOFLAVIN, FOLIC ACID), VEGETABLE OIL (PALM OIL, HYDROGENATED PALM OIL), TAPIOCA STARCH, SALT, HYDROLYZED SOY PROTEIN, CONTAINS LESS THAN 2% OF AUTOLYZED YEAST EXTRACT, BAKER'S YEAST EXTRACT, BEEF FAT, BETA CAROTENE COLOR, CALCIUM SILICATE, CARAMEL COLOR, CITRIC ACID, CORN SYRUP, DRIED CARROT FLAKE, DRIED CORN, DRIED GREEN PEA, DRIED ONION FLAKE, DRIED TOMATO, EGG WHITE, GARLIC POWDER, HYDROLYZED CORN PROTEIN, LACTOSE, MALTODEXTRIN, MONOSODIUM GLUTAMATE, NATURAL AND ARTIFICIAL FLAVOR, NONFAT MILK, ONION POWDER, POTASSIUM CARBONATE, POWDERED BEEF, SODIUM ALGINATE, SODIUM CARBONATE, SODIUM PHOSPHATE, SODIUM TRIPOLYPHOSPHATE, SOY LECITHIN, SOY SAUCE (WHEAT, SOYBEAN, SALT, WATER), SPICE AND COLOR, TBHQ (PRESERVATIVES), TEXTURED SOY PROTEIN, TOMATO POWDER. \",\"SEASONED TOMATOES (TOMATOES, TOMATO JUICE, SALT, SUGAR, ONIONS, GREEN BELL PEPPERS, CELERY, CITRIC ACID, BASIL, WHITE PEPPER), ROASTED ROMA TOMATOES, WATER, CANOLA OIL, SUN-DRIED TOMATOES LEMON JUICE (FROM CONCENTRATE), WHITE VINEGAR, CONTAINS LESS THAN 2% OF OLIVE OIL, GARLIC, NATURAL FLAVORINGS (SOY LECITHIN).\",\"STRAWBERRY FLAVORED FILLING (FRUCTOSE, GLYCERIN, APPLE PUREE [APPLE, ASCORBIC ACID {PRESERVATIVE}, POTASSIUM SORBATE {PRESERVATIVE}], SUGAR, WATER, STRAWBERRIES, APPLE POWDER, PECTIN, MODIFIED CORNSTARCH, SODIUM ALGINATE, XANTHAN GUM, DICALCIUM PHOSPHATE, SODIUM CITRATE, MONO- AND DIGLYCERIDES, CITRIC ACID, MALIC ACID, NATURAL AND ARTIFICIAL FLAVOR, COLOR [RED 40, BLUE 1, TITANIUM DIOXIDE]), ENRICHED FLOUR (WHEAT FLOUR, NIACIN, REDUCED IRON, THIAMIN MONONITRATE, RIBOFLAVIN, FOLIC ACID), YOGURT FLAVORED COATING (SUGAR, PALM KERNEL OIL, YOGURT POWDER [CULTURED WHEY PROTEIN CONCENTRATE, CULTURED SKIM MILK, YOGURT CULTURE], NONFAT DRY MILK SOLIDS, SOY LECITHIN [EMULSIFIER], NATURAL FLAVOR), PALM AND/OR PALM KERNEL OIL, SUGAR, MALTODEXTRIN, MODIFIED POTATO STARCH, LIQUID INVERT SUGAR, MODIFIED CORNSTARCH, WHEY POWDER, YEAST, ENZYMES, SALT, SODIUM ACID PYROPHOSPHATE, SOY LECITHIN (EMULSIFIER), SODIUM BICARBONATE, MONOCALCIUM PHOSPHATE, NATURAL FLAVOR.\",\"ORGANIC KALE GREENS.\",\"VEGETABLE SAUTE: BROCCOLI, ONION, YELLOW SOYBEAN SPROUTS, MUSHROOMS, CARROTS, BABY BOK CHOY, RED BELL PEPPERS, YELLOW BELL PEPPER, EXPELLER PRESSED CANOLA OIL, GARLIC, TOASTED SESAME OIL, KOREAN RED PEPPER. SHORT GRAIN BROWN RICE: RICE, WATER. GOCHUJANG SAUCE: WATER, ORGANIC TAMARI (WATER, ORGANIC SOYBEANS, SALT, ORGANIC VINEGAR), DEHYDRATED CANE SYRUP, BROWN RICE SYRUP, RICE FLOUR, PEAR PUREE WITH ASCORBIC ACID, GARLIC PUREE WITH CITRIC ACID, RED PEPPER, ORGANIC RED MISO (WATER, ORGANIC SOYBEANS, ORGANIC RICE, SEA SALT, KOJI), APPLE JUICE CONCENTRATE, ORGANIC GINGER, ORGANIC PAPRIKA, ORGANIC ONION, LACTIC ACID. SLICED BEEF SIRLOIN: BEEF SIRLOIN, WATER, RICE STARCH, LEMON JUICE CONCENTRATE, VINEGAR, GARLIC, GINGER.\",\"ORGANIC INGREDIENTS: KALE, SUNFLOWER SEEDS, TAHINI (GROUND SESAME SEEDS), CARROT, APPLE CIDER VINEGAR, CANE SUGAR, ONION, *SEA SALT, LEMON JUICE.\",\"SEA SALT CARAMEL FLAVORED COATING (SUGAR, PALM KERNEL AND PALM OIL, NONFAT DRY MILK SOLIDS, WHOLE MILK SOLIDS, SALT, NATURAL FLAVOR, ARTIFICIAL COLOR [YELLOW LAKE 6,YELLOW LAKE 5, BLUE LAKE 2], SOY LECITHIN), RAISINS, TAPIOCA DEXTRIN, CONFECTIONERS GLAZE, CORN SYRUP, AND MALTODEXTRIN.\",\"CORN SYRUP, SUGAR, CORNSTARCH, MODIFIED CORNSTARCH, ARTIFICIAL FLAVORS, CARNAUBA WAX, RED 40.\",\"PORK, WATER, VEAL, SALT, SODIUM LACTATE, MILK, SPICES, FLAVORINGS, SODIUM PHOSPHATE, DEXTROSE, SODIUM DIACETATE, CITRIC ACID.\",\"MUSTARD SEED, VINEGAR, BROWN SUGAR, SALT, PEPPER, SPICES.\",\"WHITE TURKEY, LESS THAN 2% SEA SALT, NATURAL FLAVORING.\",\"RICE, SUGAR, VEGETABLE OIL (CANOLA OIL, CORN OIL, CORN OIL, RICE OIL AND SOY LECITHIN), CORN STARCH, POTATO STARCH, MODIFIED TAPIOCA STARCH, TREHALOSE, SEA SALT, CONTAINS 1% OR LESS OF: WHEY PROTEIN, SOY LECITHIN, GINGER POWDER, CARAMEL COLOR, NATURAL HONEY FLAVOR, NATURAL GINGER FLAVOR, SHELL CALCIUM.\",\"MILKFAT AND NONFAT MILK, RASPBERRY SWIRL (CORN SYRUP, WATER, HIGH FRUCTOSE CORN SYRUP, SUGAR, RASPBERRY PUREE, TAPIOCA STARCH, NATURAL FLAVOR, FRUIT AND VEGETABLE JUICE FOR COLOR, CITRIC ACID, SALT, XANTHAN GUM, LOCUST BEAN GUM, GUAR GUM), SUGAR, CORN SYRUP, DONUT PIECES (SUGAR, WHEAT FLOUR, WATER, MILK BUTTER, CORN STARCH, NATURAL FLAVORS, BAKING POWDER, EGGS, NUTMEG, SOY LECITHIN, SALT, CINNAMON), HIGH FRUCTOSE CORN SYRUP, SPRINKLES (SUGAR, CORN STARCH, PARTIALLY HYDROGENATED VEGETABLE OIL [COTTONSEED AND/OR SOYBEAN], SOY LECITHIN, DEXTRIN, CONFECTIONER'S GLAZE, NATURAL AND ARTIFICIAL FLAVOR, RED 40 LAKE, CARNAUBA WAX YELLOW 6 LAKE, BLUE 1 LAKE, YELLOW 5 LAKE, RED 3, BLUE 1, RED 40), WHEY, NATURAL AND ARTIFICIAL FLAVOR, MONO AND DIGLYCERIDES, GUAR GUM, LOCUST BEAN GUM, POLYSORBATE 80, CARRAGEENAN.\",\"MILKFAT AND NONFAT MILK, BUTTERMILK, FUDGE SWIRL (SUGAR, PEANUT OIL, COCOA PROCESSED WITH ALKALI, WHEY, SALT, SOY LECITHIN), FUDGE PIECES (SUGAR, COCONUT OIL, PARTIALLY HYDROGENATED SOYBEAN OIL, WHOLE MILK, NONFAT MILK, COCOA PROCESSED WITH ALKALI, CHOCOLATE PROCESSED WITH ALKALI, SOY LECITHIN, NATURAL AND ARTIFICIAL FLAVORS, SALT), CORN SYRUP, SUGAR, WHEY, MONO AND DIGLYCERIDES, NATURAL AND ARTIFICIAL FLAVORS, GUAR GUM, LACUST BEAN GUM, POLYSORBATE 80, AND CARRAGEENAN.\",\"CHICKEN WINGS.\",\"CUCUMBERS, WATER, DISTILLED VINEGAR, SALT, CALCIUM CHLORIDE, ALUM, NATURAL SPICE FLAVORS, POLYSORBATE 80 AND YELLOW 5.\",\"MALTITOL* AND SORBITOL* SYRUP, EGGS, PUMPKIN, BLEACHED ENRICHED FLOUR (BLEACHED WHEAT FLOUR, NIACIN, REDUCED IRON, THIAMINE MONONITRATE, RIBOFLAVIN, FOLIC ACID), WATER, EGG WHITES, SOY OIL AND SOY OIL SHORTENING (SOYBEAN OIL, MONO-AND DIGLYCERIDES, PROPYLENE GLYCOL MONO- AND DIESTERS OF FATTY ACIDS, GLYCERYL-LACTO ESTERS OF FATTY ACIDS), WHEAT FLOUR, MALTODEXTRIN, FOOD STARCH-MODIFIED, LEAVENING (SODIUM ACID PYROPHOSPHATE, BAKING SODA, MONOCALCIUM PHOSPHATE), SPICE, SALT, NATURAL AND ARTIFICIAL FLAVOR (CONTAINS WHEAT AND MILK), GLUCONO DELTA-LACTONE, EMULSIFIER PRODUCT [PROPYLENE GLYCOL MONOSTEARATE, MONO GLYCERIDES, SODIUM STEAROYL LACTYLATE, CALCIUM SILICATE, ASCORBIC ACID (PRESERVATIVE), CITRIC ACID (PRESERVATIVE)], CALCIUM PROPIONATE (PRESERVATIVE), SODIUM BENZOATE (PRESERVATIVE), SORBIC ACID (PRESERVATIVE), SOY LECITHIN, XANTHAN GUM, GUAR GUM, ACESULFAME POTASSIUM, SUCRALOSE.\",\"SALMON, SALT, NATURAL GREEN TEA EXTRACT, CELERY EXTRACT, AND NATURAL HARDWOOD SMOKE.\",\"SALMON, SALT, SUGAR, NATURAL GREEN TEA EXTRACT, NISIN, SODIUM NITRITE, AND NATURAL HARDWOOD SMOKE.\",\"COHO SALMON, SALT, NATURAL GREEN TEA EXTRACT, CELERY EXTRACT, AND NATURAL HARDWOOD SMOKE.\",\"BAKED SALMON, MAYONNAISE, (SOY/COTTONSEED OIL FOR PASSOVER, WATER, EGGS, SUGAR, SALT, VINEGAR OR ACETIC ACID, XANTHAN GUM, EDTA), MODIFIED FOOD STARCH, SPICES, SALT, SODIUM BENZOATE & POTASSIUM SORBATE, RED # 40 & 3, YELLOW # 5 &6.\",\"CULTURED PASTEURIZED GRADE A LOWFAT MILK, SUGAR, NONFAT MILK SOLIDS, COFFEE. CONTAINS ACTIVE LACTOBACILLUS BULGARICUS AND STREPTOCOCCUS THERMOPHILUS CULTURES.\",\"BEETS, MAYONNAISE, (SOY/COTTONSEED OIL FOR PASSOVER, WATER, EGGS, SUGAR, SALT, VINEGAR OR ACETIC ACID, XANTHAN GUM, EDTA), HORSERADISH, WATER, SUGAR, SALT, CITRIC ACID.\",\"WHITE FISH, MAYONNAISE (SOY/COTTONSEED OIL FOR PASSOVER, WATER, EGGS, SUGAR, SALT, VINEGAR OR ACETIC ACID, XANTHAN GUM, EDTA), SALT, MODIFIED FOOD STARCH, SPICES, SODIUM BENZOATE AND POTASSIUM SORBATE.\",\"TUNA, MAYONNALSE (SOY/COTTONSEED OIL FOR PASSOVER, WATER, EGGS, SUGAR, SALT, VINEGAR OR ACETIC ACID, XANTHAN GUM, EDTA), ONIONS, CHIVES, SPICES, SODIUM BENZOATE AND POTASSIUM SORBATE.\",\"WATER, SOY PROTEIN, WHEAT GLUTEN, BASMATI RICE, NATURAL FLAVOR, (YEAST), NATURAL SPICES, CORN MEAL, LIGHT TAMARI SAUCE, (WATER, SOYBEAN, SALT, WHEAT), BREAD CRUMBS, (FROM UNBLEACHED WHEAT FLOUR), CORN, TAPIOCA STARCH, SOY OIL, CELLULOSE GUM, CARRAGEENAN (SEAWEED), XANTHAN GUM (VEGETABLE GUM), SESAME SEEDS.\",\"CHICKEN DRUMSTICKS.\",\"100% WHOLE GRAIN NON-GMO WHITE POP CORN, PARTIALLY HYDROGENATED SOYBEAN OIL, SALT, NATURAL FLAVOR\",\"PORK MECHANICALLY SEPARATED CHICKEN, DEXTROSE, WATER, CORN SYRUP, SALT, CONTAINS 2% OR LESS OF; POTASSIUM LACTATE, FLAVORINGS, BEEF, SODIUM PHOSPHATE, SODIUM DIACETATE, SODIUM ERYTHORBATE, SODIUM NITRITE, EXTRACTIVE OF PAPRIKA.\",\"PASTEURIZED PART SKIM-MILK RENNET, SALT, *VITAMIN A ACETATE, CULTURE, (*NOT FOUND IN SWISS CHEESE).\",\"BONELESS SKINLESS CHICKEN BREASTS.\",\"BEEF, PORK, STUFFED OLIVES (OLIVES, WATER, MINCED PIMENTO, SALT, LESS THAN 2% OF LACTIC ACID, SODIUM ALGINATE, GUAR UM, CALCIUM CHLORIDE), WATER, SWEET RED PEPPERS (FRESH SWEET RED PEPPERS, WATER, CITRIC ACID), SALT, SUGAR, DEXTROSE, SODIUM PHOSPHATE, FLAVORINGS, SODIUM ERYTHORBATE, SODIUM NITRITE.\",\"TURKEY THIGH MEAT, MECHANICALLY SEPARATED TURKEY, WATER, ISOLATED OAT PRODUCT, SEASONING (SALT, SODIUM PHOSPHATE, SUGAR, GARLIC POWDER, SODIUM ERYTHORBATE, SPICE EXTRACTIVES), CRACKED BLACK PEPPER, CONTAINING 2% OR LESS OF SODIUM LACTATE, SODIUM DIACETATE, SODIUM NITRITE.\",\"BEEF, SUGAR, SALT, SPICES, PAPRIKA, LACTIC ACID STARTER CULTURE, SODIUM ERYTHORBATE, SODIUM NITRITE.\",\"TURKEY BREAST, WATER, LESS THAN 1.5% OF SALT, SUGAR, SODIUM PHOSPHATE AND DEXTROSE.\",\"CURED WITH: WATER, DEXTROSE, SALT, SODIUM PHOSPHATE, SODIUM ASCORBATE, SODIUM NITRITE.\",\"FRESH HAM, WATER, SALT, SUGAR, DEXTROSE, SODIUM PHOSPHATE, SODIUM ERYTHORBATE, SODIUM NITRITE.\",\"CHICKEN THIGHS.\",\"PASTEURIZED MILK AND CREAM, SUGAR, WHEAT FLOUR, PASTEURIZED EGG, SOYBEAN OIL, WHOLE WHEAT FLOUR, NONFAT DRY MILK, FOOD STARCH - MODIFIED, MOLASSES, SALT, CHEESE CULTURE, NATURAL FLAVOR, MALTED BARLEY FLOUR, VEGETABLE MONO & DIGLYCERIDES, SODIUM BICARBONATE, HONEY, GUAR GUM, CAROB BEAN GUM, SODIUM PHOSPHATE, XANTHAN GUM, SODIUM ALGINATE, CARRAGEENAN, GLYCEROL, MALTODEXTRIN, NIACIN, REDUCED IRON, THIAMIN MONONITRATE, RIBOFLAVIN, FOLATE, VITAMIN A PALMITATE, ENZYME, VITAMIN D3.\",\"CULTURED GRADE A NON FAT MILK.SUGAR, WATER, MODIFIED FOOD STARCH, CONTAINS LESS THAN 1% OF KOSHER GELATIN, NATURAL FLAVORS, AGAR AGAR, BLACK CARROT JUICE CONCENTRATE AND BETA CAROTENE (FOR COLOR), MALIC ACID, POTASSIUM SORBATE (TO MAINTAIN FRESHNESS), SODIUM CITRATE, VITAMIN D3. CONTAINS ACTIVE YOGURT CULTURES.\",\"WHOLE WHEAT FLOUR, WATER, SUGAR, SOYBEAN AND/OR CANOLA OIL, YEAST, CONTAINS 2% OR LESS OF THE FOLLOWING: WHEAT GLUTEN, SALT, MOLASSES, DOUGH CONDITIONERS (SODIUM STEAROYL LACTYLATE, MONO- AND DIGLYCERIDES, ASCORBIC ACID, ENZYMES), WHEAT STARCH, SOYBEAN LECITHIN, CALCIUM PROPIONATE (PRESERVATIVE), YEAST NUTRIENTS (MONOCALCIUM PHOSPHATE, CALCIUM SULFATE, AMMONIUM SULFATE), VINEGAR.\",\"CORN CHIPS WITH FLAX: YELLOW CORN MASA FLOUR, FLAX SEEDS, SOYBEAN OIL, SALT. GLUTEN FREE PRETZELS: CORN STARCH, PALM OIL, POTATO STARCH, SEA SALT, SUGAR, CELLULOSE GUM, SOY LECITHIN, LEAVENING (SODIUM BICARBONATE, SODIUM ACID PYROPHOSPHATE), YEAST EXTRACT. ROASTED VEGETABLE MULTI-GRAIN SQUARES: BROWN RICE FLOUR, WHOLE GRAIN YELLOW CORN, POTATO STARCH, SAFFLOWER OIL, ROASTED RED BELL PEPPER SEASONING (MALTODEXTRIN, SALT, TOMATO POWDER, ONION POWDER, SUGAR, GARLIC POWDER, NATURAL FLAVORING, YEAST EXTRACT, GREEN PEPPER, RED BELL PEPPER, SPICES AND HERBS, TOCOPHEROL (ANTIOXIDANT), ASCORBIC ACID (TO HELP PROTECT FLAVOR)), OAT FIBER, DRIED CANE SYRUP, SESAME SEEDS, FLAX SEEDS, MILLET, QUINOA SEEDS. SAVORY MULTI-SEED CHIPS: BROWN RICE FLOUR, SESAME SEEDS, POTATO STARCH, SAFFLOWER OIL, SAVORY SEASONING (SALT, SUGAR, GARLIC AND ONION POWDERS, SPICES (INCLUDING MUSTARD), MALIC ACID, NATURAL FLAVORS), QUINOA SEEDS, FLAX SEEDS, AMARANTH SEEDS, TAMARI SOY SAUCE POWDER (TAMARI SOY SAUCE (SOYBEANS, SALT), MALTODEXTRIN [CORN], SALT). ROASTED GARLIC POPPED CHIPS: BROWN RICE FLOUR, WHITE RICE FLOUR, SAFFLOWER OIL, SESAME SEEDS, POTATO STARCH, DRIED CANE SYRUP, ROASTED GARLIC SEASONING (MALTODEXTRIN, SEA SALT, DEHYDRATED ROASTED GARLIC, ROASTED GARLIC POWDER, LESS THAN 2% TORULA YEAST, NATURAL FLAVOR), SEA SALT, ROASTED SESAME OIL, GARLIC POWDER.\",\"ALMONDS, POTATO STARCH, CINNAMON, NATURAL FLAVORS [SOY], DEXTROSE, MODIFIED FOOD STARCH, SALT, SPICE, ACESULFAME POTASSIUM, SUCRALOSE.\",\"CASHEWS, PEANUT OIL, SALT.\",\"PEANUTS, RAISINS, MILK CHOCOLATE CANDIES (MILK CHOCOLATE (SUGAR, COCOA BUTTER, CHOCOLATE LIQUOR, WHOLE MILK POWDER, SOY LECITHIN [EMULSIFIER] & VANILLA), SUGAR, ARTIFICIAL COLOR (FD&C BLUE NO. 1, BLUE NO. 1 LAKE, BLUE NO. 2 LAKE, YELLOW NO. 5, YELLOW NO. 5 LAKE, YELLOW NO. 6, YELLOW NO. 6 LAKE, RED NO. 40, RED NO. 40 LAKE, SORBITOL, TITANIUM DIOXIDE, PHOSPHORIC ACID, METHYL AND PROPYL PARABENS, AND CARAMEL), CORN SYRUP, WAX & DEXTRIN), SUNFLOWER SEEDS (SUNFLOWER SEEDS, CANOLA OIL, SALT), CASHEWS, PEANUT OIL, SALT.\",\"NaN\",\"WHOLE WHEAT FLOUR, WATER, WHEAT GLUTEN, BROWN SUGAR, RYE FLAKES, WHEAT FLAKES, HONEY, CONTAINS 2% OR LESS OF THE FOLLOWING: STEEL CUT OATS, OAT FIBER, CRACKED WHEAT, YEAST, SOYBEAN AND/OR CANOLA OIL, CULTURED WHEAT FLOUR, SALT, MOLASSES, FLAKED WHEAT, OATMEAL, RYE MEAL, FLAXSEED, MILLET, PAR BOILED BROWN RICE, BARLEY FLAKES, DEFATTED SOY GRITS, TRITICALE, MALTED BARLEY FLOUR, SOY LECITHIN, VINEGAR, ENZYMES.\",\"BROWN RICE, STEAK (BEEF, BEEF STOCK, LESS THAN 2% OF RICE STARCH, SEA SALT, LEMON JUICE CONCENTRATE, VINEGAR, SPICES), PINTO BEANS, WATER, LIME JUICE, PEPPER JACK CHEESE (PASTEURIZED MILK, CHEESE CULTURES, SALT, RED & GREEN JALAPENO PEPPERS, ENZYMES), ROASTED CORN, ROASTED TOMATOES, CILANTRO, TOMATOES, RED BELL PEPPERS, CHILI PEPPER, BLACK BEANS, CANOLA OIL, CORN STARCH, ONIONS, CHEDDAR CHEESE (PASTEURIZED MILK, CHEESE CULTURES, SALT, ENZYMES & ANNATTO), RED ONIONS, APPLE CIDER VINEGAR, CHIPOTLE ADOBO PUREE (WATER, ONION, DRIED CHIPOTLE PEPPER, TOMATO PASTE, CANOLA OIL, SUGAR, VINEGAR, SALT, GARLIC PUREE, NATURAL SMOKE FLAVORING, WHITE PEPPER, OREGANO, BAY LEAVES), TOMATO PASTE (TOMATOES), SEA SALT, CHILI PEPPER, SEASONING BLEND (SPICES, GARLIC POWDER), GARLIC (GARLIC, WATER), GROUND CHILI PEPPER, SUGAR, GARLIC POWDER, GROUND BAY LEAF, ALLSPICE, CUMIN, GROUND OREGANO.\",\"CABBAGE, WATER, SUGAR, SALAD DRESSING (WATER, SOYBEAN OIL, HIGH FRUCTOSE CORN SYRUP, DISTILLED VINEGAR, EGG YOLKS, FOOD STARCH-MODIFIED, CORN SYRUP, SALT AND PAPRIKA), CARROTS, APPLE CIDER VINEGAR, MODIFIED CORN STARCH, CITRIC ACID, ASCORBIC ACID, SALT.\",\"BEEF, PORK , STUFFED OLIVES (OLIVES, WATER, MINCED PIMENTO, SALT, LESS THAN 2% OF LACTIC ACID , SODIUM ALGINATE, GUAR GUM , CALCIUM CHLORIDE), WATER,SWEET RED PEPPERS (FRESH SWEET RED PEPPERS ,WATER ,CITRIC ACID ), SALT , SUGAR, DEXTROSE , SODIUM PHOSPHATE, FLAVORINGS , SODIUM ERYTHORBATE, SODIUM NITRITE.\",\"RICE, WHITE MEAT CHICKEN (WHITE CHICKEN MEAT, WATER, RICE STARCH, SALT), BLACK BEANS, ROASTED TOMATILLOS, WATER, CANOLA OIL, CHEDDAR CHEESE (PASTEURIZED MILK, CHEESE CULTURES, SALT, ENZYMES & ANNATTO), TOMATILLO, RED BELL PEPPERS, ROASTED CORN, CILANTRO, LIME JUICE, RED ONIONS, CORN STARCH, GARLIC (GARLIC, WATER), JALAPENOS, SEA SALT, SUGAR, OLIVE OIL, GARLIC POWDER, ONION POWDER, BLACK PEPPER, DRIED PARSLEY.\",\"ORGANIC CANE SUGAR.\",\"ORGANIC FLAX SEEDS.\"],\"nutrient\":[\"Vitamin C\",\"TOTAL DIETARY FIBER\",\"TOTAL DIETARY FIBER\",\"Calcium\",\"Calcium\",\"Calcium\",\"Calcium\",\"TOTAL DIETARY FIBER\",\"Carbohydrates, Calculated\",\"FAT\",\"TOTAL DIETARY FIBER\",\"Calcium\",\"Calcium\",\"Calcium\",\"TOTAL DIETARY FIBER\",\"Carbohydrates, Calculated\",\"Iron\",\"Calcium\",\"FAT\",\"FAT\",\"Calcium\",\"FAT\",\"Carbohydrates, Calculated\",\"Calcium\",\"Calcium\",\"Calcium\",\"Calcium\",\"Calcium\",\"Calcium\",\"Carbohydrates, Calculated\",\"Iron\",\"FAT\",\"FAT\",\"Calcium\",\"TOTAL DIETARY FIBER\",\"TOTAL DIETARY FIBER\",\"FAT\",\"Calcium\",\"Calcium\",\"FAT\",\"FAT\",\"TOTAL DIETARY FIBER\",\"Calcium\",\"FAT\",\"Calcium\",\"Calcium\",\"Calcium\",\"Calcium\",\"Calcium\",\"Calcium\",\"Calcium\",\"Calcium\",\"Calcium\",\"TOTAL DIETARY FIBER\",\"FAT\",\"Carbohydrates, Calculated\",\"FAT\",\"Carbohydrates, Calculated\",\"TOTAL DIETARY FIBER\",\"TOTAL DIETARY FIBER\",\"Calcium\",\"Carbohydrates, Calculated\",\"FAT\",\"Calcium\",\"Carbohydrates, Calculated\",\"Carbohydrates, Calculated\",\"Carbohydrates, Calculated\",\"Carbohydrates, Calculated\",\"TOTAL DIETARY FIBER\",\"TOTAL DIETARY FIBER\",\"Carbohydrates, Calculated\",\"Carbohydrates, Calculated\",\"Calcium\",\"Carbohydrates, Calculated\",\"Calcium\",\"TOTAL DIETARY FIBER\",\"Carbohydrates, Calculated\",\"Carbohydrates, Calculated\",\"Calcium\",\"Calcium\",\"Iron\",\"Carbohydrates, Calculated\",\"TOTAL DIETARY FIBER\",\"Iron\",\"Carbohydrates, Calculated\",\"Calcium\",\"FAT\",\"Vitamin D\",\"Calcium\",\"Calcium\",\"Calcium\",\"Calcium\",\"Carbohydrates, Calculated\",\"Calcium\",\"Calcium\",\"Calcium\",\"Calcium\",\"Calcium\",\"FAT\",\"Calcium\"],\"nutrient_id\":[1162,1079,1079,1087,1087,1087,1087,1079,1005,1004,1079,1087,1087,1087,1079,1005,1089,1087,1004,1004,1087,1004,1005,1087,1087,1087,1087,1087,1087,1005,1089,1004,1004,1087,1079,1079,1004,1087,1087,1004,1004,1079,1087,1004,1087,1087,1087,1087,1087,1087,1087,1087,1087,1079,1004,1005,1004,1005,1079,1079,1087,1005,1004,1087,1005,1005,1005,1005,1079,1079,1005,1005,1087,1005,1087,1079,1005,1005,1087,1087,1089,1005,1079,1089,1005,1087,1004,1110,1087,1087,1087,1087,1005,1087,1087,1087,1087,1087,1004,1087]},\"selected\":{\"id\":\"1050\"},\"selection_policy\":{\"id\":\"1049\"}},\"id\":\"1002\",\"type\":\"ColumnDataSource\"},{\"attributes\":{\"axis_label\":\"T-SNE 2\",\"formatter\":{\"id\":\"1046\"},\"ticker\":{\"id\":\"1017\"}},\"id\":\"1016\",\"type\":\"LinearAxis\"},{\"attributes\":{\"axis_label\":\"T-SNE 1\",\"formatter\":{\"id\":\"1048\"},\"ticker\":{\"id\":\"1013\"}},\"id\":\"1012\",\"type\":\"LinearAxis\"},{\"attributes\":{},\"id\":\"1013\",\"type\":\"BasicTicker\"},{\"attributes\":{\"active_drag\":\"auto\",\"active_inspect\":\"auto\",\"active_multi\":null,\"active_scroll\":\"auto\",\"active_tap\":\"auto\",\"tools\":[{\"id\":\"1020\"},{\"id\":\"1021\"},{\"id\":\"1022\"},{\"id\":\"1023\"},{\"id\":\"1024\"},{\"id\":\"1025\"},{\"id\":\"1041\"}]},\"id\":\"1027\",\"type\":\"Toolbar\"},{\"attributes\":{},\"id\":\"1008\",\"type\":\"LinearScale\"},{\"attributes\":{\"overlay\":{\"id\":\"1026\"}},\"id\":\"1022\",\"type\":\"BoxZoomTool\"},{\"attributes\":{\"callback\":null,\"tooltips\":[[\"food\",\"@food\"],[\"nutrition\",\"@nutrient\"]]},\"id\":\"1041\",\"type\":\"HoverTool\"},{\"attributes\":{\"fill_alpha\":{\"value\":0.8},\"fill_color\":{\"value\":\"#FF7373\"},\"line_alpha\":{\"value\":0.8},\"line_color\":{\"value\":\"#FF7373\"},\"size\":{\"units\":\"screen\",\"value\":10},\"x\":{\"field\":\"X\"},\"y\":{\"field\":\"Y\"}},\"id\":\"1035\",\"type\":\"Circle\"},{\"attributes\":{},\"id\":\"1023\",\"type\":\"SaveTool\"},{\"attributes\":{\"fill_alpha\":{\"value\":0.1},\"fill_color\":{\"value\":\"#FF7373\"},\"line_alpha\":{\"value\":0.1},\"line_color\":{\"value\":\"#FF7373\"},\"size\":{\"units\":\"screen\",\"value\":10},\"x\":{\"field\":\"X\"},\"y\":{\"field\":\"Y\"}},\"id\":\"1036\",\"type\":\"Circle\"},{\"attributes\":{},\"id\":\"1020\",\"type\":\"PanTool\"}],\"root_ids\":[\"1003\"]},\"title\":\"Bokeh Application\",\"version\":\"2.2.3\"}};\n",
              "  var render_items = [{\"docid\":\"ff8f7e37-174b-47c3-ab18-5187cb00b1b6\",\"root_ids\":[\"1003\"],\"roots\":{\"1003\":\"f14c6139-18e3-4174-9981-8e44dee8dacc\"}}];\n",
              "  root.Bokeh.embed.embed_items_notebook(docs_json, render_items);\n",
              "\n",
              "  }\n",
              "  if (root.Bokeh !== undefined) {\n",
              "    embed_document(root);\n",
              "  } else {\n",
              "    var attempts = 0;\n",
              "    var timer = setInterval(function(root) {\n",
              "      if (root.Bokeh !== undefined) {\n",
              "        clearInterval(timer);\n",
              "        embed_document(root);\n",
              "      } else {\n",
              "        attempts++;\n",
              "        if (attempts > 100) {\n",
              "          clearInterval(timer);\n",
              "          console.log(\"Bokeh: ERROR: Unable to run BokehJS code because BokehJS library is missing\");\n",
              "        }\n",
              "      }\n",
              "    }, 10, root)\n",
              "  }\n",
              "})(window);"
            ],
            "application/vnd.bokehjs_exec.v0+json": ""
          },
          "metadata": {
            "tags": [],
            "application/vnd.bokehjs_exec.v0+json": {
              "id": "1003"
            }
          }
        }
      ]
    },
    {
      "cell_type": "code",
      "metadata": {
        "scrolled": true,
        "id": "4jYO3EvuBB07",
        "outputId": "68b9887c-5b7d-489c-ff1a-68633fca330c"
      },
      "source": [
        "# Fit the pipeline to samples\n",
        "pipeline.fit(A)\n",
        "\n",
        "# Calculate the cluster labels: labels\n",
        "labels = pipeline.predict(A)\n",
        "\n",
        "# Create a DataFrame with labels and species as columns: df\n",
        "df1 = pd.DataFrame({'Item':xs,'Ingredients':ys})\n",
        "\n",
        "# Create crosstab: ct\n",
        "ct = pd.crosstab(df1['Item'],df1['Ingredients'])\n",
        "\n",
        "# Display ct\n",
        "print(ct)"
      ],
      "execution_count": null,
      "outputs": [
        {
          "output_type": "stream",
          "text": [
            "Ingredients  -3.206084  -3.199084  -3.003542  -2.939594  -2.918820  -2.669957  \\\n",
            "Item                                                                            \n",
            "-7.036707            0          0          0          0          0          0   \n",
            "-6.867431            0          0          0          0          0          0   \n",
            "-6.664611            0          0          0          0          0          0   \n",
            "-6.655699            0          0          0          0          0          0   \n",
            "-6.538880            0          0          0          0          0          0   \n",
            "...                ...        ...        ...        ...        ...        ...   \n",
            " 1.220327            0          0          0          0          0          0   \n",
            " 2.984963            0          0          0          0          0          0   \n",
            " 2.985504            0          0          0          0          0          0   \n",
            " 2.985600            0          0          0          0          0          0   \n",
            " 2.987490            0          0          0          0          0          0   \n",
            "\n",
            "Ingredients  -2.484236  -2.183280  -2.084054  -2.083801  ...   2.815283  \\\n",
            "Item                                                     ...              \n",
            "-7.036707            0          0          0          0  ...          0   \n",
            "-6.867431            0          0          0          0  ...          0   \n",
            "-6.664611            0          0          0          0  ...          0   \n",
            "-6.655699            0          0          0          0  ...          0   \n",
            "-6.538880            0          1          0          0  ...          0   \n",
            "...                ...        ...        ...        ...  ...        ...   \n",
            " 1.220327            0          0          0          0  ...          0   \n",
            " 2.984963            0          0          0          0  ...          0   \n",
            " 2.985504            0          0          0          0  ...          0   \n",
            " 2.985600            0          0          0          0  ...          0   \n",
            " 2.987490            0          0          0          0  ...          0   \n",
            "\n",
            "Ingredients   3.120471   3.224510   3.257821   3.374020   3.532464   3.835055  \\\n",
            "Item                                                                            \n",
            "-7.036707            0          0          0          0          0          0   \n",
            "-6.867431            0          0          0          0          0          0   \n",
            "-6.664611            0          0          0          0          0          0   \n",
            "-6.655699            0          0          0          0          0          0   \n",
            "-6.538880            0          0          0          0          0          0   \n",
            "...                ...        ...        ...        ...        ...        ...   \n",
            " 1.220327            0          0          0          0          0          0   \n",
            " 2.984963            0          0          0          0          0          0   \n",
            " 2.985504            0          0          0          0          0          0   \n",
            " 2.985600            0          0          0          0          0          0   \n",
            " 2.987490            0          0          0          0          0          0   \n",
            "\n",
            "Ingredients   4.384294   4.449339   4.665923  \n",
            "Item                                          \n",
            "-7.036707            0          0          0  \n",
            "-6.867431            0          0          0  \n",
            "-6.664611            0          0          0  \n",
            "-6.655699            0          0          0  \n",
            "-6.538880            0          0          0  \n",
            "...                ...        ...        ...  \n",
            " 1.220327            0          0          0  \n",
            " 2.984963            0          0          0  \n",
            " 2.985504            0          0          0  \n",
            " 2.985600            0          0          0  \n",
            " 2.987490            0          0          0  \n",
            "\n",
            "[99 rows x 99 columns]\n"
          ],
          "name": "stdout"
        }
      ]
    },
    {
      "cell_type": "code",
      "metadata": {
        "id": "YxOnT0k9BB07"
      },
      "source": [
        "# Create a TSNE instance: model\n",
        "model = TSNE(learning_rate=50)\n",
        "\n",
        "# Apply fit_transform to normalized_movements: tsne_features\n",
        "tsne_features = model.fit_transform(A)\n",
        "\n",
        "# Select the 0th feature: xs\n",
        "xs = tsne_features[:, 0]\n",
        "# Select the 1th feature: ys\n",
        "ys = tsne_features[:, 1]\n",
        "\n",
        "# Scatter plot\n",
        "plt.scatter(xs, ys, alpha=0.5);\n",
        "\n",
        "# Annotate the points\n",
        "for x, y, corpus in zip(xs, ys, corpus):\n",
        "    plt.annotate(corpus, (x, y), fontsize=5, alpha=0.75)\n",
        "plt.show()\n"
      ],
      "execution_count": null,
      "outputs": []
    },
    {
      "cell_type": "code",
      "metadata": {
        "id": "YquhABclBB07"
      },
      "source": [
        ""
      ],
      "execution_count": null,
      "outputs": []
    }
  ]
}